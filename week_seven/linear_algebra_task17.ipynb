{
 "cells": [
  {
   "cell_type": "markdown",
   "id": "2371b292",
   "metadata": {},
   "source": [
    "## **LINEAR ALGEBRA CLASS TASK**"
   ]
  },
  {
   "cell_type": "markdown",
   "id": "145617fd",
   "metadata": {},
   "source": [
    "### **Case Study: Student Performance Analysis with Linear Algebra**"
   ]
  },
  {
   "cell_type": "markdown",
   "id": "680f1c48",
   "metadata": {},
   "source": [
    "**Add-on Exercises**\n",
    "1. Create a new 5×4 matrix of scores (5 students, 4 subjects). Compute each student’s total\n",
    "score and the average per subject.\n",
    "2. Suppose one subject (e.g., Science) is 3 times more important than others. Apply scalar\n",
    "multiplication and recompute totals.\n",
    "3. Define new weights for grading (e.g., 40%, 20%, 30%, 10%). Compute final grades using\n",
    "matrix multiplication.\n",
    "4. Compare Student 3 and Student 4 using vector subtraction. Who performed better in each\n",
    "subject?"
   ]
  },
  {
   "cell_type": "code",
   "execution_count": 2,
   "id": "db2eeeb1",
   "metadata": {},
   "outputs": [],
   "source": [
    "# Import necessary library\n",
    "import numpy as np"
   ]
  },
  {
   "cell_type": "code",
   "execution_count": 32,
   "id": "52fe55e9",
   "metadata": {},
   "outputs": [],
   "source": [
    "# Creating a 5x4 matrix (5 students and 4 subjects)\n",
    "# Meaning 5 rows and 4 columns\n",
    "# Creating the student's data below\n",
    "'''\n",
    "students            Science     English     Maths           CCA\n",
    "Student 1              75          70        90             65     \n",
    "Student 2              80          72        80             62     \n",
    "Student 3              65          55        90             70     \n",
    "Student 4              75          90        70             95     \n",
    "Student 5              73          89        69             80     \n",
    "'''\n",
    "\n",
    "student_data = np.array([[75, 70, 90, 65],\n",
    "                        [80, 72, 80, 62],\n",
    "                        [65, 55, 90, 70],\n",
    "                        [75, 90, 70, 95],\n",
    "                        [73, 89, 69, 80]]\n",
    "                        )"
   ]
  },
  {
   "cell_type": "code",
   "execution_count": 33,
   "id": "ff970aaa",
   "metadata": {},
   "outputs": [
    {
     "data": {
      "text/plain": [
       "array([[75, 70, 90, 65],\n",
       "       [80, 72, 80, 62],\n",
       "       [65, 55, 90, 70],\n",
       "       [75, 90, 70, 95],\n",
       "       [73, 89, 69, 80]])"
      ]
     },
     "execution_count": 33,
     "metadata": {},
     "output_type": "execute_result"
    }
   ],
   "source": [
    "student_data"
   ]
  },
  {
   "cell_type": "markdown",
   "id": "9661decc",
   "metadata": {},
   "source": [
    "1. Create a new 5×4 matrix of scores (5 students, 4 subjects). Compute each student’s total\n",
    "score and the average per subject."
   ]
  },
  {
   "cell_type": "code",
   "execution_count": 4,
   "id": "4087c846",
   "metadata": {},
   "outputs": [
    {
     "name": "stdout",
     "output_type": "stream",
     "text": [
      "The total score for student 1 is: 300\n",
      "The total score for student 2 is: 294\n",
      "The total score for student 3 is: 280\n",
      "The total score for student 4 is: 330\n",
      "The total score for student 5 is: 311\n"
     ]
    }
   ],
   "source": [
    "# Calculating each Student's total score\n",
    "student1 = np.sum(student_data[0,:])\n",
    "print(f\"The total score for student 1 is: {student1}\")\n",
    "\n",
    "student2 = np.sum(student_data[1,:])\n",
    "print(f\"The total score for student 2 is: {student2}\")\n",
    "\n",
    "student3 = np.sum(student_data[2,:])\n",
    "print(f\"The total score for student 3 is: {student3}\")\n",
    "\n",
    "student4 = np.sum(student_data[3,:])\n",
    "print(f\"The total score for student 4 is: {student4}\")\n",
    "\n",
    "student5 = np.sum(student_data[4,:])\n",
    "print(f\"The total score for student 5 is: {student5}\")\n",
    "\n",
    "\n"
   ]
  },
  {
   "cell_type": "code",
   "execution_count": 27,
   "id": "3ee2ebc9",
   "metadata": {},
   "outputs": [
    {
     "name": "stdout",
     "output_type": "stream",
     "text": [
      "\n",
      "The total score for Science: 368\n",
      "\tThe average score for Science: 73.6\n",
      "\n",
      "The total score for English: 376\n",
      "\tThe average score for English: 75.2\n",
      "\n",
      "The total score for Maths: 399\n",
      "\tThe average score for Maths: 79.8\n",
      "\n",
      "The total score for CCA: 372\n",
      "\tThe average score for CCA: 74.4\n"
     ]
    }
   ],
   "source": [
    "# Getting the total score per subject and taking the average\n",
    "science = np.sum(student_data[:,0])\n",
    "print(f\"\\nThe total score for Science: {science}\")\n",
    "average_science = science / student_data.shape[0]\n",
    "print(f\"\\tThe average score for Science: {average_science}\")\n",
    "\n",
    "english = np.sum(student_data[:,1])\n",
    "print(f\"\\nThe total score for English: {english}\")\n",
    "average_english = english / student_data.shape[0]\n",
    "print(f\"\\tThe average score for English: {average_english}\")\n",
    "\n",
    "maths = np.sum(student_data[:,2])\n",
    "print(f\"\\nThe total score for Maths: {maths}\")\n",
    "average_maths = maths / student_data.shape[0]\n",
    "print(f\"\\tThe average score for Maths: {average_maths}\")\n",
    "\n",
    "cca = np.sum(student_data[:,3])\n",
    "print(f\"\\nThe total score for CCA: {cca}\")\n",
    "average_cca = cca / student_data.shape[0]\n",
    "print(f\"\\tThe average score for CCA: {average_cca}\")\n"
   ]
  },
  {
   "cell_type": "markdown",
   "id": "20525db0",
   "metadata": {},
   "source": [
    "2. Suppose one subject (e.g., Science) is 3 times more important than others. Apply scalar\n",
    "multiplication and recompute totals."
   ]
  },
  {
   "cell_type": "code",
   "execution_count": 37,
   "id": "b5228b62",
   "metadata": {},
   "outputs": [
    {
     "name": "stdout",
     "output_type": "stream",
     "text": [
      "The new data after scalar multiplication is:\n",
      "[[225  70  90  65]\n",
      " [240  72  80  62]\n",
      " [195  55  90  70]\n",
      " [225  90  70  95]\n",
      " [219  89  69  80]]\n",
      "\n",
      "The new total score for Science: 1104\n",
      "\n",
      "The new total score for English: 376\n",
      "\n",
      "The new total score for Maths: 399\n",
      "\n",
      "The new total score for CCA: 372\n"
     ]
    }
   ],
   "source": [
    "# Assuming Science is 3 times greater over other subjects\n",
    "\n",
    "subject_scalar = [3, 1, 1, 1]\n",
    "\n",
    "# Scalar multiplication\n",
    "new_scalar_data = np.array([np.dot(subject_scalar[0], student_data[:, 0]), np.dot(subject_scalar[1], student_data[:, 1]), np.dot(subject_scalar[2], student_data[:, 2]), np.dot(subject_scalar[3], student_data[:, 3])]).transpose()\n",
    "print(f\"The new data after scalar multiplication is:\\n{new_scalar_data}\")\n",
    "\n",
    "#  Recomputing totals across each subjects\n",
    "new_science = np.sum(new_scalar_data[:, 0])\n",
    "print(f\"\\nThe new total score for Science: {new_science}\")\n",
    "\n",
    "new_english = np.sum(new_scalar_data[:, 1])\n",
    "print(f\"\\nThe new total score for English: {new_english}\")\n",
    "\n",
    "new_maths = np.sum(new_scalar_data[:, 2])\n",
    "print(f\"\\nThe new total score for Maths: {new_maths}\")\n",
    "\n",
    "new_cca = np.sum(new_scalar_data[:, 3])\n",
    "print(f\"\\nThe new total score for CCA: {new_cca}\")\n"
   ]
  }
 ],
 "metadata": {
  "kernelspec": {
   "display_name": "a_env (3.13.7)",
   "language": "python",
   "name": "python3"
  },
  "language_info": {
   "codemirror_mode": {
    "name": "ipython",
    "version": 3
   },
   "file_extension": ".py",
   "mimetype": "text/x-python",
   "name": "python",
   "nbconvert_exporter": "python",
   "pygments_lexer": "ipython3",
   "version": "3.13.7"
  }
 },
 "nbformat": 4,
 "nbformat_minor": 5
}
