{
 "cells": [
  {
   "cell_type": "markdown",
   "id": "62d11bf1",
   "metadata": {},
   "source": [
    "# **Class Task 3**"
   ]
  },
  {
   "cell_type": "markdown",
   "id": "0d61472d",
   "metadata": {},
   "source": [
    "Let A = `[[2 -1] [0 3]]` B = `[[1 4] [-2 5]]` and let the scalars `(c = 2),(d = 3)`"
   ]
  },
  {
   "cell_type": "markdown",
   "id": "024136d9",
   "metadata": {},
   "source": [
    "#### **Question a**\n",
    "cA = 2[[2 -1] [0 3]]\n",
    "\n",
    "    = [[4 -2] [0 6]]\n",
    "\n",
    "dB = 3[[1 4] [-2 5]]\n",
    "\n",
    "    = [[3 12] [-6 15]]\n",
    "\n",
    "`(c + d)A` = (2 + 3)[[2 -1] [0 3]]\n",
    "         = 5[[2 -1] [0 3]]\n",
    "\n",
    "         = [[10 -5] [0 15]]"
   ]
  },
  {
   "cell_type": "markdown",
   "id": "3059c4af",
   "metadata": {},
   "source": [
    "#### **Question b**"
   ]
  },
  {
   "cell_type": "markdown",
   "id": "a1990e1d",
   "metadata": {},
   "source": [
    "1. For the Associativity of Scalar Multiplication:\n",
    "(c.d)A = c.(dA)\n",
    "\n",
    "(2.3)[[2 -1] [0 3]] = 6[[2 -1] [0 3]]\n",
    "    = [[12 -6] [0 18]]\n",
    "\n",
    "2.(3[[2 -1] [0 3]]) = 2.([[6 -3] [0 9]])\n",
    "    = [[12 -6] [0 18]]\n",
    "\n",
    "Therefore, `(c.d)A = c.(dA)` is satisfied\n",
    "\n",
    "2. For the Distributivity over Matrix Addition:\n",
    "c(A + B) = cA + cB\n",
    "\n",
    "2([[2 -1] [0 3]] + [[1 4] [-2 5]]) = 2([[3 3] [-2 8]])\n",
    "\n",
    "`c(A + B)` = [[6 6] [-4 16]]\n",
    "\n",
    "cA = 2([[2 -1] [0 3]]) \n",
    "\n",
    "    = [[4 -2] [0 6]]\n",
    "\n",
    "cB = 2([[1 4] [-2 5]])\n",
    "\n",
    "    = [[2 8] [-4 10]]\n",
    "\n",
    "`cA + cB` = [[4 -2] [0 6]] + [[2 8] [-4 10]]\n",
    "\n",
    "          = [[6 6] [-4 16]]\n",
    "\n",
    "Therefore `c(A + B) = cA + cB` is also satisfied\n",
    "\n",
    "\n",
    "3. Distributivity over Scalar Addition: \n",
    "(c + d)A = cA + dA\n",
    "\n",
    "`(c + d)A` = (2 + 3)[[2 -1] [0 3]]\n",
    "           = 5([[2 -1] [0 3]])\n",
    "\n",
    "`(c + d)A` = [[10 -5] [0 15]]\n",
    "\n",
    "\n",
    "`cA + dA` = 2([[2 -1] [0 3]]) + 3([[2 -1] [0 3]])\n",
    "\n",
    "          = [[4 -2] [0 6]] + [[6 -3] [0 9]]\n",
    "`cA + dA` = [[10 -5] [0 15]]\n",
    "\n",
    "Therefore `(c + d)A = cA + dA` is satisfied as well."
   ]
  },
  {
   "cell_type": "markdown",
   "id": "49fa1f20",
   "metadata": {},
   "source": [
    "#### **Question c**"
   ]
  },
  {
   "cell_type": "markdown",
   "id": "cca6db7a",
   "metadata": {},
   "source": [
    "Find the Transpose of both matrices\n",
    "\n",
    "`A^T = [[2 0] [-1 3]]`\n",
    "\n",
    "`B^T = [[1 -2] [4 5]]`"
   ]
  },
  {
   "cell_type": "markdown",
   "id": "48f7513f",
   "metadata": {},
   "source": [
    "#### **Question d**"
   ]
  },
  {
   "cell_type": "markdown",
   "id": "a54707e8",
   "metadata": {},
   "source": [
    "Check if (A) and (B) are invertible by computing their determinants. If they are invertible, find A^-1 and B^-1\n",
    "\n",
    "- To check if A is invertible, I need to check if det(A) != 0, if otherwise, A is not invertible, hence A^-1 can't be solved for. This is same to as B.\n",
    "\n",
    "det(A) = 2(3) - (-1(0)) = 6 -0 = 6\n",
    "\n",
    "Since det(A) != 0, "
   ]
  }
 ],
 "metadata": {
  "kernelspec": {
   "display_name": "a_env",
   "language": "python",
   "name": "python3"
  },
  "language_info": {
   "name": "python",
   "version": "3.12.7"
  }
 },
 "nbformat": 4,
 "nbformat_minor": 5
}
