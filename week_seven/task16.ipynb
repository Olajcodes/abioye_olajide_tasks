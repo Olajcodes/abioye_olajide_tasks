{
 "cells": [
  {
   "cell_type": "code",
   "execution_count": 2,
   "id": "73176c27",
   "metadata": {},
   "outputs": [],
   "source": [
    "# Import the necessary library\n",
    "import numpy as np\n"
   ]
  },
  {
   "cell_type": "code",
   "execution_count": 6,
   "id": "f6c5055b",
   "metadata": {},
   "outputs": [
    {
     "name": "stdout",
     "output_type": "stream",
     "text": [
      "Matrix A is:\n",
      "[[ 2 -1]\n",
      " [ 0  3]]\n",
      "\n",
      "Matrix B is:\n",
      "[[ 1  4]\n",
      " [-2  5]]\n",
      "\n",
      "cA is:\n",
      "[[ 4 -2]\n",
      " [ 0  6]]\n",
      "\n",
      "dB is:\n",
      "[[ 3 12]\n",
      " [-6 15]]\n",
      "\n",
      "(c+d)A is:\n",
      "[[10 -5]\n",
      " [ 0 15]]\n"
     ]
    }
   ],
   "source": [
    "matrix_A = np.array([[2, -1], [0, 3]])\n",
    "\n",
    "matrix_B = np.array([[1, 4], [-2, 5]])\n",
    "\n",
    "# Scalar values\n",
    "scalar_c = 2\n",
    "\n",
    "scalar_d = 3\n",
    "\n",
    "# Computation \n",
    "# Broadcasting was done below. It is a mechanism that allows NumPy to perform operations on arrays of different shapes.\n",
    "computed_cA = scalar_c*(matrix_A)\n",
    "\n",
    "computed_dB = scalar_d*(matrix_B)\n",
    "\n",
    "computed_ = (scalar_c + scalar_d)*(matrix_A)\n",
    "\n",
    "print(f\"Matrix A is:\\n{matrix_A}\")\n",
    "\n",
    "print(f\"\\nMatrix B is:\\n{matrix_B}\")\n",
    "\n",
    "print(f\"\\ncA is:\\n{computed_cA}\")\n",
    "\n",
    "print(f\"\\ndB is:\\n{computed_dB}\")\n",
    "\n",
    "print(f\"\\n(c+d)A is:\\n{computed_}\")\n"
   ]
  }
 ],
 "metadata": {
  "kernelspec": {
   "display_name": "a_env",
   "language": "python",
   "name": "python3"
  },
  "language_info": {
   "codemirror_mode": {
    "name": "ipython",
    "version": 3
   },
   "file_extension": ".py",
   "mimetype": "text/x-python",
   "name": "python",
   "nbconvert_exporter": "python",
   "pygments_lexer": "ipython3",
   "version": "3.12.7"
  }
 },
 "nbformat": 4,
 "nbformat_minor": 5
}
