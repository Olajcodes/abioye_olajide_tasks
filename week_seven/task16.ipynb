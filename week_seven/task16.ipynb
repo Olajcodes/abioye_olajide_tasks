{
 "cells": [
  {
   "cell_type": "code",
   "execution_count": 2,
   "id": "73176c27",
   "metadata": {},
   "outputs": [],
   "source": [
    "# Import the necessary library\n",
    "import numpy as np\n"
   ]
  },
  {
   "cell_type": "code",
   "execution_count": null,
   "id": "f6c5055b",
   "metadata": {},
   "outputs": [
    {
     "name": "stdout",
     "output_type": "stream",
     "text": [
      "Matrix A is:\n",
      "[[ 2 -1]\n",
      " [ 0  3]]\n",
      "\n",
      "Matrix B is:\n",
      "[[ 1  4]\n",
      " [-2  5]]\n",
      "\n",
      "cA is:\n",
      "[[ 4 -2]\n",
      " [ 0  6]]\n",
      "\n",
      "dB is:\n",
      "[[ 3 12]\n",
      " [-6 15]]\n",
      "\n",
      "(c+d)A is:\n",
      "[[10 -5]\n",
      " [ 0 15]]\n"
     ]
    }
   ],
   "source": [
    "# QUESTION A\n",
    "\n",
    "matrix_A = np.array([[2, -1], [0, 3]])\n",
    "\n",
    "matrix_B = np.array([[1, 4], [-2, 5]])\n",
    "\n",
    "# Scalar values\n",
    "scalar_c = 2\n",
    "\n",
    "scalar_d = 3\n",
    "\n",
    "# Computation \n",
    "# Broadcasting was done below. It is a mechanism that allows NumPy to perform operations on arrays of different shapes.\n",
    "computed_cA = scalar_c*(matrix_A)\n",
    "\n",
    "computed_dB = scalar_d*(matrix_B)\n",
    "\n",
    "computed_ = (scalar_c + scalar_d)*(matrix_A)\n",
    "\n",
    "print(f\"Matrix A is:\\n{matrix_A}\")\n",
    "\n",
    "print(f\"\\nMatrix B is:\\n{matrix_B}\")\n",
    "\n",
    "print(f\"\\ncA is:\\n{computed_cA}\")\n",
    "\n",
    "print(f\"\\ndB is:\\n{computed_dB}\")\n",
    "\n",
    "print(f\"\\n(c+d)A is:\\n{computed_}\")\n"
   ]
  },
  {
   "cell_type": "code",
   "execution_count": 17,
   "id": "dfeacc5a",
   "metadata": {},
   "outputs": [
    {
     "name": "stdout",
     "output_type": "stream",
     "text": [
      "\n",
      "The associativity of scalar multiplication property is: True\n",
      "\n",
      "The distributivity over Matrix Addition property is: True\n",
      "\n",
      "The distributivity over Scalar Addition property is: True\n"
     ]
    }
   ],
   "source": [
    "# QUESTION B\n",
    "# 1. For the Associativity of Scalar Multiplication:\n",
    "# (c.d)A = c.(dA)\n",
    "lhs_operation = (scalar_c * scalar_d)*matrix_A\n",
    "rhs_operation = scalar_c * (scalar_d * matrix_A)\n",
    "print(f\"\\nThe associativity of scalar multiplication property is: {np.array_equal(lhs_operation, rhs_operation)}\")\n",
    "\n",
    "# 2. For the Distributivity over Matrix Addition:\n",
    "# c(A + B) = cA + cB\n",
    "lhs_operation2 = scalar_c * (matrix_A + matrix_B)\n",
    "rhs_operation2 = (scalar_c * matrix_A) + (scalar_c * matrix_B)\n",
    "print(f\"\\nThe distributivity over Matrix Addition property is: {np.array_equal(lhs_operation2, rhs_operation2)}\")\n",
    "\n",
    "# 3. Distributivity over Scalar Addition: \n",
    "# (c + d)A = cA + dA\n",
    "lhs_operation3 = (scalar_c + scalar_d) * matrix_A\n",
    "rhs_operation3 = (scalar_c * matrix_A) + (scalar_d * matrix_A)\n",
    "print(f\"\\nThe distributivity over Scalar Addition property is: {np.array_equal(lhs_operation3, rhs_operation3)}\")"
   ]
  },
  {
   "cell_type": "code",
   "execution_count": 9,
   "id": "468c1298",
   "metadata": {},
   "outputs": [
    {
     "name": "stdout",
     "output_type": "stream",
     "text": [
      "\n",
      "The transpose of matrix A is:\n",
      "[[ 2  0]\n",
      " [-1  3]]\n",
      "\n",
      "The transpose of matrix B is:\n",
      "[[ 1 -2]\n",
      " [ 4  5]]\n"
     ]
    }
   ],
   "source": [
    "# QUESTION C\n",
    "# Find the Transpose for both matrices\n",
    "\n",
    "matrix_A_transpose = matrix_A.transpose()\n",
    "print(f\"\\nThe transpose of matrix A is:\\n{matrix_A_transpose}\")\n",
    "\n",
    "\n",
    "matrix_B_transpose = matrix_B.T     # \".T\" ia also another method for finding transpose\n",
    "print(f\"\\nThe transpose of matrix B is:\\n{matrix_B_transpose}\")"
   ]
  }
 ],
 "metadata": {
  "kernelspec": {
   "display_name": "a_env",
   "language": "python",
   "name": "python3"
  },
  "language_info": {
   "codemirror_mode": {
    "name": "ipython",
    "version": 3
   },
   "file_extension": ".py",
   "mimetype": "text/x-python",
   "name": "python",
   "nbconvert_exporter": "python",
   "pygments_lexer": "ipython3",
   "version": "3.12.7"
  }
 },
 "nbformat": 4,
 "nbformat_minor": 5
}
