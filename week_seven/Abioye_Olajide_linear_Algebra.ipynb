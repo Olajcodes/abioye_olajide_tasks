{
 "cells": [
  {
   "cell_type": "markdown",
   "id": "dc465b6d",
   "metadata": {},
   "source": [
    "# **Class Task 2 Solution**"
   ]
  },
  {
   "cell_type": "markdown",
   "id": "f013ee76",
   "metadata": {},
   "source": [
    "#### **Question one**\n",
    "\n",
    "Matrix A contains **2 rows and 3 columns** while Matrix B contains **3 rows and 2 columns**"
   ]
  },
  {
   "cell_type": "markdown",
   "id": "6df90d2a",
   "metadata": {},
   "source": [
    "#### **Question Two**"
   ]
  },
  {
   "cell_type": "markdown",
   "id": "8af49abf",
   "metadata": {},
   "source": [
    "The matrices can be multiplied. For **(AB)**: the number of columns of matrix A which is **3** is equal to the number of rows of matrix B which is also **3**. Same applies to **(BA)**, which the number of columns of matrix B which is **2** is equal to the number of rows of matrix A which is **2**. Hence, it will be both"
   ]
  },
  {
   "cell_type": "markdown",
   "id": "a4fa5dce",
   "metadata": {},
   "source": [
    "#### **Question Three**"
   ]
  },
  {
   "cell_type": "code",
   "execution_count": null,
   "id": "ba08dc89",
   "metadata": {},
   "outputs": [
    {
     "name": "stdout",
     "output_type": "stream",
     "text": [
      "\n",
      "Matrix A:\n",
      "[[ 2 -1  3]\n",
      " [ 0  4  1]]\n",
      "============\n",
      "Matrix B:\n",
      "[[ 1  2]\n",
      " [-2  0]\n",
      " [ 5 -3]]\n",
      "\n",
      "===========================\n",
      "\n",
      "The Resulting matrix for A X B is:\n",
      "\n",
      "[[19 -5]\n",
      " [-3 -3]]\n",
      "\n",
      "============================\n",
      "\n",
      "The Resulting matrix for B X A is:\n",
      "\n",
      "[[  2   7   5]\n",
      " [ -4   2  -6]\n",
      " [ 10 -17  12]]\n"
     ]
    }
   ],
   "source": [
    "import numpy as np\n",
    "\n",
    "matrix_A = np.array([[2, -1, 3], [0, 4, 1]])\n",
    "print(f\"\\nMatrix A:\\n{matrix_A}\\n============\")\n",
    "\n",
    "matrix_B = np.array([[1, 2], [-2, 0], [5, -3]])\n",
    "print(f\"Matrix B:\\n{matrix_B}\")\n",
    "\n",
    "matrix_AB = matrix_A.dot(matrix_B)\n",
    "print(f\"\\n===========================\\n\")\n",
    "print(f\"The Resulting matrix for A X B is:\\n\\n{matrix_AB}\")\n",
    "\n",
    "\n",
    "matrix_BA = matrix_B.dot(matrix_A)\n",
    "print(f\"\\n============================\\n\")\n",
    "print(f\"The Resulting matrix for B X A is:\\n\\n{matrix_BA}\")"
   ]
  }
 ],
 "metadata": {
  "kernelspec": {
   "display_name": "Python 3",
   "language": "python",
   "name": "python3"
  },
  "language_info": {
   "name": "python",
   "version": "3.13.1"
  }
 },
 "nbformat": 4,
 "nbformat_minor": 5
}
