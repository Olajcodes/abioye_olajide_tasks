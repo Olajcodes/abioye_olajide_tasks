{
 "cells": [
  {
   "cell_type": "markdown",
   "id": "dc465b6d",
   "metadata": {},
   "source": [
    "# **Class Task 2 Solution**"
   ]
  },
  {
   "cell_type": "markdown",
   "id": "f013ee76",
   "metadata": {},
   "source": [
    "## **Question one**\n",
    "\n",
    "Matrix A contains **2 rows and 3 columns** while Matrix B contains **3 rows and 2 columns**"
   ]
  },
  {
   "cell_type": "markdown",
   "id": "6df90d2a",
   "metadata": {},
   "source": [
    "## **Question Two**"
   ]
  }
 ],
 "metadata": {
  "language_info": {
   "name": "python"
  }
 },
 "nbformat": 4,
 "nbformat_minor": 5
}
