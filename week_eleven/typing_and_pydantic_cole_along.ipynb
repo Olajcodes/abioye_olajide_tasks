{
 "cells": [
  {
   "cell_type": "code",
   "execution_count": 27,
   "id": "08a1016b",
   "metadata": {},
   "outputs": [],
   "source": [
    "def get_average(name: str, scores: list[float]) -> float:\n",
    "    average_score = sum(scores) / len(scores)\n",
    "    print(f\"{name}'s average score is {average_score}\")\n",
    "    return average_score"
   ]
  },
  {
   "cell_type": "code",
   "execution_count": 28,
   "id": "e4c280cf",
   "metadata": {},
   "outputs": [
    {
     "name": "stdout",
     "output_type": "stream",
     "text": [
      "Abdullateef's average score is 35.666666666666664\n"
     ]
    },
    {
     "data": {
      "text/plain": [
       "35.666666666666664"
      ]
     },
     "execution_count": 28,
     "metadata": {},
     "output_type": "execute_result"
    }
   ],
   "source": [
    "get_average(\"Abdullateef\", [23, 34, 50])"
   ]
  },
  {
   "cell_type": "code",
   "execution_count": 29,
   "id": "00576698",
   "metadata": {},
   "outputs": [],
   "source": [
    "def greet(name: str) -> None:\n",
    "    print(f\"Hello, {name}\")"
   ]
  },
  {
   "cell_type": "code",
   "execution_count": 30,
   "id": "53fd5aca",
   "metadata": {},
   "outputs": [
    {
     "name": "stdout",
     "output_type": "stream",
     "text": [
      "Hello, Abdullateef\n"
     ]
    }
   ],
   "source": [
    "greet(\"Abdullateef\")"
   ]
  },
  {
   "cell_type": "code",
   "execution_count": 31,
   "id": "1591714e",
   "metadata": {},
   "outputs": [
    {
     "data": {
      "text/plain": [
       "5.8"
      ]
     },
     "execution_count": 31,
     "metadata": {},
     "output_type": "execute_result"
    }
   ],
   "source": [
    "def add(a: int, b: int) -> int:\n",
    "    return a + b\n",
    "\n",
    "add(1.3, 4.5)"
   ]
  },
  {
   "cell_type": "code",
   "execution_count": 32,
   "id": "9bb13b61",
   "metadata": {},
   "outputs": [],
   "source": [
    "from typing import List, Dict, Union, Optional\n",
    "\n",
    "def process_scores(\n",
    "    scores: List[int],\n",
    "    info: Dict[str, Union[int, float]],\n",
    "    comment: Optional[str] = None) -> None:\n",
    "    print(\"Scores:\", scores)\n",
    "    print(\"Info\", info)\n",
    "    if comment:\n",
    "        print(\"Comment:\", comment)"
   ]
  },
  {
   "cell_type": "code",
   "execution_count": 33,
   "id": "d29591ce",
   "metadata": {},
   "outputs": [],
   "source": [
    "def get_fellow_id(id: int | str) -> str:\n",
    "    return f\"fellow ID: {id}\"\n",
    "\n",
    "# Same as \n",
    "\n",
    "def get_fellow_id(id: Union[int, str]) -> str:\n",
    "    return f\"fellow ID: {id}\""
   ]
  },
  {
   "cell_type": "code",
   "execution_count": 34,
   "id": "75473660",
   "metadata": {},
   "outputs": [
    {
     "data": {
      "text/plain": [
       "'fellow ID: 45'"
      ]
     },
     "execution_count": 34,
     "metadata": {},
     "output_type": "execute_result"
    }
   ],
   "source": [
    "get_fellow_id(45)"
   ]
  },
  {
   "cell_type": "code",
   "execution_count": 35,
   "id": "23886c2b",
   "metadata": {},
   "outputs": [],
   "source": [
    "from typing import Union\n",
    "\n",
    "def format_address(house_number: Union[int, str], street: str) -> str:\n",
    "    return f\"{house_number} {street}\""
   ]
  },
  {
   "cell_type": "code",
   "execution_count": 36,
   "id": "870c2006",
   "metadata": {},
   "outputs": [
    {
     "name": "stdout",
     "output_type": "stream",
     "text": [
      "23 Ajelogo Street\n",
      "23B Ajelogo Street\n"
     ]
    }
   ],
   "source": [
    "print(format_address(23, \"Ajelogo Street\"))\n",
    "print(format_address(\"23B\", \"Ajelogo Street\"))"
   ]
  },
  {
   "cell_type": "code",
   "execution_count": 37,
   "id": "6914a310",
   "metadata": {},
   "outputs": [],
   "source": [
    "from typing import Optional\n",
    "\n",
    "def greet(first_name: str, last_name:Optional[str] = None) -> None:\n",
    "    if last_name:\n",
    "        print(f\"Hello {first_name} {last_name}\")\n",
    "    else:\n",
    "        print(f\"Hello {first_name}\")"
   ]
  },
  {
   "cell_type": "code",
   "execution_count": 38,
   "id": "80f06605",
   "metadata": {},
   "outputs": [
    {
     "name": "stdout",
     "output_type": "stream",
     "text": [
      "Hello Abdullateef Alade\n",
      "Hello Abdullateef\n"
     ]
    }
   ],
   "source": [
    "greet(\"Abdullateef\", \"Alade\")\n",
    "greet(\"Abdullateef\")"
   ]
  },
  {
   "cell_type": "code",
   "execution_count": 39,
   "id": "e48be78d",
   "metadata": {},
   "outputs": [],
   "source": [
    "def find_user(username: str) -> Optional[dict]:\n",
    "    if username == \"admin\":\n",
    "        return {\"username\": \"admin\", \"role\": \"superuser\"}\n",
    "    return None"
   ]
  },
  {
   "cell_type": "code",
   "execution_count": 40,
   "id": "4d70a417",
   "metadata": {},
   "outputs": [
    {
     "data": {
      "text/plain": [
       "{'username': 'admin', 'role': 'superuser'}"
      ]
     },
     "execution_count": 40,
     "metadata": {},
     "output_type": "execute_result"
    }
   ],
   "source": [
    "find_user(\"admin\")"
   ]
  },
  {
   "cell_type": "code",
   "execution_count": 41,
   "id": "6b470bd7",
   "metadata": {},
   "outputs": [],
   "source": [
    "from typing import Dict\n",
    "fellow_scores: Dict[str, int] = {\n",
    "    \"David\": 89,\n",
    "    \"Micheal\": 98\n",
    "}"
   ]
  },
  {
   "cell_type": "code",
   "execution_count": 42,
   "id": "eb907613",
   "metadata": {},
   "outputs": [],
   "source": [
    "# Tuples\n",
    "from typing import Tuple\n",
    "fellow: Tuple[str, int, str] = (\"Perpetual\", 88, \"AI Engineering\")"
   ]
  },
  {
   "cell_type": "code",
   "execution_count": 43,
   "id": "63c03c63",
   "metadata": {},
   "outputs": [],
   "source": [
    "# Trying to use Bool\n",
    "def try_bool(switch: str, status: Optional[bool] = False) -> bool:\n",
    "    print(f\"Switch: {switch} is {status}\")"
   ]
  },
  {
   "cell_type": "code",
   "execution_count": 44,
   "id": "7e75d576",
   "metadata": {},
   "outputs": [
    {
     "name": "stdout",
     "output_type": "stream",
     "text": [
      "Switch: Generator is True\n"
     ]
    }
   ],
   "source": [
    "try_bool(\"Generator\", True)"
   ]
  },
  {
   "cell_type": "code",
   "execution_count": 45,
   "id": "45274d1c",
   "metadata": {},
   "outputs": [],
   "source": [
    "def AI_Fellow(fellow: Tuple[str, int]) -> str:\n",
    "    name, score = fellow\n",
    "    return f\"{name} scored {score} in the last exam.\""
   ]
  },
  {
   "cell_type": "markdown",
   "id": "b1197bb2",
   "metadata": {},
   "source": [
    "**Pydantic**"
   ]
  },
  {
   "cell_type": "code",
   "execution_count": 46,
   "id": "3a0e6ac8",
   "metadata": {},
   "outputs": [],
   "source": [
    "%%capture\n",
    "%pip install pydantic"
   ]
  },
  {
   "cell_type": "code",
   "execution_count": 47,
   "id": "01551353",
   "metadata": {},
   "outputs": [],
   "source": [
    "# Importing pydantic\n",
    "from pydantic import BaseModel"
   ]
  },
  {
   "cell_type": "code",
   "execution_count": 48,
   "id": "d22df8c4",
   "metadata": {},
   "outputs": [],
   "source": [
    "# Creating a pydantic data model\n",
    "\n",
    "class Fellow(BaseModel):\n",
    "    name: str\n",
    "    score: int\n",
    "    track: str"
   ]
  },
  {
   "cell_type": "code",
   "execution_count": 49,
   "id": "b6ed81bb",
   "metadata": {},
   "outputs": [
    {
     "data": {
      "text/plain": [
       "Fellow(name='Abdullateef', score=88, track='AI Engineering')"
      ]
     },
     "execution_count": 49,
     "metadata": {},
     "output_type": "execute_result"
    }
   ],
   "source": [
    "Fellow(name=\"Abdullateef\", score=88, track=\"AI Engineering\")"
   ]
  },
  {
   "cell_type": "code",
   "execution_count": 50,
   "id": "49fde273",
   "metadata": {},
   "outputs": [
    {
     "ename": "ValidationError",
     "evalue": "1 validation error for Fellow\nscore\n  Input should be a valid integer, unable to parse string as an integer [type=int_parsing, input_value='eighty-seven', input_type=str]\n    For further information visit https://errors.pydantic.dev/2.12/v/int_parsing",
     "output_type": "error",
     "traceback": [
      "\u001b[31m---------------------------------------------------------------------------\u001b[39m",
      "\u001b[31mValidationError\u001b[39m                           Traceback (most recent call last)",
      "\u001b[36mCell\u001b[39m\u001b[36m \u001b[39m\u001b[32mIn[50]\u001b[39m\u001b[32m, line 2\u001b[39m\n\u001b[32m      1\u001b[39m \u001b[38;5;66;03m# Trying to see if there'd be an error (ValidationError)\u001b[39;00m\n\u001b[32m----> \u001b[39m\u001b[32m2\u001b[39m \u001b[43mFellow\u001b[49m\u001b[43m(\u001b[49m\u001b[43mname\u001b[49m\u001b[43m=\u001b[49m\u001b[33;43m\"\u001b[39;49m\u001b[33;43mZach\u001b[39;49m\u001b[33;43m\"\u001b[39;49m\u001b[43m,\u001b[49m\u001b[43m \u001b[49m\u001b[43mscore\u001b[49m\u001b[43m=\u001b[49m\u001b[33;43m\"\u001b[39;49m\u001b[33;43meighty-seven\u001b[39;49m\u001b[33;43m\"\u001b[39;49m\u001b[43m,\u001b[49m\u001b[43m \u001b[49m\u001b[43mtrack\u001b[49m\u001b[43m=\u001b[49m\u001b[33;43m\"\u001b[39;49m\u001b[33;43mAI Engineering\u001b[39;49m\u001b[33;43m\"\u001b[39;49m\u001b[43m)\u001b[49m\n",
      "\u001b[36mFile \u001b[39m\u001b[32mc:\\Users\\Welcome Sir\\Desktop\\abioye_olajide_tasks\\a_env\\Lib\\site-packages\\pydantic\\main.py:250\u001b[39m, in \u001b[36mBaseModel.__init__\u001b[39m\u001b[34m(self, **data)\u001b[39m\n\u001b[32m    248\u001b[39m \u001b[38;5;66;03m# `__tracebackhide__` tells pytest and some other tools to omit this function from tracebacks\u001b[39;00m\n\u001b[32m    249\u001b[39m __tracebackhide__ = \u001b[38;5;28;01mTrue\u001b[39;00m\n\u001b[32m--> \u001b[39m\u001b[32m250\u001b[39m validated_self = \u001b[38;5;28;43mself\u001b[39;49m\u001b[43m.\u001b[49m\u001b[43m__pydantic_validator__\u001b[49m\u001b[43m.\u001b[49m\u001b[43mvalidate_python\u001b[49m\u001b[43m(\u001b[49m\u001b[43mdata\u001b[49m\u001b[43m,\u001b[49m\u001b[43m \u001b[49m\u001b[43mself_instance\u001b[49m\u001b[43m=\u001b[49m\u001b[38;5;28;43mself\u001b[39;49m\u001b[43m)\u001b[49m\n\u001b[32m    251\u001b[39m \u001b[38;5;28;01mif\u001b[39;00m \u001b[38;5;28mself\u001b[39m \u001b[38;5;129;01mis\u001b[39;00m \u001b[38;5;129;01mnot\u001b[39;00m validated_self:\n\u001b[32m    252\u001b[39m     warnings.warn(\n\u001b[32m    253\u001b[39m         \u001b[33m'\u001b[39m\u001b[33mA custom validator is returning a value other than `self`.\u001b[39m\u001b[38;5;130;01m\\n\u001b[39;00m\u001b[33m'\u001b[39m\n\u001b[32m    254\u001b[39m         \u001b[33m\"\u001b[39m\u001b[33mReturning anything other than `self` from a top level model validator isn\u001b[39m\u001b[33m'\u001b[39m\u001b[33mt supported when validating via `__init__`.\u001b[39m\u001b[38;5;130;01m\\n\u001b[39;00m\u001b[33m\"\u001b[39m\n\u001b[32m    255\u001b[39m         \u001b[33m'\u001b[39m\u001b[33mSee the `model_validator` docs (https://docs.pydantic.dev/latest/concepts/validators/#model-validators) for more details.\u001b[39m\u001b[33m'\u001b[39m,\n\u001b[32m    256\u001b[39m         stacklevel=\u001b[32m2\u001b[39m,\n\u001b[32m    257\u001b[39m     )\n",
      "\u001b[31mValidationError\u001b[39m: 1 validation error for Fellow\nscore\n  Input should be a valid integer, unable to parse string as an integer [type=int_parsing, input_value='eighty-seven', input_type=str]\n    For further information visit https://errors.pydantic.dev/2.12/v/int_parsing"
     ]
    }
   ],
   "source": [
    "# Trying to see if there'd be an error (ValidationError)\n",
    "Fellow(name=\"Zach\", score=\"eighty-seven\", track=\"AI Engineering\")"
   ]
  },
  {
   "cell_type": "markdown",
   "id": "6619a51e",
   "metadata": {},
   "source": [
    "**Parsing and Type Conversion**"
   ]
  },
  {
   "cell_type": "code",
   "execution_count": null,
   "id": "f4109d4b",
   "metadata": {},
   "outputs": [
    {
     "name": "stdout",
     "output_type": "stream",
     "text": [
      "<class 'int'>\n",
      "88\n"
     ]
    }
   ],
   "source": [
    "# Parsing and Type conversion - It automatically converts compatible types\n",
    "# It reads and Interpret data\n",
    "\n",
    "p = Fellow(name=\"Abdullateef\", score=\"88\", track=\"AI Engineering\")\n",
    "print(type(p.score))\n",
    "\n",
    "print(p.score)"
   ]
  },
  {
   "cell_type": "code",
   "execution_count": null,
   "id": "6888f1c7",
   "metadata": {},
   "outputs": [
    {
     "name": "stdout",
     "output_type": "stream",
     "text": [
      "name='Blessing' score=100 track='AI Engineering'\n",
      "<class 'int'>\n"
     ]
    }
   ],
   "source": [
    "#  An incoming data\n",
    "data = {\"name\":\"Blessing\", \"score\":\"100\", \"track\":\"AI Engineering\"}\n",
    "\n",
    "# pydantic will parse it like this\n",
    "fellow = Fellow(**data)\n",
    "\n",
    "print(fellow)\n",
    "print(type(fellow.score))"
   ]
  },
  {
   "cell_type": "code",
   "execution_count": null,
   "id": "8bcb1776",
   "metadata": {},
   "outputs": [
    {
     "name": "stdout",
     "output_type": "stream",
     "text": [
      "{\"name\":\"Abdullateef\",\"score\":88,\"track\":\"AI Engineering\"}\n",
      "{\"name\":\"Abdullateef\",\"score\":88,\"track\":\"AI Engineering\"}\n"
     ]
    },
    {
     "name": "stderr",
     "output_type": "stream",
     "text": [
      "C:\\Users\\Welcome Sir\\AppData\\Local\\Temp\\ipykernel_3912\\300784261.py:3: PydanticDeprecatedSince20: The `json` method is deprecated; use `model_dump_json` instead. Deprecated in Pydantic V2.0 to be removed in V3.0. See Pydantic V2 Migration Guide at https://errors.pydantic.dev/2.12/migration/\n",
      "  print(p.json())\n"
     ]
    }
   ],
   "source": [
    "# Serialization - It automatically converts data to JSON or dictionary(converts to a format that can be stored or sent)\n",
    "# It's more like packaging a data for output\n",
    "print(p.json())\n",
    "print(p.model_dump_json())"
   ]
  },
  {
   "cell_type": "code",
   "execution_count": null,
   "id": "88be0e7a",
   "metadata": {},
   "outputs": [],
   "source": [
    "# Nesting - Models can be nested to create complex data structures\n",
    "\n",
    "class Address(BaseModel):\n",
    "    street: str\n",
    "    city: str\n",
    "    state: str\n",
    "    country: str\n",
    "    \n",
    "class Fellow(BaseModel):\n",
    "    name: str\n",
    "    score: int\n",
    "    track: str\n",
    "    address: Address\n",
    "    \n",
    "    # Pydantic will validate this automatically"
   ]
  },
  {
   "cell_type": "code",
   "execution_count": null,
   "id": "1e2ddbea",
   "metadata": {},
   "outputs": [
    {
     "name": "stdout",
     "output_type": "stream",
     "text": [
      "name='Perpetual' score=88 track='AI Engineering' address=Address(street='Ajelogo Street', city='Ketu', state='Lagos', country='Nigeria')\n"
     ]
    }
   ],
   "source": [
    "# Let's parse the data\n",
    "data = {\n",
    "    \"name\": \"Perpetual\",\n",
    "    \"score\": 88,\n",
    "    \"track\": \"AI Engineering\",\n",
    "    \n",
    "    \"address\": {\n",
    "        \"street\": \"Ajelogo Street\",\n",
    "        \"city\": \"Ketu\",\n",
    "        \"state\": \"Lagos\",\n",
    "        \"country\": \"Nigeria\"\n",
    "    }\n",
    "}\n",
    "\n",
    "# Pydantic will parse it like this\n",
    "\n",
    "fellow = Fellow(**data)\n",
    "\n",
    "print(fellow)"
   ]
  },
  {
   "cell_type": "code",
   "execution_count": null,
   "id": "445de2ed",
   "metadata": {},
   "outputs": [
    {
     "name": "stdout",
     "output_type": "stream",
     "text": [
      "Ajelogo Street\n"
     ]
    }
   ],
   "source": [
    "# You can easily access inner fields if you need to\n",
    "print(fellow.address.street)"
   ]
  },
  {
   "cell_type": "code",
   "execution_count": null,
   "id": "c894fec1",
   "metadata": {},
   "outputs": [
    {
     "name": "stdout",
     "output_type": "stream",
     "text": [
      "{'name': 'Perpetual', 'score': 88, 'track': 'AI Engineering', 'address': {'street': 'Ajelogo Street', 'city': 'Ketu', 'state': 'Lagos', 'country': 'Nigeria'}}\n"
     ]
    },
    {
     "name": "stderr",
     "output_type": "stream",
     "text": [
      "C:\\Users\\Welcome Sir\\AppData\\Local\\Temp\\ipykernel_3912\\956739212.py:1: PydanticDeprecatedSince20: The `dict` method is deprecated; use `model_dump` instead. Deprecated in Pydantic V2.0 to be removed in V3.0. See Pydantic V2 Migration Guide at https://errors.pydantic.dev/2.12/migration/\n",
      "  print(fellow.dict())\n"
     ]
    }
   ],
   "source": [
    "print(fellow.dict())"
   ]
  },
  {
   "cell_type": "code",
   "execution_count": null,
   "id": "00fb1d8a",
   "metadata": {},
   "outputs": [
    {
     "name": "stdout",
     "output_type": "stream",
     "text": [
      "{\"name\":\"Perpetual\",\"score\":88,\"track\":\"AI Engineering\",\"address\":{\"street\":\"Ajelogo Street\",\"city\":\"Ketu\",\"state\":\"Lagos\",\"country\":\"Nigeria\"}}\n"
     ]
    },
    {
     "name": "stderr",
     "output_type": "stream",
     "text": [
      "C:\\Users\\Welcome Sir\\AppData\\Local\\Temp\\ipykernel_3912\\1809417232.py:1: PydanticDeprecatedSince20: The `json` method is deprecated; use `model_dump_json` instead. Deprecated in Pydantic V2.0 to be removed in V3.0. See Pydantic V2 Migration Guide at https://errors.pydantic.dev/2.12/migration/\n",
      "  print(fellow.json())\n"
     ]
    }
   ],
   "source": [
    "print(fellow.json())"
   ]
  },
  {
   "cell_type": "markdown",
   "id": "862db6d9",
   "metadata": {},
   "source": [
    "**A list of Nested Models**"
   ]
  },
  {
   "cell_type": "markdown",
   "id": "e93d3162",
   "metadata": {},
   "source": [
    "This makes sense, let's say you are using two addresses,yea?\n"
   ]
  },
  {
   "cell_type": "code",
   "execution_count": null,
   "id": "7b393d07",
   "metadata": {},
   "outputs": [],
   "source": [
    "# Having a list of Address\n",
    "\n",
    "from typing import List\n",
    "from pydantic import BaseModel\n",
    "\n",
    "class Fellow(BaseModel):\n",
    "    name: str\n",
    "    score:int\n",
    "    track: str\n",
    "    addresses: List[Address]"
   ]
  },
  {
   "cell_type": "code",
   "execution_count": null,
   "id": "b3bbacf8",
   "metadata": {},
   "outputs": [
    {
     "name": "stdout",
     "output_type": "stream",
     "text": [
      "name='Abdullateef' score=88 track='AI Engineering' addresses=[Address(street='Idoroko Road', city='Sango', state='Lagos', country='Nigeria'), Address(street='Kobape', city='Abeokuta', state='Ogun', country='Nigeria')]\n"
     ]
    }
   ],
   "source": [
    "data = {\n",
    "    \"name\": \"Abdullateef\",\n",
    "    \"score\": 88,\n",
    "    \"track\": \"AI Engineering\",\n",
    "    \"addresses\": [\n",
    "        {\"street\": \"Idoroko Road\", \"city\": \"Sango\", \"state\": \"Lagos\", \"country\": \"Nigeria\"},\n",
    "        {\"street\": \"Kobape\", \"city\": \"Abeokuta\", \"state\": \"Ogun\",\n",
    "        \"country\": \"Nigeria\"}\n",
    "    ]\n",
    "}\n",
    "\n",
    "fellow = Fellow(**data)\n",
    "print(fellow)"
   ]
  },
  {
   "cell_type": "code",
   "execution_count": null,
   "id": "ac0bbd81",
   "metadata": {},
   "outputs": [
    {
     "name": "stdout",
     "output_type": "stream",
     "text": [
      "Sango\n",
      "Abeokuta\n"
     ]
    }
   ],
   "source": [
    "# Accessing the nested Items\n",
    "\n",
    "print(fellow.addresses[0].city)\n",
    "print(fellow.addresses[1].city)"
   ]
  },
  {
   "cell_type": "code",
   "execution_count": null,
   "id": "45f97813",
   "metadata": {},
   "outputs": [
    {
     "name": "stdout",
     "output_type": "stream",
     "text": [
      "<bound method BaseModel.json of Fellow(name='Abdullateef', score=88, track='AI Engineering', addresses=[Address(street='Idoroko Road', city='Sango', state='Lagos', country='Nigeria'), Address(street='Kobape', city='Abeokuta', state='Ogun', country='Nigeria')])>\n",
      "{\"name\":\"Abdullateef\",\"score\":88,\"track\":\"AI Engineering\",\"addresses\":[{\"street\":\"Idoroko Road\",\"city\":\"Sango\",\"state\":\"Lagos\",\"country\":\"Nigeria\"},{\"street\":\"Kobape\",\"city\":\"Abeokuta\",\"state\":\"Ogun\",\"country\":\"Nigeria\"}]}\n",
      "\n",
      "\n",
      "{'name': 'Abdullateef', 'score': 88, 'track': 'AI Engineering', 'addresses': [{'street': 'Idoroko Road', 'city': 'Sango', 'state': 'Lagos', 'country': 'Nigeria'}, {'street': 'Kobape', 'city': 'Abeokuta', 'state': 'Ogun', 'country': 'Nigeria'}]}\n",
      "{'name': 'Abdullateef', 'score': 88, 'track': 'AI Engineering', 'addresses': [{'street': 'Idoroko Road', 'city': 'Sango', 'state': 'Lagos', 'country': 'Nigeria'}, {'street': 'Kobape', 'city': 'Abeokuta', 'state': 'Ogun', 'country': 'Nigeria'}]}\n"
     ]
    },
    {
     "name": "stderr",
     "output_type": "stream",
     "text": [
      "C:\\Users\\Welcome Sir\\AppData\\Local\\Temp\\ipykernel_3912\\480181413.py:6: PydanticDeprecatedSince20: The `dict` method is deprecated; use `model_dump` instead. Deprecated in Pydantic V2.0 to be removed in V3.0. See Pydantic V2 Migration Guide at https://errors.pydantic.dev/2.12/migration/\n",
      "  print(fellow.dict())\n"
     ]
    }
   ],
   "source": [
    "# We can serialize if we want to\n",
    "\n",
    "print(fellow.json)\n",
    "print(fellow.model_dump_json())     # use this instead\n",
    "print(\"\\n\")\n",
    "print(fellow.dict())\n",
    "print(fellow.model_dump()) # use this instead"
   ]
  },
  {
   "cell_type": "markdown",
   "id": "c121d59c",
   "metadata": {},
   "source": [
    "**Understanding Validation**"
   ]
  },
  {
   "cell_type": "code",
   "execution_count": null,
   "id": "def1755d",
   "metadata": {},
   "outputs": [
    {
     "name": "stdout",
     "output_type": "stream",
     "text": [
      "name='Micheal' score=-79 addresses=[Address(street='123 Marose St', city='Ikorodu'), Address(street='4 Babatunde Ave', city='Abiola Way')]\n"
     ]
    }
   ],
   "source": [
    "from typing import List\n",
    "from pydantic import BaseModel\n",
    "\n",
    "class Address(BaseModel):\n",
    "    street: str\n",
    "    city: str\n",
    "    \n",
    "class Fellow(BaseModel):\n",
    "    name: str\n",
    "    score: int\n",
    "    addresses: List[Address]\n",
    "    \n",
    "data = {\n",
    "    \"name\": \"Micheal\",\n",
    "    \"score\": -79,\n",
    "    \"addresses\": [\n",
    "        {\"street\": \"123 Marose St\", \"city\": \"Ikorodu\"},\n",
    "        {\"street\": \"4 Babatunde Ave\", \"city\": \"Abiola Way\"}\n",
    "    ]\n",
    "}\n",
    "\n",
    "fellow = Fellow(**data)\n",
    "print(fellow)"
   ]
  },
  {
   "cell_type": "code",
   "execution_count": null,
   "id": "22713b29",
   "metadata": {},
   "outputs": [],
   "source": [
    "from pydantic import BaseModel, Field\n",
    "from typing import List\n",
    "\n",
    "class Address(BaseModel):\n",
    "    street: str\n",
    "    city: str\n",
    "    \n",
    "class Fellow(BaseModel):\n",
    "    name: str\n",
    "    score: int = Field(..., ge=0, le=100)      # using the field\n",
    "    addresses: List[Address]"
   ]
  },
  {
   "cell_type": "code",
   "execution_count": null,
   "id": "b2ae2dc0",
   "metadata": {},
   "outputs": [
    {
     "ename": "ValidationError",
     "evalue": "1 validation error for Fellow\nscore\n  Input should be greater than or equal to 0 [type=greater_than_equal, input_value=-40, input_type=int]\n    For further information visit https://errors.pydantic.dev/2.12/v/greater_than_equal",
     "output_type": "error",
     "traceback": [
      "\u001b[31m---------------------------------------------------------------------------\u001b[39m",
      "\u001b[31mValidationError\u001b[39m                           Traceback (most recent call last)",
      "\u001b[36mCell\u001b[39m\u001b[36m \u001b[39m\u001b[32mIn[70]\u001b[39m\u001b[32m, line 1\u001b[39m\n\u001b[32m----> \u001b[39m\u001b[32m1\u001b[39m \u001b[43mFellow\u001b[49m\u001b[43m(\u001b[49m\u001b[43mname\u001b[49m\u001b[43m=\u001b[49m\u001b[33;43m\"\u001b[39;49m\u001b[33;43mHassan\u001b[39;49m\u001b[33;43m\"\u001b[39;49m\u001b[43m,\u001b[49m\u001b[43m \u001b[49m\u001b[43mscore\u001b[49m\u001b[43m=\u001b[49m\u001b[43m-\u001b[49m\u001b[32;43m40\u001b[39;49m\u001b[43m,\u001b[49m\u001b[43m \u001b[49m\u001b[43maddresses\u001b[49m\u001b[43m=\u001b[49m\u001b[43m[\u001b[49m\u001b[43m]\u001b[49m\u001b[43m)\u001b[49m\n",
      "\u001b[36mFile \u001b[39m\u001b[32mc:\\Users\\Welcome Sir\\Desktop\\abioye_olajide_tasks\\a_env\\Lib\\site-packages\\pydantic\\main.py:250\u001b[39m, in \u001b[36mBaseModel.__init__\u001b[39m\u001b[34m(self, **data)\u001b[39m\n\u001b[32m    248\u001b[39m \u001b[38;5;66;03m# `__tracebackhide__` tells pytest and some other tools to omit this function from tracebacks\u001b[39;00m\n\u001b[32m    249\u001b[39m __tracebackhide__ = \u001b[38;5;28;01mTrue\u001b[39;00m\n\u001b[32m--> \u001b[39m\u001b[32m250\u001b[39m validated_self = \u001b[38;5;28;43mself\u001b[39;49m\u001b[43m.\u001b[49m\u001b[43m__pydantic_validator__\u001b[49m\u001b[43m.\u001b[49m\u001b[43mvalidate_python\u001b[49m\u001b[43m(\u001b[49m\u001b[43mdata\u001b[49m\u001b[43m,\u001b[49m\u001b[43m \u001b[49m\u001b[43mself_instance\u001b[49m\u001b[43m=\u001b[49m\u001b[38;5;28;43mself\u001b[39;49m\u001b[43m)\u001b[49m\n\u001b[32m    251\u001b[39m \u001b[38;5;28;01mif\u001b[39;00m \u001b[38;5;28mself\u001b[39m \u001b[38;5;129;01mis\u001b[39;00m \u001b[38;5;129;01mnot\u001b[39;00m validated_self:\n\u001b[32m    252\u001b[39m     warnings.warn(\n\u001b[32m    253\u001b[39m         \u001b[33m'\u001b[39m\u001b[33mA custom validator is returning a value other than `self`.\u001b[39m\u001b[38;5;130;01m\\n\u001b[39;00m\u001b[33m'\u001b[39m\n\u001b[32m    254\u001b[39m         \u001b[33m\"\u001b[39m\u001b[33mReturning anything other than `self` from a top level model validator isn\u001b[39m\u001b[33m'\u001b[39m\u001b[33mt supported when validating via `__init__`.\u001b[39m\u001b[38;5;130;01m\\n\u001b[39;00m\u001b[33m\"\u001b[39m\n\u001b[32m    255\u001b[39m         \u001b[33m'\u001b[39m\u001b[33mSee the `model_validator` docs (https://docs.pydantic.dev/latest/concepts/validators/#model-validators) for more details.\u001b[39m\u001b[33m'\u001b[39m,\n\u001b[32m    256\u001b[39m         stacklevel=\u001b[32m2\u001b[39m,\n\u001b[32m    257\u001b[39m     )\n",
      "\u001b[31mValidationError\u001b[39m: 1 validation error for Fellow\nscore\n  Input should be greater than or equal to 0 [type=greater_than_equal, input_value=-40, input_type=int]\n    For further information visit https://errors.pydantic.dev/2.12/v/greater_than_equal"
     ]
    }
   ],
   "source": [
    "Fellow(name=\"Hassan\", score=-40, addresses=[])"
   ]
  },
  {
   "cell_type": "markdown",
   "id": "6a2646dd",
   "metadata": {},
   "source": [
    "**Custom Validation**"
   ]
  },
  {
   "cell_type": "code",
   "execution_count": null,
   "id": "f1eb96ac",
   "metadata": {},
   "outputs": [],
   "source": [
    "from pydantic import BaseModel, Field, field_validator\n",
    "\n",
    "class Person(BaseModel):\n",
    "    name: str\n",
    "    age: int = Field(..., ge=0)\n",
    "    \n",
    "    @field_validator(\"name\")\n",
    "    def name_must_start_with_capital(cls, v):\n",
    "        if not v[0].isupper():\n",
    "            raise ValueError(\"Name must start with a capital letter\")\n",
    "        return v"
   ]
  },
  {
   "cell_type": "code",
   "execution_count": null,
   "id": "aa08fd2a",
   "metadata": {},
   "outputs": [
    {
     "data": {
      "text/plain": [
       "Person(name='Abdullateef', age=20)"
      ]
     },
     "execution_count": 73,
     "metadata": {},
     "output_type": "execute_result"
    }
   ],
   "source": [
    "Person(name=\"Abdullateef\", age=20)"
   ]
  },
  {
   "cell_type": "code",
   "execution_count": 51,
   "id": "afdfd5d1",
   "metadata": {},
   "outputs": [],
   "source": [
    "from datetime import datetime\n",
    "from decimal import Decimal\n",
    "from pydantic import BaseModel, Field, ValidationError\n",
    "from typing import List\n",
    "\n",
    "# Let's create the model here\n",
    "\n",
    "class ProductReview(BaseModel):\n",
    "    \n",
    "    review_id: int = Field(..., gt=0, lt=10000)\n",
    "    username: str = Field(..., min_length=3, max_length=12, pattern=r\"^[A-Za-z0-9_]+$\")\n",
    "    scores: List[int] = Field(..., min_length=3, max_length=5)\n",
    "    price: Decimal = Field(..., gt=0, max_digits=6, decimal_places=2)\n",
    "    rating: float = Field(..., ge=0, le=5, multiple_of=0.5)\n",
    "    is_active: bool = Field(default=True)\n",
    "    created_at: datetime = Field(default_factory=datetime.now)"
   ]
  },
  {
   "cell_type": "code",
   "execution_count": 52,
   "id": "01524258",
   "metadata": {},
   "outputs": [],
   "source": [
    "# Let's demo for each\n",
    "\n",
    "def demo_int_field():\n",
    "    print(\"Integer Field Validation\")\n",
    "    try:\n",
    "        ProductReview(review_id= 2, username=\"shabi\", scores=[4, 5, 4], price=Decimal(\"10.00\"), rating=4.5)\n",
    "    except ValidationError as e:\n",
    "        print(e)"
   ]
  },
  {
   "cell_type": "code",
   "execution_count": null,
   "id": "0a3bf1b2",
   "metadata": {},
   "outputs": [
    {
     "name": "stdout",
     "output_type": "stream",
     "text": [
      "Integer Field Validation\n"
     ]
    }
   ],
   "source": [
    "demo_int_field()"
   ]
  },
  {
   "cell_type": "code",
   "execution_count": null,
   "id": "2061177e",
   "metadata": {},
   "outputs": [],
   "source": [
    "def demo_str_field():\n",
    "    print(\"String Field Validation\")\n",
    "    try:\n",
    "        ProductReview(review_id=1, username=\"Abdul\", scores=[4, 5, 5], price=Decimal(\"20.00\"), rating=4.0)\n",
    "    except ValidationError as e:\n",
    "        print(e) "
   ]
  },
  {
   "cell_type": "code",
   "execution_count": null,
   "id": "9cc37bc8",
   "metadata": {},
   "outputs": [
    {
     "name": "stdout",
     "output_type": "stream",
     "text": [
      "String Field Validation\n"
     ]
    }
   ],
   "source": [
    "demo_str_field()"
   ]
  },
  {
   "cell_type": "code",
   "execution_count": null,
   "id": "943e5abb",
   "metadata": {},
   "outputs": [],
   "source": [
    "def demo_list_field():\n",
    "    print(\"\\n List Field Validation\")\n",
    "    try:\n",
    "        ProductReview(review_id=2, username=\"Olajcodes\", scores=[5, 3, 5], price=Decimal(\"30.00\"), rating=3.5)\n",
    "    except ValidationError as e:\n",
    "        print(e)"
   ]
  },
  {
   "cell_type": "code",
   "execution_count": null,
   "id": "e48c2c77",
   "metadata": {},
   "outputs": [
    {
     "name": "stdout",
     "output_type": "stream",
     "text": [
      "\n",
      " List Field Validation\n"
     ]
    }
   ],
   "source": [
    "demo_list_field()"
   ]
  },
  {
   "cell_type": "code",
   "execution_count": null,
   "id": "7c18fa4e",
   "metadata": {},
   "outputs": [],
   "source": [
    "def demo_decimal_field():\n",
    "    print(\"\\n Decimal Field Validation\")\n",
    "    try:\n",
    "        ProductReview(review_id=3, username=\"Tester\", scores=[4, 4, 5], price=Decimal(\"10.00\"), rating=4.5)\n",
    "    except ValidationError as e:\n",
    "        print(e)"
   ]
  },
  {
   "cell_type": "code",
   "execution_count": null,
   "id": "11e96ae9",
   "metadata": {},
   "outputs": [
    {
     "name": "stdout",
     "output_type": "stream",
     "text": [
      "\n",
      " Decimal Field Validation\n"
     ]
    }
   ],
   "source": [
    "demo_decimal_field()"
   ]
  },
  {
   "cell_type": "code",
   "execution_count": null,
   "id": "19195da2",
   "metadata": {},
   "outputs": [],
   "source": [
    "def demo_float_field():\n",
    "    print(\"\\n Float Field Validation\")\n",
    "    try:\n",
    "        ProductReview(review_id=4, username=\"SmartDev\", scores=[5, 4, 4], price=Decimal(\"99.99\"), rating=4.5)\n",
    "    except ValidationError as e:\n",
    "        print(e)"
   ]
  },
  {
   "cell_type": "code",
   "execution_count": null,
   "id": "8f72b24f",
   "metadata": {},
   "outputs": [
    {
     "name": "stdout",
     "output_type": "stream",
     "text": [
      "\n",
      " Float Field Validation\n"
     ]
    }
   ],
   "source": [
    "demo_float_field()"
   ]
  },
  {
   "cell_type": "code",
   "execution_count": null,
   "id": "15050653",
   "metadata": {},
   "outputs": [],
   "source": [
    "def demo_bool_field():\n",
    "    print(\"\\n Boolean Field Default\")\n",
    "    product = ProductReview(\n",
    "        review_id=5,\n",
    "        username=\"JaneDoe\",\n",
    "        scores=[5, 4, 5],\n",
    "        price=Decimal(\"59.99\"),\n",
    "        rating=5.0\n",
    "    )\n",
    "    print(\"is_active =\", product.is_active)"
   ]
  },
  {
   "cell_type": "code",
   "execution_count": null,
   "id": "f76188ed",
   "metadata": {},
   "outputs": [
    {
     "name": "stdout",
     "output_type": "stream",
     "text": [
      "\n",
      " Boolean Field Default\n",
      "is_active = True\n"
     ]
    }
   ],
   "source": [
    "demo_bool_field()"
   ]
  },
  {
   "cell_type": "code",
   "execution_count": null,
   "id": "dab61f38",
   "metadata": {},
   "outputs": [],
   "source": [
    "def demo_datetime_field():\n",
    "    print(\"\\n Datetime Default Factory\")\n",
    "    product = ProductReview(\n",
    "        review_id=6,\n",
    "        username=\"TimeUser\",\n",
    "        scores=[3,4,5],\n",
    "        price=Decimal(\"25.00\"),\n",
    "        rating=4.5\n",
    "    )\n",
    "    print(\"created_at =\", product.created_at)"
   ]
  },
  {
   "cell_type": "code",
   "execution_count": 53,
   "id": "6136bb90",
   "metadata": {},
   "outputs": [
    {
     "name": "stdout",
     "output_type": "stream",
     "text": [
      "\n",
      " Datetime Default Factory\n",
      "created_at = 2025-10-15 22:54:55.973388\n"
     ]
    }
   ],
   "source": [
    "demo_datetime_field()"
   ]
  }
 ],
 "metadata": {
  "kernelspec": {
   "display_name": "a_env",
   "language": "python",
   "name": "python3"
  },
  "language_info": {
   "codemirror_mode": {
    "name": "ipython",
    "version": 3
   },
   "file_extension": ".py",
   "mimetype": "text/x-python",
   "name": "python",
   "nbconvert_exporter": "python",
   "pygments_lexer": "ipython3",
   "version": "3.12.7"
  }
 },
 "nbformat": 4,
 "nbformat_minor": 5
}
