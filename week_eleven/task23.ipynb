{
 "cells": [
  {
   "cell_type": "markdown",
   "id": "7d682ed5",
   "metadata": {},
   "source": [
    "**Create a Type Validation for Twitter username and post length using Pydantic**"
   ]
  },
  {
   "cell_type": "code",
   "execution_count": 3,
   "id": "c0a526bd",
   "metadata": {},
   "outputs": [],
   "source": [
    "%%capture\n",
    "%pip install pydantic"
   ]
  },
  {
   "cell_type": "code",
   "execution_count": 7,
   "id": "881fa65a",
   "metadata": {},
   "outputs": [],
   "source": [
    "from typing import List\n",
    "from pydantic import BaseModel, Field, field_validator, ValidationError"
   ]
  },
  {
   "cell_type": "markdown",
   "id": "94dc1f79",
   "metadata": {},
   "source": [
    "**Things to consider for the Validation**\n",
    "- Username should be of at least 3 characters and 15 characters at most. It should be in string which in turn also accepts numbers in between. No special symbols like `@`,`$`,`?` related will be allowed.\n",
    "- The post length should be of at least 1 character and not exceed `280` characters. This can contains any type of inputs."
   ]
  },
  {
   "cell_type": "code",
   "execution_count": 25,
   "id": "4b2f0c8e",
   "metadata": {},
   "outputs": [],
   "source": [
    "class TwitterValidation(BaseModel):\n",
    "    username: str = Field(..., min_length=4, max_length=15, pattern=r\"^[A-Za-z0-9_]+$\")\n",
    "    post_length: str = Field(..., min_length=1, max_length=280)"
   ]
  },
  {
   "cell_type": "markdown",
   "id": "9465ed17",
   "metadata": {},
   "source": [
    "The below code will test out the validation by intentionally providing the details that goes against the constraints stated and see if it'll work."
   ]
  },
  {
   "cell_type": "code",
   "execution_count": 26,
   "id": "6a822eae",
   "metadata": {},
   "outputs": [],
   "source": [
    "# Function for testing it out\n",
    "def demo_twitter():\n",
    "    print(\"Testing Twitter Username Validation...!!!\\n\")\n",
    "    try:\n",
    "        TwitterValidation(username=\"@Olajcodes_?\", post_length=\"Testing out the validation for Twitter.\")\n",
    "        print(\"Twitter Validation Successfully!!!\")\n",
    "    except ValidationError as e:\n",
    "        print(e)\n",
    "        "
   ]
  },
  {
   "cell_type": "code",
   "execution_count": 27,
   "id": "c5c904d0",
   "metadata": {},
   "outputs": [
    {
     "name": "stdout",
     "output_type": "stream",
     "text": [
      "Testing Twitter Username Validation...!!!\n",
      "\n",
      "1 validation error for TwitterValidation\n",
      "username\n",
      "  String should match pattern '^[A-Za-z0-9_]+$' [type=string_pattern_mismatch, input_value='@Olajcodes_?', input_type=str]\n",
      "    For further information visit https://errors.pydantic.dev/2.12/v/string_pattern_mismatch\n"
     ]
    }
   ],
   "source": [
    "# Testing it out\n",
    "demo_twitter()"
   ]
  },
  {
   "cell_type": "markdown",
   "id": "9e00fd6a",
   "metadata": {},
   "source": [
    "From the above cell, it can be seen that the validation actually worked against the constraints set. Let's test out the validation with correct input with the details in the below cell. "
   ]
  },
  {
   "cell_type": "code",
   "execution_count": 28,
   "id": "97b64e61",
   "metadata": {},
   "outputs": [],
   "source": [
    "# Function for testing it out\n",
    "def demo_twitter():\n",
    "    print(\"Testing Twitter Username Validation...!!!\\n\")\n",
    "    try:\n",
    "        TwitterValidation(username=\"Olajcodes_\", post_length=\"Testing out the validation for Twitter.\")\n",
    "        print(\"Twitter Validation Successfully!!!\")\n",
    "    except ValidationError as e:\n",
    "        print(e)\n",
    "        "
   ]
  },
  {
   "cell_type": "code",
   "execution_count": 29,
   "id": "5df64de4",
   "metadata": {},
   "outputs": [
    {
     "name": "stdout",
     "output_type": "stream",
     "text": [
      "Testing Twitter Username Validation...!!!\n",
      "\n",
      "Twitter Validation Successfully!!!\n"
     ]
    }
   ],
   "source": [
    "# Testing it out\n",
    "demo_twitter()"
   ]
  }
 ],
 "metadata": {
  "kernelspec": {
   "display_name": "a_env",
   "language": "python",
   "name": "python3"
  },
  "language_info": {
   "codemirror_mode": {
    "name": "ipython",
    "version": 3
   },
   "file_extension": ".py",
   "mimetype": "text/x-python",
   "name": "python",
   "nbconvert_exporter": "python",
   "pygments_lexer": "ipython3",
   "version": "3.12.7"
  }
 },
 "nbformat": 4,
 "nbformat_minor": 5
}
