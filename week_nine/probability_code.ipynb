{
 "cells": [
  {
   "cell_type": "code",
   "execution_count": 1,
   "id": "e4c48af5",
   "metadata": {},
   "outputs": [],
   "source": [
    "# Loading necessary libraries\n",
    "\n",
    "import pandas as pd\n",
    "import numpy as numpy\n",
    "from zipfile import ZipFile\n",
    "from functools import reduce\n",
    "import matplotlib.pyplot as plt\n",
    "from scipy import stats\n",
    "import os"
   ]
  },
  {
   "cell_type": "code",
   "execution_count": 19,
   "id": "3915e6da",
   "metadata": {},
   "outputs": [],
   "source": [
    "path = r\"C:\\Users\\ncc\\Downloads\\archive (1).zip\"\n",
    "\n",
    "extracted_file = \"data_files\""
   ]
  },
  {
   "cell_type": "code",
   "execution_count": 20,
   "id": "adb3d25d",
   "metadata": {},
   "outputs": [],
   "source": [
    "with ZipFile(path, \"r\") as f:\n",
    "    f.extractall(\"data_files\")"
   ]
  },
  {
   "cell_type": "code",
   "execution_count": 21,
   "id": "78950b74",
   "metadata": {},
   "outputs": [],
   "source": [
    "data_frames = {}\n",
    "\n",
    "for file in os.listdir(extracted_file):\n",
    "    if file.endswith(\"csv\"):\n",
    "        file_path = os.path.join(extracted_file,file)\n",
    "        data_frames[file] = pd.read_csv(file_path)"
   ]
  },
  {
   "cell_type": "code",
   "execution_count": 22,
   "id": "473dd44f",
   "metadata": {},
   "outputs": [
    {
     "name": "stdout",
     "output_type": "stream",
     "text": [
      "olist_customers_dataset.csv\n",
      "olist_geolocation_dataset.csv\n",
      "olist_orders_dataset.csv\n",
      "olist_order_items_dataset.csv\n",
      "olist_order_payments_dataset.csv\n",
      "olist_order_reviews_dataset.csv\n",
      "olist_products_dataset.csv\n",
      "olist_sellers_dataset.csv\n",
      "product_category_name_translation.csv\n"
     ]
    }
   ],
   "source": [
    "for name, df in data_frames.items():\n",
    "    print(f\"{name}\")"
   ]
  }
 ],
 "metadata": {
  "kernelspec": {
   "display_name": "a_env (3.13.7)",
   "language": "python",
   "name": "python3"
  },
  "language_info": {
   "codemirror_mode": {
    "name": "ipython",
    "version": 3
   },
   "file_extension": ".py",
   "mimetype": "text/x-python",
   "name": "python",
   "nbconvert_exporter": "python",
   "pygments_lexer": "ipython3",
   "version": "3.13.7"
  }
 },
 "nbformat": 4,
 "nbformat_minor": 5
}
