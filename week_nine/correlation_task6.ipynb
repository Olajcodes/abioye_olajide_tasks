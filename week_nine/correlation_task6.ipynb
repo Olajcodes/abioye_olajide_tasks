{
 "cells": [
  {
   "cell_type": "markdown",
   "id": "6cd613ed",
   "metadata": {},
   "source": [
    "## **Correlation Task**"
   ]
  },
  {
   "cell_type": "code",
   "execution_count": null,
   "id": "9a44a465",
   "metadata": {},
   "outputs": [],
   "source": [
    "# Loading the dataset from Google drive\n",
    "# %pip install gdown   (If not installed)\n",
    "import gdown"
   ]
  },
  {
   "cell_type": "code",
   "execution_count": 3,
   "id": "5f98925d",
   "metadata": {},
   "outputs": [
    {
     "name": "stderr",
     "output_type": "stream",
     "text": [
      "Downloading...\n",
      "From: https://drive.google.com/uc?id=1yB5qSBOLl96Y563nIewKOU8RN_gsY3dO\n",
      "To: c:\\Users\\Welcome Sir\\Desktop\\abioye_olajide_tasks\\week_nine\\data.csv\n",
      "100%|██████████| 52.0k/52.0k [00:00<00:00, 261kB/s]\n"
     ]
    },
    {
     "data": {
      "text/plain": [
       "'data.csv'"
      ]
     },
     "execution_count": 3,
     "metadata": {},
     "output_type": "execute_result"
    }
   ],
   "source": [
    "file_id = '1yB5qSBOLl96Y563nIewKOU8RN_gsY3dO'  # Make sure it's a string\n",
    "\n",
    "gdown.download(f'https://drive.google.com/uc?id={file_id}', 'data.csv', quiet=False)\n"
   ]
  },
  {
   "cell_type": "code",
   "execution_count": 4,
   "id": "db58f87f",
   "metadata": {},
   "outputs": [],
   "source": [
    "# Importing necessary libraries\n",
    "import pandas as pd\n",
    "import numpy as np"
   ]
  },
  {
   "cell_type": "code",
   "execution_count": 6,
   "id": "adc6d0ca",
   "metadata": {},
   "outputs": [
    {
     "data": {
      "application/vnd.microsoft.datawrangler.viewer.v0+json": {
       "columns": [
        {
         "name": "index",
         "rawType": "int64",
         "type": "integer"
        },
        {
         "name": "Unnamed: 0",
         "rawType": "int64",
         "type": "integer"
        },
        {
         "name": "country",
         "rawType": "object",
         "type": "string"
        },
        {
         "name": "food_category",
         "rawType": "object",
         "type": "string"
        },
        {
         "name": "consumption",
         "rawType": "float64",
         "type": "float"
        },
        {
         "name": "co2_emission",
         "rawType": "float64",
         "type": "float"
        }
       ],
       "ref": "9370e285-b6b1-4aff-a6c2-484319ce708a",
       "rows": [
        [
         "0",
         "1",
         "Argentina",
         "pork",
         "10.51",
         "37.2"
        ],
        [
         "1",
         "2",
         "Argentina",
         "poultry",
         "38.66",
         "41.53"
        ],
        [
         "2",
         "3",
         "Argentina",
         "beef",
         "55.48",
         "1712.0"
        ],
        [
         "3",
         "4",
         "Argentina",
         "lamb_goat",
         "1.56",
         "54.63"
        ],
        [
         "4",
         "5",
         "Argentina",
         "fish",
         "4.36",
         "6.96"
        ]
       ],
       "shape": {
        "columns": 5,
        "rows": 5
       }
      },
      "text/html": [
       "<div>\n",
       "<style scoped>\n",
       "    .dataframe tbody tr th:only-of-type {\n",
       "        vertical-align: middle;\n",
       "    }\n",
       "\n",
       "    .dataframe tbody tr th {\n",
       "        vertical-align: top;\n",
       "    }\n",
       "\n",
       "    .dataframe thead th {\n",
       "        text-align: right;\n",
       "    }\n",
       "</style>\n",
       "<table border=\"1\" class=\"dataframe\">\n",
       "  <thead>\n",
       "    <tr style=\"text-align: right;\">\n",
       "      <th></th>\n",
       "      <th>Unnamed: 0</th>\n",
       "      <th>country</th>\n",
       "      <th>food_category</th>\n",
       "      <th>consumption</th>\n",
       "      <th>co2_emission</th>\n",
       "    </tr>\n",
       "  </thead>\n",
       "  <tbody>\n",
       "    <tr>\n",
       "      <th>0</th>\n",
       "      <td>1</td>\n",
       "      <td>Argentina</td>\n",
       "      <td>pork</td>\n",
       "      <td>10.51</td>\n",
       "      <td>37.20</td>\n",
       "    </tr>\n",
       "    <tr>\n",
       "      <th>1</th>\n",
       "      <td>2</td>\n",
       "      <td>Argentina</td>\n",
       "      <td>poultry</td>\n",
       "      <td>38.66</td>\n",
       "      <td>41.53</td>\n",
       "    </tr>\n",
       "    <tr>\n",
       "      <th>2</th>\n",
       "      <td>3</td>\n",
       "      <td>Argentina</td>\n",
       "      <td>beef</td>\n",
       "      <td>55.48</td>\n",
       "      <td>1712.00</td>\n",
       "    </tr>\n",
       "    <tr>\n",
       "      <th>3</th>\n",
       "      <td>4</td>\n",
       "      <td>Argentina</td>\n",
       "      <td>lamb_goat</td>\n",
       "      <td>1.56</td>\n",
       "      <td>54.63</td>\n",
       "    </tr>\n",
       "    <tr>\n",
       "      <th>4</th>\n",
       "      <td>5</td>\n",
       "      <td>Argentina</td>\n",
       "      <td>fish</td>\n",
       "      <td>4.36</td>\n",
       "      <td>6.96</td>\n",
       "    </tr>\n",
       "  </tbody>\n",
       "</table>\n",
       "</div>"
      ],
      "text/plain": [
       "   Unnamed: 0    country food_category  consumption  co2_emission\n",
       "0           1  Argentina          pork        10.51         37.20\n",
       "1           2  Argentina       poultry        38.66         41.53\n",
       "2           3  Argentina          beef        55.48       1712.00\n",
       "3           4  Argentina     lamb_goat         1.56         54.63\n",
       "4           5  Argentina          fish         4.36          6.96"
      ]
     },
     "execution_count": 6,
     "metadata": {},
     "output_type": "execute_result"
    }
   ],
   "source": [
    "# Reading in the downloaded CSV file\n",
    "df = pd.read_csv('data.csv')\n",
    "df.head()"
   ]
  }
 ],
 "metadata": {
  "kernelspec": {
   "display_name": "a_env",
   "language": "python",
   "name": "python3"
  },
  "language_info": {
   "codemirror_mode": {
    "name": "ipython",
    "version": 3
   },
   "file_extension": ".py",
   "mimetype": "text/x-python",
   "name": "python",
   "nbconvert_exporter": "python",
   "pygments_lexer": "ipython3",
   "version": "3.12.7"
  }
 },
 "nbformat": 4,
 "nbformat_minor": 5
}
