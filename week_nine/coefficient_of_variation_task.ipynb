{
 "cells": [
  {
   "cell_type": "markdown",
   "id": "a1fd09f9",
   "metadata": {},
   "source": [
    "## **Coefficient of Variation**"
   ]
  },
  {
   "cell_type": "markdown",
   "id": "cbeb674d",
   "metadata": {},
   "source": [
    "*Coefficient of Variation (C.V) measures the dispersion of data points around the mean which is a statistical average. It represents the ratio of a group of data, standard deviation to its mean. It is useful for comparing the degree of variation among different series of data.\n",
    "\n",
    "A real application can be seen as an investor can use C.V to measure the volatility of an investment compared to its expected return. The lower the ratio, the better the risk return trade off.\n",
    "\n",
    "The coefficient of variation (CV) formula is defined as:\n",
    "\n",
    "$$ \n",
    "\\frac{\\sigma}{\\mu} \\times 100\\%\n",
    "$$.\n",
    "\n"
   ]
  },
  {
   "cell_type": "code",
   "execution_count": null,
   "id": "1717336b",
   "metadata": {
    "vscode": {
     "languageId": "plaintext"
    }
   },
   "outputs": [],
   "source": []
  },
  {
   "cell_type": "code",
   "execution_count": null,
   "id": "71b9699a",
   "metadata": {
    "vscode": {
     "languageId": "plaintext"
    }
   },
   "outputs": [],
   "source": []
  }
 ],
 "metadata": {
  "language_info": {
   "name": "python"
  }
 },
 "nbformat": 4,
 "nbformat_minor": 5
}
