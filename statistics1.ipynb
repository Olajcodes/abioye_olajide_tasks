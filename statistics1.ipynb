{
 "cells": [
  {
   "cell_type": "markdown",
   "id": "1531bcb0",
   "metadata": {},
   "source": [
    "### **Statistics**"
   ]
  },
  {
   "cell_type": "markdown",
   "metadata": {},
   "source": [
    "- Statistics is the science of **collecting**, **organizing**, **analyzing**, **interpreting**, and **presenting data** to make **informed decisions**. \n",
    "\n",
    "- Lets think of it as a toolkit that helps us make sense of numbers and discover patterns in the world around us."
   ]
  },
  {
   "cell_type": "markdown",
   "id": "57ef64ab",
   "metadata": {},
   "source": [
    "**There are two main branches**\n",
    "\n",
    "1. **Descriptive Statistics**\n",
    "\n",
    "- Deals with summarizing, organizing, and presenting data we already have.\n",
    "\n",
    "- Uses measures like mean (average), median, mode, range, variance, and standard deviation to describe a dataset.\n",
    "\n",
    "- Also involves graphs, charts, and tables for easy visualization.\n",
    "\n",
    "- For example calculating the average coding hours of AI engineering students.\n",
    "\n",
    "2. **Inferential Statistics**\n",
    "\n",
    "- Uses data from a sample to make conclusions or predictions about a larger population.\n",
    "\n",
    "- Involves methods like correlation, regression, hypothesis testing, chi-square tests, t-tests, and ANOVA.\n",
    "\n",
    "- Helps in data-driven decision making by testing ideas and estimating outcomes with a level of certainty.\n",
    "\n",
    "- Foundation of predictive analysis, guiding policymakers and organizations in making strategic decisions.\n",
    "\n",
    "- For example, uing a survey of 1,000 people to predict how millions will vote in a presidential election."
   ]
  },
  {
   "cell_type": "markdown",
   "metadata": {},
   "source": [
    "**Why Statistics**\n",
    "- Beyond the confusing formulas and outrageous numbers, statistics will help us andswer questions like;\n",
    "\n",
    "   - What's typical? (measures of center)\n",
    "   - How much variation is there?(measures of spread)\n",
    "   - Is this pattern real or just coincidence? (hypothesis testing)\n",
    "   - Can we predict future outcomes?(regression)"
   ]
  },
  {
   "cell_type": "markdown",
   "id": "b17ebed3",
   "metadata": {},
   "source": [
    "**Lets try to understand these concepts with codes**"
   ]
  },
  {
   "cell_type": "code",
   "execution_count": 9,
   "id": "73c2413b",
   "metadata": {},
   "outputs": [],
   "source": [
    "import numpy as np\n",
    "import pandas as pd\n",
    "import matplotlib.pyplot as plt\n",
    "# import scipy.stats as stats"
   ]
  },
  {
   "cell_type": "code",
   "execution_count": 10,
   "id": "5eb8417e",
   "metadata": {},
   "outputs": [],
   "source": [
    "# let's set random seed for reproducibility\n",
    "np.random.seed(42)"
   ]
  },
  {
   "cell_type": "code",
   "execution_count": 11,
   "id": "3ee4099c",
   "metadata": {},
   "outputs": [],
   "source": [
    "# Lets simulate a  dataset for AI Engineering students\n",
    "\n",
    "#1. Traditional Learning -classroom-based\n",
    "# - lets create it with a 25 hours/week and standard deviation of 5 hours\n",
    "traditional_study_hours = np.random.normal(25, 5, 100)\n",
    "\n",
    "#. 2. Accelerated Learning (project-based and Hands-on style)\n",
    "\n",
    "# This one will be a 35 hours/week and a standard deviation of 8 hours\n",
    "accelerated_study_hours = np.random.normal(35, 8, 100)\n",
    "\n",
    "# Lets generate corresponding performance scores between 0-100\n",
    "\n",
    "# We would let the performance correlate with study hours but has some randomness\n",
    "\n",
    "traditional_scores = np.random.normal(75, 12, 100)  # Mean of  75, SD of 12\n",
    "accelerated_scores = np.random.normal(82, 15, 100)  # Mean of 82, SD of 15\n",
    "\n",
    "# Lets generate project completion counts\n",
    "\n",
    "traditional_projects = np.random.poisson(8, 100)  # Average 8 projects\n",
    "accelerated_projects = np.random.poisson(12, 100)  # Average 12 projects\n"
   ]
  },
  {
   "cell_type": "code",
   "execution_count": 12,
   "id": "072b84ba",
   "metadata": {},
   "outputs": [],
   "source": [
    "# Now, lets create the DataFrame\n",
    "\n",
    "data = pd.DataFrame({\n",
    "    'Study_Hours_Per_Week': np.concatenate([traditional_study_hours, accelerated_study_hours]),\n",
    "    'Performance_Score': np.concatenate([traditional_scores, accelerated_scores]),\n",
    "    'Projects_Completed': np.concatenate([traditional_projects, accelerated_projects]),\n",
    "    'Learning_Track': ['Traditional'] * 100 + ['Accelerated'] * 100\n",
    "})"
   ]
  },
  {
   "cell_type": "code",
   "execution_count": 13,
   "id": "88e36c00",
   "metadata": {},
   "outputs": [
    {
     "data": {
      "application/vnd.microsoft.datawrangler.viewer.v0+json": {
       "columns": [
        {
         "name": "index",
         "rawType": "int64",
         "type": "integer"
        },
        {
         "name": "Study_Hours_Per_Week",
         "rawType": "float64",
         "type": "float"
        },
        {
         "name": "Performance_Score",
         "rawType": "float64",
         "type": "float"
        },
        {
         "name": "Projects_Completed",
         "rawType": "int32",
         "type": "integer"
        },
        {
         "name": "Learning_Track",
         "rawType": "object",
         "type": "string"
        }
       ],
       "ref": "e4e8d3e9-92ad-4f02-a8d5-24971ac16555",
       "rows": [
        [
         "0",
         "27.483570765056164",
         "79.2934483241794",
         "12",
         "Traditional"
        ],
        [
         "1",
         "24.308678494144075",
         "81.72941431641881",
         "7",
         "Traditional"
        ],
        [
         "2",
         "28.23844269050346",
         "87.99661491810332",
         "10",
         "Traditional"
        ],
        [
         "3",
         "32.61514928204013",
         "87.64562462441884",
         "5",
         "Traditional"
        ],
        [
         "4",
         "23.829233126383322",
         "58.46796758451491",
         "12",
         "Traditional"
        ]
       ],
       "shape": {
        "columns": 4,
        "rows": 5
       }
      },
      "text/html": [
       "<div>\n",
       "<style scoped>\n",
       "    .dataframe tbody tr th:only-of-type {\n",
       "        vertical-align: middle;\n",
       "    }\n",
       "\n",
       "    .dataframe tbody tr th {\n",
       "        vertical-align: top;\n",
       "    }\n",
       "\n",
       "    .dataframe thead th {\n",
       "        text-align: right;\n",
       "    }\n",
       "</style>\n",
       "<table border=\"1\" class=\"dataframe\">\n",
       "  <thead>\n",
       "    <tr style=\"text-align: right;\">\n",
       "      <th></th>\n",
       "      <th>Study_Hours_Per_Week</th>\n",
       "      <th>Performance_Score</th>\n",
       "      <th>Projects_Completed</th>\n",
       "      <th>Learning_Track</th>\n",
       "    </tr>\n",
       "  </thead>\n",
       "  <tbody>\n",
       "    <tr>\n",
       "      <th>0</th>\n",
       "      <td>27.483571</td>\n",
       "      <td>79.293448</td>\n",
       "      <td>12</td>\n",
       "      <td>Traditional</td>\n",
       "    </tr>\n",
       "    <tr>\n",
       "      <th>1</th>\n",
       "      <td>24.308678</td>\n",
       "      <td>81.729414</td>\n",
       "      <td>7</td>\n",
       "      <td>Traditional</td>\n",
       "    </tr>\n",
       "    <tr>\n",
       "      <th>2</th>\n",
       "      <td>28.238443</td>\n",
       "      <td>87.996615</td>\n",
       "      <td>10</td>\n",
       "      <td>Traditional</td>\n",
       "    </tr>\n",
       "    <tr>\n",
       "      <th>3</th>\n",
       "      <td>32.615149</td>\n",
       "      <td>87.645625</td>\n",
       "      <td>5</td>\n",
       "      <td>Traditional</td>\n",
       "    </tr>\n",
       "    <tr>\n",
       "      <th>4</th>\n",
       "      <td>23.829233</td>\n",
       "      <td>58.467968</td>\n",
       "      <td>12</td>\n",
       "      <td>Traditional</td>\n",
       "    </tr>\n",
       "  </tbody>\n",
       "</table>\n",
       "</div>"
      ],
      "text/plain": [
       "   Study_Hours_Per_Week  Performance_Score  Projects_Completed Learning_Track\n",
       "0             27.483571          79.293448                  12    Traditional\n",
       "1             24.308678          81.729414                   7    Traditional\n",
       "2             28.238443          87.996615                  10    Traditional\n",
       "3             32.615149          87.645625                   5    Traditional\n",
       "4             23.829233          58.467968                  12    Traditional"
      ]
     },
     "execution_count": 13,
     "metadata": {},
     "output_type": "execute_result"
    }
   ],
   "source": [
    "data.head()"
   ]
  },
  {
   "cell_type": "code",
   "execution_count": 14,
   "id": "c7e2353f",
   "metadata": {},
   "outputs": [
    {
     "data": {
      "application/vnd.microsoft.datawrangler.viewer.v0+json": {
       "columns": [
        {
         "name": "index",
         "rawType": "int64",
         "type": "integer"
        },
        {
         "name": "Study_Hours_Per_Week",
         "rawType": "float64",
         "type": "float"
        },
        {
         "name": "Performance_Score",
         "rawType": "float64",
         "type": "float"
        },
        {
         "name": "Projects_Completed",
         "rawType": "int32",
         "type": "integer"
        },
        {
         "name": "Learning_Track",
         "rawType": "object",
         "type": "string"
        }
       ],
       "ref": "56a5cf3c-5ed1-4da6-a8b8-91a92e3ee007",
       "rows": [
        [
         "195",
         "38.08253903783069",
         "74.96236521842943",
         "15",
         "Accelerated"
        ],
        [
         "196",
         "27.929140510390937",
         "56.30298206363683",
         "6",
         "Accelerated"
        ],
        [
         "197",
         "36.22980084756422",
         "102.3080856124812",
         "8",
         "Accelerated"
        ],
        [
         "198",
         "35.465669747568",
         "80.28190232121074",
         "13",
         "Accelerated"
        ],
        [
         "199",
         "25.856237617355013",
         "100.56724467960193",
         "18",
         "Accelerated"
        ]
       ],
       "shape": {
        "columns": 4,
        "rows": 5
       }
      },
      "text/html": [
       "<div>\n",
       "<style scoped>\n",
       "    .dataframe tbody tr th:only-of-type {\n",
       "        vertical-align: middle;\n",
       "    }\n",
       "\n",
       "    .dataframe tbody tr th {\n",
       "        vertical-align: top;\n",
       "    }\n",
       "\n",
       "    .dataframe thead th {\n",
       "        text-align: right;\n",
       "    }\n",
       "</style>\n",
       "<table border=\"1\" class=\"dataframe\">\n",
       "  <thead>\n",
       "    <tr style=\"text-align: right;\">\n",
       "      <th></th>\n",
       "      <th>Study_Hours_Per_Week</th>\n",
       "      <th>Performance_Score</th>\n",
       "      <th>Projects_Completed</th>\n",
       "      <th>Learning_Track</th>\n",
       "    </tr>\n",
       "  </thead>\n",
       "  <tbody>\n",
       "    <tr>\n",
       "      <th>195</th>\n",
       "      <td>38.082539</td>\n",
       "      <td>74.962365</td>\n",
       "      <td>15</td>\n",
       "      <td>Accelerated</td>\n",
       "    </tr>\n",
       "    <tr>\n",
       "      <th>196</th>\n",
       "      <td>27.929141</td>\n",
       "      <td>56.302982</td>\n",
       "      <td>6</td>\n",
       "      <td>Accelerated</td>\n",
       "    </tr>\n",
       "    <tr>\n",
       "      <th>197</th>\n",
       "      <td>36.229801</td>\n",
       "      <td>102.308086</td>\n",
       "      <td>8</td>\n",
       "      <td>Accelerated</td>\n",
       "    </tr>\n",
       "    <tr>\n",
       "      <th>198</th>\n",
       "      <td>35.465670</td>\n",
       "      <td>80.281902</td>\n",
       "      <td>13</td>\n",
       "      <td>Accelerated</td>\n",
       "    </tr>\n",
       "    <tr>\n",
       "      <th>199</th>\n",
       "      <td>25.856238</td>\n",
       "      <td>100.567245</td>\n",
       "      <td>18</td>\n",
       "      <td>Accelerated</td>\n",
       "    </tr>\n",
       "  </tbody>\n",
       "</table>\n",
       "</div>"
      ],
      "text/plain": [
       "     Study_Hours_Per_Week  Performance_Score  Projects_Completed  \\\n",
       "195             38.082539          74.962365                  15   \n",
       "196             27.929141          56.302982                   6   \n",
       "197             36.229801         102.308086                   8   \n",
       "198             35.465670          80.281902                  13   \n",
       "199             25.856238         100.567245                  18   \n",
       "\n",
       "    Learning_Track  \n",
       "195    Accelerated  \n",
       "196    Accelerated  \n",
       "197    Accelerated  \n",
       "198    Accelerated  \n",
       "199    Accelerated  "
      ]
     },
     "execution_count": 14,
     "metadata": {},
     "output_type": "execute_result"
    }
   ],
   "source": [
    "data.tail()"
   ]
  },
  {
   "cell_type": "code",
   "execution_count": 15,
   "id": "810e0510",
   "metadata": {},
   "outputs": [],
   "source": [
    "# Clean the data - to keep it in range or in realistic bounds by cliping it.\n",
    "data['Study_Hours_Per_Week'] = round(np.clip(data['Study_Hours_Per_Week'], 10, 60),1)  # 10-60 hours/week\n",
    "data['Performance_Score'] = round(np.clip(data['Performance_Score'], 0, 100),1)  # 0-100 score\n",
    "data['Projects_Completed'] = np.clip(data['Projects_Completed'], 1, 25)  # 1-25 projects"
   ]
  },
  {
   "cell_type": "code",
   "execution_count": 16,
   "id": "10c36a80",
   "metadata": {},
   "outputs": [
    {
     "data": {
      "application/vnd.microsoft.datawrangler.viewer.v0+json": {
       "columns": [
        {
         "name": "index",
         "rawType": "int64",
         "type": "integer"
        },
        {
         "name": "Study_Hours_Per_Week",
         "rawType": "float64",
         "type": "float"
        },
        {
         "name": "Performance_Score",
         "rawType": "float64",
         "type": "float"
        },
        {
         "name": "Projects_Completed",
         "rawType": "int32",
         "type": "integer"
        },
        {
         "name": "Learning_Track",
         "rawType": "object",
         "type": "string"
        }
       ],
       "ref": "a16fee6c-a522-4cf3-92cb-ab552cd9f0b7",
       "rows": [
        [
         "195",
         "38.1",
         "75.0",
         "15",
         "Accelerated"
        ],
        [
         "196",
         "27.9",
         "56.3",
         "6",
         "Accelerated"
        ],
        [
         "197",
         "36.2",
         "100.0",
         "8",
         "Accelerated"
        ],
        [
         "198",
         "35.5",
         "80.3",
         "13",
         "Accelerated"
        ],
        [
         "199",
         "25.9",
         "100.0",
         "18",
         "Accelerated"
        ]
       ],
       "shape": {
        "columns": 4,
        "rows": 5
       }
      },
      "text/html": [
       "<div>\n",
       "<style scoped>\n",
       "    .dataframe tbody tr th:only-of-type {\n",
       "        vertical-align: middle;\n",
       "    }\n",
       "\n",
       "    .dataframe tbody tr th {\n",
       "        vertical-align: top;\n",
       "    }\n",
       "\n",
       "    .dataframe thead th {\n",
       "        text-align: right;\n",
       "    }\n",
       "</style>\n",
       "<table border=\"1\" class=\"dataframe\">\n",
       "  <thead>\n",
       "    <tr style=\"text-align: right;\">\n",
       "      <th></th>\n",
       "      <th>Study_Hours_Per_Week</th>\n",
       "      <th>Performance_Score</th>\n",
       "      <th>Projects_Completed</th>\n",
       "      <th>Learning_Track</th>\n",
       "    </tr>\n",
       "  </thead>\n",
       "  <tbody>\n",
       "    <tr>\n",
       "      <th>195</th>\n",
       "      <td>38.1</td>\n",
       "      <td>75.0</td>\n",
       "      <td>15</td>\n",
       "      <td>Accelerated</td>\n",
       "    </tr>\n",
       "    <tr>\n",
       "      <th>196</th>\n",
       "      <td>27.9</td>\n",
       "      <td>56.3</td>\n",
       "      <td>6</td>\n",
       "      <td>Accelerated</td>\n",
       "    </tr>\n",
       "    <tr>\n",
       "      <th>197</th>\n",
       "      <td>36.2</td>\n",
       "      <td>100.0</td>\n",
       "      <td>8</td>\n",
       "      <td>Accelerated</td>\n",
       "    </tr>\n",
       "    <tr>\n",
       "      <th>198</th>\n",
       "      <td>35.5</td>\n",
       "      <td>80.3</td>\n",
       "      <td>13</td>\n",
       "      <td>Accelerated</td>\n",
       "    </tr>\n",
       "    <tr>\n",
       "      <th>199</th>\n",
       "      <td>25.9</td>\n",
       "      <td>100.0</td>\n",
       "      <td>18</td>\n",
       "      <td>Accelerated</td>\n",
       "    </tr>\n",
       "  </tbody>\n",
       "</table>\n",
       "</div>"
      ],
      "text/plain": [
       "     Study_Hours_Per_Week  Performance_Score  Projects_Completed  \\\n",
       "195                  38.1               75.0                  15   \n",
       "196                  27.9               56.3                   6   \n",
       "197                  36.2              100.0                   8   \n",
       "198                  35.5               80.3                  13   \n",
       "199                  25.9              100.0                  18   \n",
       "\n",
       "    Learning_Track  \n",
       "195    Accelerated  \n",
       "196    Accelerated  \n",
       "197    Accelerated  \n",
       "198    Accelerated  \n",
       "199    Accelerated  "
      ]
     },
     "execution_count": 16,
     "metadata": {},
     "output_type": "execute_result"
    }
   ],
   "source": [
    "data.tail()"
   ]
  },
  {
   "cell_type": "code",
   "execution_count": 17,
   "id": "bc405234",
   "metadata": {},
   "outputs": [
    {
     "name": "stdout",
     "output_type": "stream",
     "text": [
      "Total AI Engineering Students: 200\n",
      "Learning Tracks: ['Traditional' 'Accelerated']\n",
      "\n",
      "First 10 students in our dataset:\n",
      "   Study_Hours_Per_Week  Performance_Score  Projects_Completed Learning_Track\n",
      "0                  27.5               79.3                  12    Traditional\n",
      "1                  24.3               81.7                   7    Traditional\n",
      "2                  28.2               88.0                  10    Traditional\n",
      "3                  32.6               87.6                   5    Traditional\n",
      "4                  23.8               58.5                  12    Traditional\n",
      "5                  23.8               63.7                   9    Traditional\n",
      "6                  32.9               81.2                   4    Traditional\n",
      "7                  28.8               81.2                   7    Traditional\n",
      "8                  22.7               81.2                   4    Traditional\n",
      "9                  27.7              100.0                   7    Traditional\n"
     ]
    }
   ],
   "source": [
    "# Lets take a snapshot of the data\n",
    "\n",
    "print(f\"Total AI Engineering Students: {len(data)}\")\n",
    "print(f\"Learning Tracks: {data['Learning_Track'].unique()}\")\n",
    "print(\"\\nFirst 10 students in our dataset:\")\n",
    "print(data.head(10).round(1)) # you can you round as a method, just by the way"
   ]
  },
  {
   "cell_type": "markdown",
   "id": "0c3234bf",
   "metadata": {},
   "source": [
    "**Discriptive Statistics for this data**"
   ]
  },
  {
   "cell_type": "code",
   "execution_count": 18,
   "id": "951e34ec",
   "metadata": {},
   "outputs": [
    {
     "data": {
      "application/vnd.microsoft.datawrangler.viewer.v0+json": {
       "columns": [
        {
         "name": "Learning_Track",
         "rawType": "object",
         "type": "string"
        },
        {
         "name": "count",
         "rawType": "float64",
         "type": "float"
        },
        {
         "name": "mean",
         "rawType": "float64",
         "type": "float"
        },
        {
         "name": "std",
         "rawType": "float64",
         "type": "float"
        },
        {
         "name": "min",
         "rawType": "float64",
         "type": "float"
        },
        {
         "name": "25%",
         "rawType": "float64",
         "type": "float"
        },
        {
         "name": "50%",
         "rawType": "float64",
         "type": "float"
        },
        {
         "name": "75%",
         "rawType": "float64",
         "type": "float"
        },
        {
         "name": "max",
         "rawType": "float64",
         "type": "float"
        }
       ],
       "ref": "66702a39-ad6e-4d71-8504-05ba9aef4ba6",
       "rows": [
        [
         "Accelerated",
         "100.0",
         "35.18",
         "7.63",
         "19.6",
         "28.58",
         "35.65",
         "39.33",
         "56.8"
        ],
        [
         "Traditional",
         "100.0",
         "24.48",
         "4.54",
         "11.9",
         "22.0",
         "24.35",
         "27.05",
         "34.3"
        ]
       ],
       "shape": {
        "columns": 8,
        "rows": 2
       }
      },
      "text/html": [
       "<div>\n",
       "<style scoped>\n",
       "    .dataframe tbody tr th:only-of-type {\n",
       "        vertical-align: middle;\n",
       "    }\n",
       "\n",
       "    .dataframe tbody tr th {\n",
       "        vertical-align: top;\n",
       "    }\n",
       "\n",
       "    .dataframe thead th {\n",
       "        text-align: right;\n",
       "    }\n",
       "</style>\n",
       "<table border=\"1\" class=\"dataframe\">\n",
       "  <thead>\n",
       "    <tr style=\"text-align: right;\">\n",
       "      <th></th>\n",
       "      <th>count</th>\n",
       "      <th>mean</th>\n",
       "      <th>std</th>\n",
       "      <th>min</th>\n",
       "      <th>25%</th>\n",
       "      <th>50%</th>\n",
       "      <th>75%</th>\n",
       "      <th>max</th>\n",
       "    </tr>\n",
       "    <tr>\n",
       "      <th>Learning_Track</th>\n",
       "      <th></th>\n",
       "      <th></th>\n",
       "      <th></th>\n",
       "      <th></th>\n",
       "      <th></th>\n",
       "      <th></th>\n",
       "      <th></th>\n",
       "      <th></th>\n",
       "    </tr>\n",
       "  </thead>\n",
       "  <tbody>\n",
       "    <tr>\n",
       "      <th>Accelerated</th>\n",
       "      <td>100.0</td>\n",
       "      <td>35.18</td>\n",
       "      <td>7.63</td>\n",
       "      <td>19.6</td>\n",
       "      <td>28.58</td>\n",
       "      <td>35.65</td>\n",
       "      <td>39.33</td>\n",
       "      <td>56.8</td>\n",
       "    </tr>\n",
       "    <tr>\n",
       "      <th>Traditional</th>\n",
       "      <td>100.0</td>\n",
       "      <td>24.48</td>\n",
       "      <td>4.54</td>\n",
       "      <td>11.9</td>\n",
       "      <td>22.00</td>\n",
       "      <td>24.35</td>\n",
       "      <td>27.05</td>\n",
       "      <td>34.3</td>\n",
       "    </tr>\n",
       "  </tbody>\n",
       "</table>\n",
       "</div>"
      ],
      "text/plain": [
       "                count   mean   std   min    25%    50%    75%   max\n",
       "Learning_Track                                                     \n",
       "Accelerated     100.0  35.18  7.63  19.6  28.58  35.65  39.33  56.8\n",
       "Traditional     100.0  24.48  4.54  11.9  22.00  24.35  27.05  34.3"
      ]
     },
     "execution_count": 18,
     "metadata": {},
     "output_type": "execute_result"
    }
   ],
   "source": [
    "# Lets get the description for each learning track by study hours\n",
    "\n",
    "data.groupby('Learning_Track')['Study_Hours_Per_Week'].describe().round(2)"
   ]
  },
  {
   "cell_type": "code",
   "execution_count": 19,
   "id": "b49299dc",
   "metadata": {},
   "outputs": [
    {
     "data": {
      "application/vnd.microsoft.datawrangler.viewer.v0+json": {
       "columns": [
        {
         "name": "Learning_Track",
         "rawType": "object",
         "type": "string"
        },
        {
         "name": "count",
         "rawType": "float64",
         "type": "float"
        },
        {
         "name": "mean",
         "rawType": "float64",
         "type": "float"
        },
        {
         "name": "std",
         "rawType": "float64",
         "type": "float"
        },
        {
         "name": "min",
         "rawType": "float64",
         "type": "float"
        },
        {
         "name": "25%",
         "rawType": "float64",
         "type": "float"
        },
        {
         "name": "50%",
         "rawType": "float64",
         "type": "float"
        },
        {
         "name": "75%",
         "rawType": "float64",
         "type": "float"
        },
        {
         "name": "max",
         "rawType": "float64",
         "type": "float"
        }
       ],
       "ref": "18011131-79c5-48ba-b299-64525e81bb76",
       "rows": [
        [
         "Accelerated",
         "100.0",
         "82.8",
         "11.83",
         "50.1",
         "73.45",
         "82.75",
         "92.25",
         "100.0"
        ],
        [
         "Traditional",
         "100.0",
         "75.52",
         "12.33",
         "36.1",
         "67.18",
         "76.2",
         "83.42",
         "100.0"
        ]
       ],
       "shape": {
        "columns": 8,
        "rows": 2
       }
      },
      "text/html": [
       "<div>\n",
       "<style scoped>\n",
       "    .dataframe tbody tr th:only-of-type {\n",
       "        vertical-align: middle;\n",
       "    }\n",
       "\n",
       "    .dataframe tbody tr th {\n",
       "        vertical-align: top;\n",
       "    }\n",
       "\n",
       "    .dataframe thead th {\n",
       "        text-align: right;\n",
       "    }\n",
       "</style>\n",
       "<table border=\"1\" class=\"dataframe\">\n",
       "  <thead>\n",
       "    <tr style=\"text-align: right;\">\n",
       "      <th></th>\n",
       "      <th>count</th>\n",
       "      <th>mean</th>\n",
       "      <th>std</th>\n",
       "      <th>min</th>\n",
       "      <th>25%</th>\n",
       "      <th>50%</th>\n",
       "      <th>75%</th>\n",
       "      <th>max</th>\n",
       "    </tr>\n",
       "    <tr>\n",
       "      <th>Learning_Track</th>\n",
       "      <th></th>\n",
       "      <th></th>\n",
       "      <th></th>\n",
       "      <th></th>\n",
       "      <th></th>\n",
       "      <th></th>\n",
       "      <th></th>\n",
       "      <th></th>\n",
       "    </tr>\n",
       "  </thead>\n",
       "  <tbody>\n",
       "    <tr>\n",
       "      <th>Accelerated</th>\n",
       "      <td>100.0</td>\n",
       "      <td>82.80</td>\n",
       "      <td>11.83</td>\n",
       "      <td>50.1</td>\n",
       "      <td>73.45</td>\n",
       "      <td>82.75</td>\n",
       "      <td>92.25</td>\n",
       "      <td>100.0</td>\n",
       "    </tr>\n",
       "    <tr>\n",
       "      <th>Traditional</th>\n",
       "      <td>100.0</td>\n",
       "      <td>75.52</td>\n",
       "      <td>12.33</td>\n",
       "      <td>36.1</td>\n",
       "      <td>67.18</td>\n",
       "      <td>76.20</td>\n",
       "      <td>83.42</td>\n",
       "      <td>100.0</td>\n",
       "    </tr>\n",
       "  </tbody>\n",
       "</table>\n",
       "</div>"
      ],
      "text/plain": [
       "                count   mean    std   min    25%    50%    75%    max\n",
       "Learning_Track                                                       \n",
       "Accelerated     100.0  82.80  11.83  50.1  73.45  82.75  92.25  100.0\n",
       "Traditional     100.0  75.52  12.33  36.1  67.18  76.20  83.42  100.0"
      ]
     },
     "execution_count": 19,
     "metadata": {},
     "output_type": "execute_result"
    }
   ],
   "source": [
    "# Lets get the description for each learning track by performance score\n",
    "\n",
    "data.groupby('Learning_Track')['Performance_Score'].describe().round(2)"
   ]
  },
  {
   "cell_type": "code",
   "execution_count": 20,
   "id": "89651893",
   "metadata": {},
   "outputs": [
    {
     "data": {
      "application/vnd.microsoft.datawrangler.viewer.v0+json": {
       "columns": [
        {
         "name": "Learning_Track",
         "rawType": "object",
         "type": "string"
        },
        {
         "name": "count",
         "rawType": "float64",
         "type": "float"
        },
        {
         "name": "mean",
         "rawType": "float64",
         "type": "float"
        },
        {
         "name": "std",
         "rawType": "float64",
         "type": "float"
        },
        {
         "name": "min",
         "rawType": "float64",
         "type": "float"
        },
        {
         "name": "25%",
         "rawType": "float64",
         "type": "float"
        },
        {
         "name": "50%",
         "rawType": "float64",
         "type": "float"
        },
        {
         "name": "75%",
         "rawType": "float64",
         "type": "float"
        },
        {
         "name": "max",
         "rawType": "float64",
         "type": "float"
        }
       ],
       "ref": "b404966d-9c3d-4455-b28f-9ed33536052f",
       "rows": [
        [
         "Accelerated",
         "100.0",
         "12.01",
         "3.63",
         "3.0",
         "9.0",
         "12.0",
         "14.0",
         "22.0"
        ],
        [
         "Traditional",
         "100.0",
         "7.88",
         "2.4",
         "3.0",
         "6.0",
         "8.0",
         "9.25",
         "14.0"
        ]
       ],
       "shape": {
        "columns": 8,
        "rows": 2
       }
      },
      "text/html": [
       "<div>\n",
       "<style scoped>\n",
       "    .dataframe tbody tr th:only-of-type {\n",
       "        vertical-align: middle;\n",
       "    }\n",
       "\n",
       "    .dataframe tbody tr th {\n",
       "        vertical-align: top;\n",
       "    }\n",
       "\n",
       "    .dataframe thead th {\n",
       "        text-align: right;\n",
       "    }\n",
       "</style>\n",
       "<table border=\"1\" class=\"dataframe\">\n",
       "  <thead>\n",
       "    <tr style=\"text-align: right;\">\n",
       "      <th></th>\n",
       "      <th>count</th>\n",
       "      <th>mean</th>\n",
       "      <th>std</th>\n",
       "      <th>min</th>\n",
       "      <th>25%</th>\n",
       "      <th>50%</th>\n",
       "      <th>75%</th>\n",
       "      <th>max</th>\n",
       "    </tr>\n",
       "    <tr>\n",
       "      <th>Learning_Track</th>\n",
       "      <th></th>\n",
       "      <th></th>\n",
       "      <th></th>\n",
       "      <th></th>\n",
       "      <th></th>\n",
       "      <th></th>\n",
       "      <th></th>\n",
       "      <th></th>\n",
       "    </tr>\n",
       "  </thead>\n",
       "  <tbody>\n",
       "    <tr>\n",
       "      <th>Accelerated</th>\n",
       "      <td>100.0</td>\n",
       "      <td>12.01</td>\n",
       "      <td>3.63</td>\n",
       "      <td>3.0</td>\n",
       "      <td>9.0</td>\n",
       "      <td>12.0</td>\n",
       "      <td>14.00</td>\n",
       "      <td>22.0</td>\n",
       "    </tr>\n",
       "    <tr>\n",
       "      <th>Traditional</th>\n",
       "      <td>100.0</td>\n",
       "      <td>7.88</td>\n",
       "      <td>2.40</td>\n",
       "      <td>3.0</td>\n",
       "      <td>6.0</td>\n",
       "      <td>8.0</td>\n",
       "      <td>9.25</td>\n",
       "      <td>14.0</td>\n",
       "    </tr>\n",
       "  </tbody>\n",
       "</table>\n",
       "</div>"
      ],
      "text/plain": [
       "                count   mean   std  min  25%   50%    75%   max\n",
       "Learning_Track                                                 \n",
       "Accelerated     100.0  12.01  3.63  3.0  9.0  12.0  14.00  22.0\n",
       "Traditional     100.0   7.88  2.40  3.0  6.0   8.0   9.25  14.0"
      ]
     },
     "execution_count": 20,
     "metadata": {},
     "output_type": "execute_result"
    }
   ],
   "source": [
    "# Lets get the description for each learning track by projects completed\n",
    "\n",
    "data.groupby('Learning_Track')['Projects_Completed'].describe().round(2)"
   ]
  },
  {
   "cell_type": "code",
   "execution_count": 21,
   "id": "edbd9935",
   "metadata": {},
   "outputs": [
    {
     "name": "stdout",
     "output_type": "stream",
     "text": [
      "               Study_Hours_Per_Week                                          \\\n",
      "                              count   mean   std   min    25%    50%    75%   \n",
      "Learning_Track                                                                \n",
      "Accelerated                   100.0  35.18  7.63  19.6  28.58  35.65  39.33   \n",
      "Traditional                   100.0  24.48  4.54  11.9  22.00  24.35  27.05   \n",
      "\n",
      "                     Performance_Score         ...                \\\n",
      "                 max             count   mean  ...    75%    max   \n",
      "Learning_Track                                 ...                 \n",
      "Accelerated     56.8             100.0  82.80  ...  92.25  100.0   \n",
      "Traditional     34.3             100.0  75.52  ...  83.42  100.0   \n",
      "\n",
      "               Projects_Completed                                            \n",
      "                            count   mean   std  min  25%   50%    75%   max  \n",
      "Learning_Track                                                               \n",
      "Accelerated                 100.0  12.01  3.63  3.0  9.0  12.0  14.00  22.0  \n",
      "Traditional                 100.0   7.88  2.40  3.0  6.0   8.0   9.25  14.0  \n",
      "\n",
      "[2 rows x 24 columns]\n"
     ]
    }
   ],
   "source": [
    "# You can use this if you dont want to bother about writing it one by one\n",
    "\n",
    "print(data.groupby('Learning_Track')[['Study_Hours_Per_Week', 'Performance_Score', 'Projects_Completed']].describe().round(2))"
   ]
  },
  {
   "cell_type": "code",
   "execution_count": 22,
   "id": "e0fdb5a4",
   "metadata": {},
   "outputs": [
    {
     "name": "stdout",
     "output_type": "stream",
     "text": [
      "\n",
      "=== VISUAL REPRESENTATION ===\n",
      "\n",
      "Traditional Learning Track (n=100 students):\n",
      "  Study Hours per Week:\n",
      "    Mean: 24.5 hours\n",
      "    Median: 24.4 hours\n",
      "    Standard Deviation: 4.5 hours\n",
      "  Performance Scores:\n",
      "    Mean: 75.5\n",
      "    Median: 76.2\n",
      "    Standard Deviation: 12.3\n",
      "  Projects Completed:\n",
      "    Mean: 7.9 projects\n",
      "    Median: 8.0 projects\n",
      "    Range: 3 - 14 projects\n",
      "\n",
      "Accelerated Learning Track (n=100 students):\n",
      "  Study Hours per Week:\n",
      "    Mean: 35.2 hours\n",
      "    Median: 35.6 hours\n",
      "    Standard Deviation: 7.6 hours\n",
      "  Performance Scores:\n",
      "    Mean: 82.8\n",
      "    Median: 82.8\n",
      "    Standard Deviation: 11.8\n",
      "  Projects Completed:\n",
      "    Mean: 12.0 projects\n",
      "    Median: 12.0 projects\n",
      "    Range: 3 - 22 projects\n"
     ]
    }
   ],
   "source": [
    "# LEts check other descriptive measures\n",
    "# please, when you are coding maintain the space in the print statement, e get why.\n",
    "# Analyze each learning track\n",
    "\n",
    "print(\"\\n=== VISUAL REPRESENTATION ===\")\n",
    "for track in ['Traditional', 'Accelerated']:\n",
    "    track_data = data[data['Learning_Track'] == track]\n",
    "    \n",
    "    print(f\"\\n{track} Learning Track (n={len(track_data)} students):\")\n",
    "    print(\"  Study Hours per Week:\")\n",
    "    print(f\"    Mean: {track_data['Study_Hours_Per_Week'].mean():.1f} hours\")\n",
    "    print(f\"    Median: {track_data['Study_Hours_Per_Week'].median():.1f} hours\")\n",
    "    print(f\"    Standard Deviation: {track_data['Study_Hours_Per_Week'].std():.1f} hours\")\n",
    "    \n",
    "    print(\"  Performance Scores:\")\n",
    "    print(f\"    Mean: {track_data['Performance_Score'].mean():.1f}\")\n",
    "    print(f\"    Median: {track_data['Performance_Score'].median():.1f}\")\n",
    "    print(f\"    Standard Deviation: {track_data['Performance_Score'].std():.1f}\")\n",
    "    \n",
    "    print(\"  Projects Completed:\")\n",
    "    print(f\"    Mean: {track_data['Projects_Completed'].mean():.1f} projects\")\n",
    "    print(f\"    Median: {track_data['Projects_Completed'].median():.1f} projects\")\n",
    "    print(f\"    Range: {track_data['Projects_Completed'].min()} - {track_data['Projects_Completed'].max()} projects\")"
   ]
  },
  {
   "cell_type": "markdown",
   "id": "5e2df741",
   "metadata": {},
   "source": [
    "_________________________________________________________\n",
    "**Interpreting The Results Above -Learning Track Analysis**\n",
    "_________________________________________________________\n",
    "\n",
    "**ACCELERATED TRACK STUDENTS:**\n",
    "\n",
    "- Study **43% MORE** hours per week (35.2 vs 24.5 hours)\n",
    "- Score **7.3 points HIGHER** on average (82.8 vs 75.5)\n",
    "- Complete **52% MORE** projects (12.0 vs 7.9 projects)\n",
    "\n",
    "**Key Insight:** More effort = Better results, but is it worth the extra 10+ hours per week?\n",
    "\n",
    "\n",
    "**DETAILED BREAKDOWN - What Each Number Is Saying**\n",
    "\n",
    "**STUDY HOURS PER WEEK**\n",
    "\n",
    "| Metric      | Traditional | Accelerated | What This Means                                      |\n",
    "|-------------|-------------|-------------|------------------------------------------------------|\n",
    "| **Average** | 24.5 hours  | 35.2 hours  | Accelerated students put in **10.7 MORE hours/week** |\n",
    "| **Median**  | 24.4 hours  | 35.7 hours  | \"Typical\" student in each track                      |\n",
    "| **Std Dev** | 4.5 hours   |  7.6 hours  | Accelerated has **more variation** in study habits   |\n",
    "\n",
    "\n",
    "**Student Translation:**\n",
    "- **Traditional:** Most students study 20-29 hours/week (pretty consistent)\n",
    "- **Accelerated:** Study time ranges from 28-42 hours/week (more varied approaches)\n",
    "- **Reality Check:** Accelerated = almost **full-time job** level commitment!"
   ]
  },
  {
   "cell_type": "markdown",
   "id": "f3210ff9",
   "metadata": {},
   "source": [
    "\n",
    "\n",
    "**PERFORMANCE SCORES (0-100 scale)**\n",
    "\n",
    "| Metric      | Traditional | Accelerated            | Difference                                |\n",
    "|-------------|-------------|------------------------|-------------------------------------------|\n",
    "| **Average** | 75.5        | 82.8                   |      **+7.3 points**                      |\n",
    "| **Median**  | 76.2        | 82.8                   | Both close to means = normal distributions|\n",
    "| **Std Dev** | 12.3        | Data missing           | Traditional shows moderate variation      |\n",
    "\n",
    "**Student Translation:**\n",
    "- **Traditional Track:** Solid \"B\" average (75.5/100)\n",
    "- **Accelerated Track:** Strong \"B+\" average (82.8/100) \n",
    "- **The Trade-off:** 43% more study time to 10% better performance\n",
    "- **Is it worth it?** That's YOUR decision based on your goals!"
   ]
  },
  {
   "cell_type": "markdown",
   "id": "3002807c",
   "metadata": {},
   "source": [
    "**PROJECTS COMPLETED**\n",
    "\n",
    "| Metric      | Traditional  | Accelerated   | What This Means                       |\n",
    "|-------------|--------------|---------------|---------------------------------------|\n",
    "| **Average** | 7.9 projects | 12.0 projects | **+4.1 more projects** (52% increase) |\n",
    "| **Median**  | 8.0 projects | 12.0 projects | Consistent with averages              |\n",
    "| **Range**   | 3-14 projects| 3-22 projects | Accelerated has wider range           |\n",
    "\n",
    "**Student Translation:**\n",
    "- **Traditional:** About **2 projects per month** (assuming 4-month semester)\n",
    "- **Accelerated:** About **3 projects per month** \n",
    "- **Hands-on Experience:** Accelerated students get **50% more** practical coding experience\n",
    "- **Portfolio Impact:** More projects = stronger GitHub profile for job hunting"
   ]
  },
  {
   "cell_type": "markdown",
   "id": "6ba8d4c2",
   "metadata": {},
   "source": [
    "**CRITICAL INSIGHTS FOR YOUR DECISION-MAKING**\n",
    "\n",
    "**Efficiency Analysis: \"Bang for Your Buck\"**\n",
    "- **Per Hour Investment:** Accelerated students gain 0.21 points per extra study hour\n",
    "- **Project Efficiency:** Both tracks have similar project quality (3-project minimum suggests similar difficulty)\n",
    "- **Diminishing Returns?** The extra effort gives solid but not dramatic improvements\n",
    "\n",
    "**Standard Deviation Insights (Consistency Check)**\n",
    "- **Traditional Study Hours (SD=4.5):** Very consistent - most students follow similar patterns\n",
    "- **Accelerated Study Hours (SD=7.6):** More varied - some students find efficient ways, others struggle\n",
    "- **Traditional Performance (SD=12.3):** Normal academic variation"
   ]
  },
  {
   "cell_type": "markdown",
   "id": "7bde82a1",
   "metadata": {},
   "source": [
    "\n",
    "**What This Means for Different Student Types**\n",
    "\n",
    "**If You're a HIGH ACHIEVER:**\n",
    "- Accelerated might be perfect - you'll likely be in the upper range\n",
    "- More projects = better portfolio = stronger job prospects\n",
    "\n",
    "**If You Want BALANCE:**\n",
    "- Traditional gives solid results with manageable time commitment\n",
    "- Still provides good foundation for AI career\n",
    "\n",
    "**If You're CAREER-FOCUSED:**\n",
    "- Consider: Do employers value the extra projects more than the GPA difference?\n",
    "- 12 projects vs 8 projects could be significant for portfolio\n",
    "\n",
    "**If You're WORKING/Have OTHER COMMITMENTS:**\n",
    "- Traditional's 24.5 hours/week is more sustainable\n",
    "- Quality over quantity approach still yields good results"
   ]
  },
  {
   "cell_type": "markdown",
   "id": "dcc07459",
   "metadata": {},
   "source": [
    "**RED FLAGS TO WATCH FOR**\n",
    "\n",
    "1. **Burnout Risk:** 35+ hours/week is sustainable for how long?\n",
    "2. **Diminishing Returns:** 43% more time for 10% better grades\n",
    "3. **Individual Variation:** High SD in Accelerated suggests some students struggle with the pace\n",
    "\n",
    "**ACTION ITEMS: How to Use This Data**\n",
    "\n",
    "**If You Choose TRADITIONAL:**\n",
    "- Aim for **25-30 hours/week** study time\n",
    "- Target **8+ projects** to match the average\n",
    "- Focus on **quality over quantity**\n",
    "- Expect solid **B-level performance**\n",
    "\n",
    "**If You Choose ACCELERATED:**\n",
    "- Prepare for **35-40 hours/week** commitment\n",
    "- Leverage the **project-heavy** approach for portfolio building\n",
    "- Aim to be in the **efficient group** (don't just study more, study smarter)\n",
    "- Target **B+ performance** as baseline\n",
    "\n",
    "**For BOTH Tracks:**\n",
    "- **Projects matter:** Strong correlation between hands-on work and learning\n",
    "- **Consistency wins:** Notice how medians ≈ means (no extreme outliers)\n",
    "- **Plan accordingly:** Use these benchmarks to set realistic expectations\n",
    "\n",
    "\n",
    "**Which Track Should You Go For?**\n",
    "\n",
    "**Choose ACCELERATED if:**\n",
    "- You want maximum learning in minimum time\n",
    "- Building a strong project portfolio is priority #1\n",
    "- You can sustain 35+ hours/week for the program duration\n",
    "- You're targeting competitive AI roles\n",
    "\n",
    "**Choose TRADITIONAL if:**\n",
    "- You want sustainable, balanced learning\n",
    "- You have other commitments (work, family)\n",
    "- You prefer depth over breadth\n",
    "- You're building long-term career foundations\n",
    "\n",
    "**Remember:** Both tracks produce successful AI engineers - choose based on YOUR situation, not just the numbers."
   ]
  },
  {
   "cell_type": "code",
   "execution_count": 23,
   "id": "891fd13b",
   "metadata": {},
   "outputs": [
    {
     "data": {
      "text/plain": [
       "<matplotlib.legend.Legend at 0x20b039f2c90>"
      ]
     },
     "execution_count": 23,
     "metadata": {},
     "output_type": "execute_result"
    },
    {
     "data": {
      "image/png": "[encoded data removed]",
      "text/plain": [
       "<Figure size 1500x1000 with 6 Axes>"
      ]
     },
     "metadata": {},
     "output_type": "display_data"
    }
   ],
   "source": [
    "# Create comprehensive visualizations for AI Engineering data\n",
    "fig, axes = plt.subplots(2, 3, figsize=(15, 10))\n",
    "\n",
    "# 1. Study Hours Distribution\n",
    "for track in ['Traditional', 'Accelerated']:\n",
    "    track_data = data[data['Learning_Track'] == track]['Study_Hours_Per_Week']\n",
    "    axes[0,0].hist(track_data, bins=15, alpha=0.7, \n",
    "                   label=f'{track} (μ={track_data.mean():.1f}h)', \n",
    "                   color='blue' if track == 'Traditional' else 'red')\n",
    "axes[0,0].set_title('Weekly Study Hours Distribution')\n",
    "axes[0,0].set_xlabel('Hours per Week')\n",
    "axes[0,0].set_ylabel('Number of Students')\n",
    "axes[0,0].legend()\n",
    "\n",
    "# # 2. Performance Score Box Plot\n",
    "# data.boxplot(column='Performance_Score', by='Learning_Track', ax=axes[0,1])\n",
    "# axes[0,1].set_title('Performance Scores by Learning Track')\n",
    "# axes[0,1].set_ylabel('Performance Score (0-100)')\n",
    "# axes[0,1].set_xlabel('Learning Track')\n",
    "\n",
    "# # 3. Projects Completed Comparison\n",
    "# traditional_projects = data[data['Learning_Track'] == 'Traditional']['Projects_Completed']\n",
    "# accelerated_projects = data[data['Learning_Track'] == 'Accelerated']['Projects_Completed']\n",
    "\n",
    "# axes[0,2].bar(['Traditional', 'Accelerated'], \n",
    "#               [traditional_projects.mean(), accelerated_projects.mean()],\n",
    "#               color=['blue', 'red'], alpha=0.7,\n",
    "#               yerr=[traditional_projects.std(), accelerated_projects.std()],\n",
    "#               capsize=5)\n",
    "# axes[0,2].set_title('Average Projects Completed')\n",
    "# axes[0,2].set_ylabel('Number of Projects')\n",
    "\n",
    "# # 4. Study Hours vs Performance Scatter\n",
    "# traditional_data = data[data['Learning_Track'] == 'Traditional']\n",
    "# accelerated_data = data[data['Learning_Track'] == 'Accelerated']\n",
    "\n",
    "# axes[1,0].scatter(traditional_data['Study_Hours_Per_Week'], traditional_data['Performance_Score'], \n",
    "#                   alpha=0.6, label='Traditional', color='blue')\n",
    "# axes[1,0].scatter(accelerated_data['Study_Hours_Per_Week'], accelerated_data['Performance_Score'], \n",
    "#                   alpha=0.6, label='Accelerated', color='red')\n",
    "# axes[1,0].set_title('Study Hours vs Performance')\n",
    "# axes[1,0].set_xlabel('Study Hours per Week')\n",
    "# axes[1,0].set_ylabel('Performance Score')\n",
    "# axes[1,0].legend()\n",
    "\n",
    "# # 5. Performance Score Distribution\n",
    "# for track in ['Traditional', 'Accelerated']:\n",
    "#     track_scores = data[data['Learning_Track'] == track]['Performance_Score']\n",
    "#     axes[1,1].hist(track_scores, bins=15, alpha=0.7, \n",
    "#                    label=f'{track} (μ={track_scores.mean():.1f})', \n",
    "#                    color='blue' if track == 'Traditional' else 'red')\n",
    "# axes[1,1].set_title('Performance Score Distribution')\n",
    "# axes[1,1].set_xlabel('Performance Score')\n",
    "# axes[1,1].set_ylabel('Number of Students')\n",
    "# axes[1,1].legend()\n",
    "\n",
    "# # 6. Multi-metric comparison\n",
    "# metrics = ['Study_Hours_Per_Week', 'Performance_Score', 'Projects_Completed']\n",
    "# traditional_means = [data[data['Learning_Track'] == 'Traditional'][metric].mean() for metric in metrics]\n",
    "# accelerated_means = [data[data['Learning_Track'] == 'Accelerated'][metric].mean() for metric in metrics]\n",
    "\n",
    "# # Normalize for comparison (scale to 0-1)\n",
    "# traditional_norm = [(x - min(traditional_means + accelerated_means)) / \n",
    "#                    (max(traditional_means + accelerated_means) - min(traditional_means + accelerated_means)) \n",
    "#                    for x in traditional_means]\n",
    "# accelerated_norm = [(x - min(traditional_means + accelerated_means)) / \n",
    "#                    (max(traditional_means + accelerated_means) - min(traditional_means + accelerated_means)) \n",
    "#                    for x in accelerated_means]\n",
    "\n",
    "# x = np.arange(len(metrics))\n",
    "# width = 0.35\n",
    "\n",
    "# axes[1,2].bar(x - width/2, traditional_norm, width, label='Traditional', alpha=0.7, color='blue')\n",
    "# axes[1,2].bar(x + width/2, accelerated_norm, width, label='Accelerated', alpha=0.7, color='red')\n",
    "# axes[1,2].set_title('Normalized Performance Metrics')\n",
    "# axes[1,2].set_ylabel('Normalized Score (0-1)')\n",
    "# axes[1,2].set_xticks(x)\n",
    "# axes[1,2].set_xticklabels(['Study Hours', 'Performance', 'Projects'])\n",
    "# axes[1,2].legend()\n",
    "\n",
    "# plt.tight_layout()\n",
    "# plt.show()"
   ]
  }
 ],
 "metadata": {
  "kernelspec": {
   "display_name": "a_env",
   "language": "python",
   "name": "python3"
  },
  "language_info": {
   "codemirror_mode": {
    "name": "ipython",
    "version": 3
   },
   "file_extension": ".py",
   "mimetype": "text/x-python",
   "name": "python",
   "nbconvert_exporter": "python",
   "pygments_lexer": "ipython3",
   "version": "3.12.7"
  }
 },
 "nbformat": 4,
 "nbformat_minor": 5
}
