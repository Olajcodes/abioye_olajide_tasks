{
 "cells": [
  {
   "cell_type": "markdown",
   "id": "1531bcb0",
   "metadata": {},
   "source": [
    "### **Statistics**"
   ]
  },
  {
   "cell_type": "markdown",
   "metadata": {},
   "source": [
    "- Statistics is the science of **collecting**, **organizing**, **analyzing**, **interpreting**, and **presenting data** to make **informed decisions**. \n",
    "\n",
    "- Lets think of it as a toolkit that helps us make sense of numbers and discover patterns in the world around us."
   ]
  },
  {
   "cell_type": "markdown",
   "id": "57ef64ab",
   "metadata": {},
   "source": [
    "**There are two main branches**\n",
    "\n",
    "1. **Descriptive Statistics**\n",
    "\n",
    "- Deals with summarizing, organizing, and presenting data we already have.\n",
    "\n",
    "- Uses measures like mean (average), median, mode, range, variance, and standard deviation to describe a dataset.\n",
    "\n",
    "- Also involves graphs, charts, and tables for easy visualization.\n",
    "\n",
    "- For example calculating the average coding hours of AI engineering students.\n",
    "\n",
    "2. **Inferential Statistics**\n",
    "\n",
    "- Uses data from a sample to make conclusions or predictions about a larger population.\n",
    "\n",
    "- Involves methods like correlation, regression, hypothesis testing, chi-square tests, t-tests, and ANOVA.\n",
    "\n",
    "- Helps in data-driven decision making by testing ideas and estimating outcomes with a level of certainty.\n",
    "\n",
    "- Foundation of predictive analysis, guiding policymakers and organizations in making strategic decisions.\n",
    "\n",
    "- For example, uing a survey of 1,000 people to predict how millions will vote in a presidential election."
   ]
  },
  {
   "cell_type": "markdown",
   "metadata": {},
   "source": [
    "**Why Statistics**\n",
    "- Beyond the confusing formulas and outrageous numbers, statistics will help us andswer questions like;\n",
    "\n",
    "   - What's typical? (measures of center)\n",
    "   - How much variation is there?(measures of spread)\n",
    "   - Is this pattern real or just coincidence? (hypothesis testing)\n",
    "   - Can we predict future outcomes?(regression)"
   ]
  },
  {
   "cell_type": "markdown",
   "id": "b17ebed3",
   "metadata": {},
   "source": [
    "**Lets try to understand these concepts with codes**"
   ]
  },
  {
   "cell_type": "code",
   "execution_count": 42,
   "id": "73c2413b",
   "metadata": {},
   "outputs": [],
   "source": [
    "import numpy as np\n",
    "import pandas as pd\n",
    "import matplotlib.pyplot as plt\n",
    "import scipy.stats as stats"
   ]
  },
  {
   "cell_type": "code",
   "execution_count": 41,
   "id": "5eb8417e",
   "metadata": {},
   "outputs": [],
   "source": [
    "# let's set random seed for reproducibility\n",
    "np.random.seed(42)"
   ]
  },
  {
   "cell_type": "code",
   "execution_count": 60,
   "id": "3ee4099c",
   "metadata": {},
   "outputs": [],
   "source": [
    "# Lets simulate a  dataset for AI Engineering students\n",
    "\n",
    "#1. Traditional Learning -classroom-based\n",
    "# - lets create it with a 25 hours/week and standard deviation of 5 hours\n",
    "traditional_study_hours = np.random.normal(25, 5, 100)\n",
    "\n",
    "#. 2. Accelerated Learning (project-based and Hands-on style)\n",
    "\n",
    "# This one will be a 35 hours/week and a standard deviation of 8 hours\n",
    "accelerated_study_hours = np.random.normal(35, 8, 100)\n",
    "\n",
    "# Lets generate corresponding performance scores between 0-100\n",
    "\n",
    "# We would let the performance correlate with study hours but has some randomness\n",
    "\n",
    "traditional_scores = np.random.normal(75, 12, 100)  # Mean of  75, SD of 12\n",
    "accelerated_scores = np.random.normal(82, 15, 100)  # Mean of 82, SD of 15\n",
    "\n",
    "# Lets generate project completion counts\n",
    "\n",
    "traditional_projects = np.random.poisson(8, 100)  # Average 8 projects\n",
    "accelerated_projects = np.random.poisson(12, 100)  # Average 12 projects\n"
   ]
  },
  {
   "cell_type": "code",
   "execution_count": 64,
   "id": "072b84ba",
   "metadata": {},
   "outputs": [],
   "source": [
    "# Now, lets create the DataFrame\n",
    "\n",
    "data = pd.DataFrame({\n",
    "    'Study_Hours_Per_Week': np.concatenate([traditional_study_hours, accelerated_study_hours]),\n",
    "    'Performance_Score': np.concatenate([traditional_scores, accelerated_scores]),\n",
    "    'Projects_Completed': np.concatenate([traditional_projects, accelerated_projects]),\n",
    "    'Learning_Track': ['Traditional'] * 100 + ['Accelerated'] * 100\n",
    "})"
   ]
  },
  {
   "cell_type": "code",
   "execution_count": 67,
   "id": "88e36c00",
   "metadata": {},
   "outputs": [
    {
     "data": {
      "application/vnd.microsoft.datawrangler.viewer.v0+json": {
       "columns": [
        {
         "name": "index",
         "rawType": "int64",
         "type": "integer"
        },
        {
         "name": "Study_Hours_Per_Week",
         "rawType": "float64",
         "type": "float"
        },
        {
         "name": "Performance_Score",
         "rawType": "float64",
         "type": "float"
        },
        {
         "name": "Projects_Completed",
         "rawType": "int32",
         "type": "integer"
        },
        {
         "name": "Learning_Track",
         "rawType": "object",
         "type": "string"
        }
       ],
       "ref": "dbbe84bb-d2e3-47df-8a6f-768fc9e6a71b",
       "rows": [
        [
         "0",
         "24.55797462880923",
         "74.74972666126628",
         "8",
         "Traditional"
        ],
        [
         "1",
         "15.372189911148986",
         "80.31576897840196",
         "9",
         "Traditional"
        ],
        [
         "2",
         "32.67823017510436",
         "83.61814554214416",
         "7",
         "Traditional"
        ],
        [
         "3",
         "19.533136568264453",
         "83.82930228046044",
         "4",
         "Traditional"
        ],
        [
         "4",
         "25.360641292378904",
         "92.39663502433474",
         "9",
         "Traditional"
        ]
       ],
       "shape": {
        "columns": 4,
        "rows": 5
       }
      },
      "text/html": [
       "<div>\n",
       "<style scoped>\n",
       "    .dataframe tbody tr th:only-of-type {\n",
       "        vertical-align: middle;\n",
       "    }\n",
       "\n",
       "    .dataframe tbody tr th {\n",
       "        vertical-align: top;\n",
       "    }\n",
       "\n",
       "    .dataframe thead th {\n",
       "        text-align: right;\n",
       "    }\n",
       "</style>\n",
       "<table border=\"1\" class=\"dataframe\">\n",
       "  <thead>\n",
       "    <tr style=\"text-align: right;\">\n",
       "      <th></th>\n",
       "      <th>Study_Hours_Per_Week</th>\n",
       "      <th>Performance_Score</th>\n",
       "      <th>Projects_Completed</th>\n",
       "      <th>Learning_Track</th>\n",
       "    </tr>\n",
       "  </thead>\n",
       "  <tbody>\n",
       "    <tr>\n",
       "      <th>0</th>\n",
       "      <td>24.557975</td>\n",
       "      <td>74.749727</td>\n",
       "      <td>8</td>\n",
       "      <td>Traditional</td>\n",
       "    </tr>\n",
       "    <tr>\n",
       "      <th>1</th>\n",
       "      <td>15.372190</td>\n",
       "      <td>80.315769</td>\n",
       "      <td>9</td>\n",
       "      <td>Traditional</td>\n",
       "    </tr>\n",
       "    <tr>\n",
       "      <th>2</th>\n",
       "      <td>32.678230</td>\n",
       "      <td>83.618146</td>\n",
       "      <td>7</td>\n",
       "      <td>Traditional</td>\n",
       "    </tr>\n",
       "    <tr>\n",
       "      <th>3</th>\n",
       "      <td>19.533137</td>\n",
       "      <td>83.829302</td>\n",
       "      <td>4</td>\n",
       "      <td>Traditional</td>\n",
       "    </tr>\n",
       "    <tr>\n",
       "      <th>4</th>\n",
       "      <td>25.360641</td>\n",
       "      <td>92.396635</td>\n",
       "      <td>9</td>\n",
       "      <td>Traditional</td>\n",
       "    </tr>\n",
       "  </tbody>\n",
       "</table>\n",
       "</div>"
      ],
      "text/plain": [
       "   Study_Hours_Per_Week  Performance_Score  Projects_Completed Learning_Track\n",
       "0             24.557975          74.749727                   8    Traditional\n",
       "1             15.372190          80.315769                   9    Traditional\n",
       "2             32.678230          83.618146                   7    Traditional\n",
       "3             19.533137          83.829302                   4    Traditional\n",
       "4             25.360641          92.396635                   9    Traditional"
      ]
     },
     "execution_count": 67,
     "metadata": {},
     "output_type": "execute_result"
    }
   ],
   "source": [
    "data.head()"
   ]
  },
  {
   "cell_type": "code",
   "execution_count": 68,
   "id": "c7e2353f",
   "metadata": {},
   "outputs": [
    {
     "data": {
      "application/vnd.microsoft.datawrangler.viewer.v0+json": {
       "columns": [
        {
         "name": "index",
         "rawType": "int64",
         "type": "integer"
        },
        {
         "name": "Study_Hours_Per_Week",
         "rawType": "float64",
         "type": "float"
        },
        {
         "name": "Performance_Score",
         "rawType": "float64",
         "type": "float"
        },
        {
         "name": "Projects_Completed",
         "rawType": "int32",
         "type": "integer"
        },
        {
         "name": "Learning_Track",
         "rawType": "object",
         "type": "string"
        }
       ],
       "ref": "f024be57-26ca-4f29-9b03-53b4541815b8",
       "rows": [
        [
         "195",
         "34.8745003219323",
         "80.86050431403041",
         "17",
         "Accelerated"
        ],
        [
         "196",
         "33.90566540140605",
         "91.90061434856243",
         "17",
         "Accelerated"
        ],
        [
         "197",
         "37.53288707881835",
         "73.68873519664083",
         "12",
         "Accelerated"
        ],
        [
         "198",
         "38.05759369536098",
         "68.97229919043419",
         "18",
         "Accelerated"
        ],
        [
         "199",
         "45.08916417773923",
         "107.10579651223969",
         "19",
         "Accelerated"
        ]
       ],
       "shape": {
        "columns": 4,
        "rows": 5
       }
      },
      "text/html": [
       "<div>\n",
       "<style scoped>\n",
       "    .dataframe tbody tr th:only-of-type {\n",
       "        vertical-align: middle;\n",
       "    }\n",
       "\n",
       "    .dataframe tbody tr th {\n",
       "        vertical-align: top;\n",
       "    }\n",
       "\n",
       "    .dataframe thead th {\n",
       "        text-align: right;\n",
       "    }\n",
       "</style>\n",
       "<table border=\"1\" class=\"dataframe\">\n",
       "  <thead>\n",
       "    <tr style=\"text-align: right;\">\n",
       "      <th></th>\n",
       "      <th>Study_Hours_Per_Week</th>\n",
       "      <th>Performance_Score</th>\n",
       "      <th>Projects_Completed</th>\n",
       "      <th>Learning_Track</th>\n",
       "    </tr>\n",
       "  </thead>\n",
       "  <tbody>\n",
       "    <tr>\n",
       "      <th>195</th>\n",
       "      <td>34.874500</td>\n",
       "      <td>80.860504</td>\n",
       "      <td>17</td>\n",
       "      <td>Accelerated</td>\n",
       "    </tr>\n",
       "    <tr>\n",
       "      <th>196</th>\n",
       "      <td>33.905665</td>\n",
       "      <td>91.900614</td>\n",
       "      <td>17</td>\n",
       "      <td>Accelerated</td>\n",
       "    </tr>\n",
       "    <tr>\n",
       "      <th>197</th>\n",
       "      <td>37.532887</td>\n",
       "      <td>73.688735</td>\n",
       "      <td>12</td>\n",
       "      <td>Accelerated</td>\n",
       "    </tr>\n",
       "    <tr>\n",
       "      <th>198</th>\n",
       "      <td>38.057594</td>\n",
       "      <td>68.972299</td>\n",
       "      <td>18</td>\n",
       "      <td>Accelerated</td>\n",
       "    </tr>\n",
       "    <tr>\n",
       "      <th>199</th>\n",
       "      <td>45.089164</td>\n",
       "      <td>107.105797</td>\n",
       "      <td>19</td>\n",
       "      <td>Accelerated</td>\n",
       "    </tr>\n",
       "  </tbody>\n",
       "</table>\n",
       "</div>"
      ],
      "text/plain": [
       "     Study_Hours_Per_Week  Performance_Score  Projects_Completed  \\\n",
       "195             34.874500          80.860504                  17   \n",
       "196             33.905665          91.900614                  17   \n",
       "197             37.532887          73.688735                  12   \n",
       "198             38.057594          68.972299                  18   \n",
       "199             45.089164         107.105797                  19   \n",
       "\n",
       "    Learning_Track  \n",
       "195    Accelerated  \n",
       "196    Accelerated  \n",
       "197    Accelerated  \n",
       "198    Accelerated  \n",
       "199    Accelerated  "
      ]
     },
     "execution_count": 68,
     "metadata": {},
     "output_type": "execute_result"
    }
   ],
   "source": [
    "data.tail()"
   ]
  },
  {
   "cell_type": "code",
   "execution_count": 69,
   "id": "810e0510",
   "metadata": {},
   "outputs": [],
   "source": [
    "# Clean the data - to keep it in range or in realistic bounds by cliping it.\n",
    "data['Study_Hours_Per_Week'] = round(np.clip(data['Study_Hours_Per_Week'], 10, 60),1)  # 10-60 hours/week\n",
    "data['Performance_Score'] = round(np.clip(data['Performance_Score'], 0, 100),1)  # 0-100 score\n",
    "data['Projects_Completed'] = np.clip(data['Projects_Completed'], 1, 25)  # 1-25 projects"
   ]
  },
  {
   "cell_type": "code",
   "execution_count": 71,
   "id": "10c36a80",
   "metadata": {},
   "outputs": [
    {
     "data": {
      "application/vnd.microsoft.datawrangler.viewer.v0+json": {
       "columns": [
        {
         "name": "index",
         "rawType": "int64",
         "type": "integer"
        },
        {
         "name": "Study_Hours_Per_Week",
         "rawType": "float64",
         "type": "float"
        },
        {
         "name": "Performance_Score",
         "rawType": "float64",
         "type": "float"
        },
        {
         "name": "Projects_Completed",
         "rawType": "int32",
         "type": "integer"
        },
        {
         "name": "Learning_Track",
         "rawType": "object",
         "type": "string"
        }
       ],
       "ref": "0ba61629-efb7-4b58-9a04-d6f2a04d6339",
       "rows": [
        [
         "195",
         "34.9",
         "80.9",
         "17",
         "Accelerated"
        ],
        [
         "196",
         "33.9",
         "91.9",
         "17",
         "Accelerated"
        ],
        [
         "197",
         "37.5",
         "73.7",
         "12",
         "Accelerated"
        ],
        [
         "198",
         "38.1",
         "69.0",
         "18",
         "Accelerated"
        ],
        [
         "199",
         "45.1",
         "100.0",
         "19",
         "Accelerated"
        ]
       ],
       "shape": {
        "columns": 4,
        "rows": 5
       }
      },
      "text/html": [
       "<div>\n",
       "<style scoped>\n",
       "    .dataframe tbody tr th:only-of-type {\n",
       "        vertical-align: middle;\n",
       "    }\n",
       "\n",
       "    .dataframe tbody tr th {\n",
       "        vertical-align: top;\n",
       "    }\n",
       "\n",
       "    .dataframe thead th {\n",
       "        text-align: right;\n",
       "    }\n",
       "</style>\n",
       "<table border=\"1\" class=\"dataframe\">\n",
       "  <thead>\n",
       "    <tr style=\"text-align: right;\">\n",
       "      <th></th>\n",
       "      <th>Study_Hours_Per_Week</th>\n",
       "      <th>Performance_Score</th>\n",
       "      <th>Projects_Completed</th>\n",
       "      <th>Learning_Track</th>\n",
       "    </tr>\n",
       "  </thead>\n",
       "  <tbody>\n",
       "    <tr>\n",
       "      <th>195</th>\n",
       "      <td>34.9</td>\n",
       "      <td>80.9</td>\n",
       "      <td>17</td>\n",
       "      <td>Accelerated</td>\n",
       "    </tr>\n",
       "    <tr>\n",
       "      <th>196</th>\n",
       "      <td>33.9</td>\n",
       "      <td>91.9</td>\n",
       "      <td>17</td>\n",
       "      <td>Accelerated</td>\n",
       "    </tr>\n",
       "    <tr>\n",
       "      <th>197</th>\n",
       "      <td>37.5</td>\n",
       "      <td>73.7</td>\n",
       "      <td>12</td>\n",
       "      <td>Accelerated</td>\n",
       "    </tr>\n",
       "    <tr>\n",
       "      <th>198</th>\n",
       "      <td>38.1</td>\n",
       "      <td>69.0</td>\n",
       "      <td>18</td>\n",
       "      <td>Accelerated</td>\n",
       "    </tr>\n",
       "    <tr>\n",
       "      <th>199</th>\n",
       "      <td>45.1</td>\n",
       "      <td>100.0</td>\n",
       "      <td>19</td>\n",
       "      <td>Accelerated</td>\n",
       "    </tr>\n",
       "  </tbody>\n",
       "</table>\n",
       "</div>"
      ],
      "text/plain": [
       "     Study_Hours_Per_Week  Performance_Score  Projects_Completed  \\\n",
       "195                  34.9               80.9                  17   \n",
       "196                  33.9               91.9                  17   \n",
       "197                  37.5               73.7                  12   \n",
       "198                  38.1               69.0                  18   \n",
       "199                  45.1              100.0                  19   \n",
       "\n",
       "    Learning_Track  \n",
       "195    Accelerated  \n",
       "196    Accelerated  \n",
       "197    Accelerated  \n",
       "198    Accelerated  \n",
       "199    Accelerated  "
      ]
     },
     "execution_count": 71,
     "metadata": {},
     "output_type": "execute_result"
    }
   ],
   "source": [
    "data.tail()"
   ]
  },
  {
   "cell_type": "code",
   "execution_count": 75,
   "id": "bc405234",
   "metadata": {},
   "outputs": [
    {
     "name": "stdout",
     "output_type": "stream",
     "text": [
      "Total AI Engineering Students: 200\n",
      "Learning Tracks: ['Traditional' 'Accelerated']\n",
      "\n",
      "First 10 students in our dataset:\n",
      "   Study_Hours_Per_Week  Performance_Score  Projects_Completed Learning_Track\n",
      "0                  24.6               74.7                   8    Traditional\n",
      "1                  15.4               80.3                   9    Traditional\n",
      "2                  32.7               83.6                   7    Traditional\n",
      "3                  19.5               83.8                   4    Traditional\n",
      "4                  25.4               92.4                   9    Traditional\n",
      "5                  26.6               74.8                  12    Traditional\n",
      "6                  22.7               68.2                   7    Traditional\n",
      "7                  26.2               70.7                   9    Traditional\n",
      "8                  21.1               82.7                   7    Traditional\n",
      "9                  35.7               73.7                  11    Traditional\n"
     ]
    }
   ],
   "source": [
    "# Lets take a snapshot of the data\n",
    "\n",
    "print(f\"Total AI Engineering Students: {len(data)}\")\n",
    "print(f\"Learning Tracks: {data['Learning_Track'].unique()}\")\n",
    "print(\"\\nFirst 10 students in our dataset:\")\n",
    "print(data.head(10).round(1)) # you can you round as a method, just by the way"
   ]
  },
  {
   "cell_type": "markdown",
   "id": "0c3234bf",
   "metadata": {},
   "source": [
    "**Discriptive Statistics for this data**"
   ]
  },
  {
   "cell_type": "code",
   "execution_count": 76,
   "id": "951e34ec",
   "metadata": {},
   "outputs": [
    {
     "data": {
      "application/vnd.microsoft.datawrangler.viewer.v0+json": {
       "columns": [
        {
         "name": "Learning_Track",
         "rawType": "object",
         "type": "string"
        },
        {
         "name": "count",
         "rawType": "float64",
         "type": "float"
        },
        {
         "name": "mean",
         "rawType": "float64",
         "type": "float"
        },
        {
         "name": "std",
         "rawType": "float64",
         "type": "float"
        },
        {
         "name": "min",
         "rawType": "float64",
         "type": "float"
        },
        {
         "name": "25%",
         "rawType": "float64",
         "type": "float"
        },
        {
         "name": "50%",
         "rawType": "float64",
         "type": "float"
        },
        {
         "name": "75%",
         "rawType": "float64",
         "type": "float"
        },
        {
         "name": "max",
         "rawType": "float64",
         "type": "float"
        }
       ],
       "ref": "fa65480d-015a-4166-91e2-7eae05246b87",
       "rows": [
        [
         "Accelerated",
         "100.0",
         "35.64",
         "7.53",
         "15.8",
         "30.58",
         "35.7",
         "40.17",
         "55.2"
        ],
        [
         "Traditional",
         "100.0",
         "25.2",
         "6.0",
         "14.4",
         "20.72",
         "25.45",
         "28.68",
         "39.4"
        ]
       ],
       "shape": {
        "columns": 8,
        "rows": 2
       }
      },
      "text/html": [
       "<div>\n",
       "<style scoped>\n",
       "    .dataframe tbody tr th:only-of-type {\n",
       "        vertical-align: middle;\n",
       "    }\n",
       "\n",
       "    .dataframe tbody tr th {\n",
       "        vertical-align: top;\n",
       "    }\n",
       "\n",
       "    .dataframe thead th {\n",
       "        text-align: right;\n",
       "    }\n",
       "</style>\n",
       "<table border=\"1\" class=\"dataframe\">\n",
       "  <thead>\n",
       "    <tr style=\"text-align: right;\">\n",
       "      <th></th>\n",
       "      <th>count</th>\n",
       "      <th>mean</th>\n",
       "      <th>std</th>\n",
       "      <th>min</th>\n",
       "      <th>25%</th>\n",
       "      <th>50%</th>\n",
       "      <th>75%</th>\n",
       "      <th>max</th>\n",
       "    </tr>\n",
       "    <tr>\n",
       "      <th>Learning_Track</th>\n",
       "      <th></th>\n",
       "      <th></th>\n",
       "      <th></th>\n",
       "      <th></th>\n",
       "      <th></th>\n",
       "      <th></th>\n",
       "      <th></th>\n",
       "      <th></th>\n",
       "    </tr>\n",
       "  </thead>\n",
       "  <tbody>\n",
       "    <tr>\n",
       "      <th>Accelerated</th>\n",
       "      <td>100.0</td>\n",
       "      <td>35.64</td>\n",
       "      <td>7.53</td>\n",
       "      <td>15.8</td>\n",
       "      <td>30.58</td>\n",
       "      <td>35.70</td>\n",
       "      <td>40.17</td>\n",
       "      <td>55.2</td>\n",
       "    </tr>\n",
       "    <tr>\n",
       "      <th>Traditional</th>\n",
       "      <td>100.0</td>\n",
       "      <td>25.20</td>\n",
       "      <td>6.00</td>\n",
       "      <td>14.4</td>\n",
       "      <td>20.72</td>\n",
       "      <td>25.45</td>\n",
       "      <td>28.68</td>\n",
       "      <td>39.4</td>\n",
       "    </tr>\n",
       "  </tbody>\n",
       "</table>\n",
       "</div>"
      ],
      "text/plain": [
       "                count   mean   std   min    25%    50%    75%   max\n",
       "Learning_Track                                                     \n",
       "Accelerated     100.0  35.64  7.53  15.8  30.58  35.70  40.17  55.2\n",
       "Traditional     100.0  25.20  6.00  14.4  20.72  25.45  28.68  39.4"
      ]
     },
     "execution_count": 76,
     "metadata": {},
     "output_type": "execute_result"
    }
   ],
   "source": [
    "# Lets get the description for each learning track by study hours\n",
    "\n",
    "data.groupby('Learning_Track')['Study_Hours_Per_Week'].describe().round(2)"
   ]
  },
  {
   "cell_type": "code",
   "execution_count": 77,
   "id": "b49299dc",
   "metadata": {},
   "outputs": [
    {
     "data": {
      "application/vnd.microsoft.datawrangler.viewer.v0+json": {
       "columns": [
        {
         "name": "Learning_Track",
         "rawType": "object",
         "type": "string"
        },
        {
         "name": "count",
         "rawType": "float64",
         "type": "float"
        },
        {
         "name": "mean",
         "rawType": "float64",
         "type": "float"
        },
        {
         "name": "std",
         "rawType": "float64",
         "type": "float"
        },
        {
         "name": "min",
         "rawType": "float64",
         "type": "float"
        },
        {
         "name": "25%",
         "rawType": "float64",
         "type": "float"
        },
        {
         "name": "50%",
         "rawType": "float64",
         "type": "float"
        },
        {
         "name": "75%",
         "rawType": "float64",
         "type": "float"
        },
        {
         "name": "max",
         "rawType": "float64",
         "type": "float"
        }
       ],
       "ref": "2c5a8bca-ca0c-4508-a866-177d69fd04b8",
       "rows": [
        [
         "Accelerated",
         "100.0",
         "82.2",
         "13.36",
         "53.1",
         "72.6",
         "81.7",
         "93.7",
         "100.0"
        ],
        [
         "Traditional",
         "100.0",
         "75.18",
         "11.08",
         "50.6",
         "66.57",
         "73.9",
         "83.38",
         "100.0"
        ]
       ],
       "shape": {
        "columns": 8,
        "rows": 2
       }
      },
      "text/html": [
       "<div>\n",
       "<style scoped>\n",
       "    .dataframe tbody tr th:only-of-type {\n",
       "        vertical-align: middle;\n",
       "    }\n",
       "\n",
       "    .dataframe tbody tr th {\n",
       "        vertical-align: top;\n",
       "    }\n",
       "\n",
       "    .dataframe thead th {\n",
       "        text-align: right;\n",
       "    }\n",
       "</style>\n",
       "<table border=\"1\" class=\"dataframe\">\n",
       "  <thead>\n",
       "    <tr style=\"text-align: right;\">\n",
       "      <th></th>\n",
       "      <th>count</th>\n",
       "      <th>mean</th>\n",
       "      <th>std</th>\n",
       "      <th>min</th>\n",
       "      <th>25%</th>\n",
       "      <th>50%</th>\n",
       "      <th>75%</th>\n",
       "      <th>max</th>\n",
       "    </tr>\n",
       "    <tr>\n",
       "      <th>Learning_Track</th>\n",
       "      <th></th>\n",
       "      <th></th>\n",
       "      <th></th>\n",
       "      <th></th>\n",
       "      <th></th>\n",
       "      <th></th>\n",
       "      <th></th>\n",
       "      <th></th>\n",
       "    </tr>\n",
       "  </thead>\n",
       "  <tbody>\n",
       "    <tr>\n",
       "      <th>Accelerated</th>\n",
       "      <td>100.0</td>\n",
       "      <td>82.20</td>\n",
       "      <td>13.36</td>\n",
       "      <td>53.1</td>\n",
       "      <td>72.60</td>\n",
       "      <td>81.7</td>\n",
       "      <td>93.70</td>\n",
       "      <td>100.0</td>\n",
       "    </tr>\n",
       "    <tr>\n",
       "      <th>Traditional</th>\n",
       "      <td>100.0</td>\n",
       "      <td>75.18</td>\n",
       "      <td>11.08</td>\n",
       "      <td>50.6</td>\n",
       "      <td>66.57</td>\n",
       "      <td>73.9</td>\n",
       "      <td>83.38</td>\n",
       "      <td>100.0</td>\n",
       "    </tr>\n",
       "  </tbody>\n",
       "</table>\n",
       "</div>"
      ],
      "text/plain": [
       "                count   mean    std   min    25%   50%    75%    max\n",
       "Learning_Track                                                      \n",
       "Accelerated     100.0  82.20  13.36  53.1  72.60  81.7  93.70  100.0\n",
       "Traditional     100.0  75.18  11.08  50.6  66.57  73.9  83.38  100.0"
      ]
     },
     "execution_count": 77,
     "metadata": {},
     "output_type": "execute_result"
    }
   ],
   "source": [
    "# Lets get the description for each learning track by performance score\n",
    "\n",
    "data.groupby('Learning_Track')['Performance_Score'].describe().round(2)"
   ]
  },
  {
   "cell_type": "code",
   "execution_count": 80,
   "id": "89651893",
   "metadata": {},
   "outputs": [
    {
     "data": {
      "application/vnd.microsoft.datawrangler.viewer.v0+json": {
       "columns": [
        {
         "name": "Learning_Track",
         "rawType": "object",
         "type": "string"
        },
        {
         "name": "count",
         "rawType": "float64",
         "type": "float"
        },
        {
         "name": "mean",
         "rawType": "float64",
         "type": "float"
        },
        {
         "name": "std",
         "rawType": "float64",
         "type": "float"
        },
        {
         "name": "min",
         "rawType": "float64",
         "type": "float"
        },
        {
         "name": "25%",
         "rawType": "float64",
         "type": "float"
        },
        {
         "name": "50%",
         "rawType": "float64",
         "type": "float"
        },
        {
         "name": "75%",
         "rawType": "float64",
         "type": "float"
        },
        {
         "name": "max",
         "rawType": "float64",
         "type": "float"
        }
       ],
       "ref": "23924a5d-108a-49f5-bdc8-9476f54e8dc6",
       "rows": [
        [
         "Accelerated",
         "100.0",
         "12.46",
         "3.73",
         "6.0",
         "10.0",
         "12.0",
         "15.0",
         "25.0"
        ],
        [
         "Traditional",
         "100.0",
         "7.92",
         "2.59",
         "1.0",
         "6.0",
         "8.0",
         "9.0",
         "14.0"
        ]
       ],
       "shape": {
        "columns": 8,
        "rows": 2
       }
      },
      "text/html": [
       "<div>\n",
       "<style scoped>\n",
       "    .dataframe tbody tr th:only-of-type {\n",
       "        vertical-align: middle;\n",
       "    }\n",
       "\n",
       "    .dataframe tbody tr th {\n",
       "        vertical-align: top;\n",
       "    }\n",
       "\n",
       "    .dataframe thead th {\n",
       "        text-align: right;\n",
       "    }\n",
       "</style>\n",
       "<table border=\"1\" class=\"dataframe\">\n",
       "  <thead>\n",
       "    <tr style=\"text-align: right;\">\n",
       "      <th></th>\n",
       "      <th>count</th>\n",
       "      <th>mean</th>\n",
       "      <th>std</th>\n",
       "      <th>min</th>\n",
       "      <th>25%</th>\n",
       "      <th>50%</th>\n",
       "      <th>75%</th>\n",
       "      <th>max</th>\n",
       "    </tr>\n",
       "    <tr>\n",
       "      <th>Learning_Track</th>\n",
       "      <th></th>\n",
       "      <th></th>\n",
       "      <th></th>\n",
       "      <th></th>\n",
       "      <th></th>\n",
       "      <th></th>\n",
       "      <th></th>\n",
       "      <th></th>\n",
       "    </tr>\n",
       "  </thead>\n",
       "  <tbody>\n",
       "    <tr>\n",
       "      <th>Accelerated</th>\n",
       "      <td>100.0</td>\n",
       "      <td>12.46</td>\n",
       "      <td>3.73</td>\n",
       "      <td>6.0</td>\n",
       "      <td>10.0</td>\n",
       "      <td>12.0</td>\n",
       "      <td>15.0</td>\n",
       "      <td>25.0</td>\n",
       "    </tr>\n",
       "    <tr>\n",
       "      <th>Traditional</th>\n",
       "      <td>100.0</td>\n",
       "      <td>7.92</td>\n",
       "      <td>2.59</td>\n",
       "      <td>1.0</td>\n",
       "      <td>6.0</td>\n",
       "      <td>8.0</td>\n",
       "      <td>9.0</td>\n",
       "      <td>14.0</td>\n",
       "    </tr>\n",
       "  </tbody>\n",
       "</table>\n",
       "</div>"
      ],
      "text/plain": [
       "                count   mean   std  min   25%   50%   75%   max\n",
       "Learning_Track                                                 \n",
       "Accelerated     100.0  12.46  3.73  6.0  10.0  12.0  15.0  25.0\n",
       "Traditional     100.0   7.92  2.59  1.0   6.0   8.0   9.0  14.0"
      ]
     },
     "execution_count": 80,
     "metadata": {},
     "output_type": "execute_result"
    }
   ],
   "source": [
    "# Lets get the description for each learning track by projects completed\n",
    "\n",
    "data.groupby('Learning_Track')['Projects_Completed'].describe().round(2)"
   ]
  },
  {
   "cell_type": "code",
   "execution_count": 79,
   "id": "edbd9935",
   "metadata": {},
   "outputs": [],
   "source": [
    "# You can use this if you dont want to bother about writing it one by one\n",
    "\n",
    "# print(data.groupby('Learning_Track')[['Study_Hours_Per_Week', 'Performance_Score', 'Projects_Completed']].describe().round(2))"
   ]
  },
  {
   "cell_type": "code",
   "execution_count": 85,
   "id": "e0fdb5a4",
   "metadata": {},
   "outputs": [
    {
     "name": "stdout",
     "output_type": "stream",
     "text": [
      "\n",
      "=== VISUAL REPRESENTATION ===\n",
      "\n",
      "Traditional Learning Track (n=100 students):\n",
      "  Study Hours per Week:\n",
      "    Mean: 25.2 hours\n",
      "    Median: 25.4 hours\n",
      "    Standard Deviation: 6.0 hours\n",
      "  Performance Scores:\n",
      "    Mean: 75.2\n",
      "    Median: 73.9\n",
      "    Standard Deviation: 11.1\n",
      "  Projects Completed:\n",
      "    Mean: 7.9 projects\n",
      "    Median: 8.0 projects\n",
      "    Range: 1 - 14 projects\n",
      "\n",
      "Accelerated Learning Track (n=100 students):\n",
      "  Study Hours per Week:\n",
      "    Mean: 35.6 hours\n",
      "    Median: 35.7 hours\n",
      "    Standard Deviation: 7.5 hours\n",
      "  Performance Scores:\n",
      "    Mean: 82.2\n",
      "    Median: 81.7\n",
      "    Standard Deviation: 13.4\n",
      "  Projects Completed:\n",
      "    Mean: 12.5 projects\n",
      "    Median: 12.0 projects\n",
      "    Range: 6 - 25 projects\n"
     ]
    }
   ],
   "source": [
    "# LEts check other descriptive measures\n",
    "# please, when you are coding maintain the space in the print statement, e get why.\n",
    "# Analyze each learning track\n",
    "\n",
    "print(\"\\n=== VISUAL REPRESENTATION ===\")\n",
    "for track in ['Traditional', 'Accelerated']:\n",
    "    track_data = data[data['Learning_Track'] == track]\n",
    "    \n",
    "    print(f\"\\n{track} Learning Track (n={len(track_data)} students):\")\n",
    "    print(\"  Study Hours per Week:\")\n",
    "    print(f\"    Mean: {track_data['Study_Hours_Per_Week'].mean():.1f} hours\")\n",
    "    print(f\"    Median: {track_data['Study_Hours_Per_Week'].median():.1f} hours\")\n",
    "    print(f\"    Standard Deviation: {track_data['Study_Hours_Per_Week'].std():.1f} hours\")\n",
    "    \n",
    "    print(\"  Performance Scores:\")\n",
    "    print(f\"    Mean: {track_data['Performance_Score'].mean():.1f}\")\n",
    "    print(f\"    Median: {track_data['Performance_Score'].median():.1f}\")\n",
    "    print(f\"    Standard Deviation: {track_data['Performance_Score'].std():.1f}\")\n",
    "    \n",
    "    print(\"  Projects Completed:\")\n",
    "    print(f\"    Mean: {track_data['Projects_Completed'].mean():.1f} projects\")\n",
    "    print(f\"    Median: {track_data['Projects_Completed'].median():.1f} projects\")\n",
    "    print(f\"    Range: {track_data['Projects_Completed'].min()} - {track_data['Projects_Completed'].max()} projects\")"
   ]
  },
  {
   "cell_type": "markdown",
   "id": "5e2df741",
   "metadata": {},
   "source": [
    "_________________________________________________________\n",
    "**Interpreting The Results Above -Learning Track Analysis**\n",
    "_________________________________________________________\n",
    "\n",
    "**ACCELERATED TRACK STUDENTS:**\n",
    "\n",
    "- Study **43% MORE** hours per week (35.2 vs 24.5 hours)\n",
    "- Score **7.3 points HIGHER** on average (82.8 vs 75.5)\n",
    "- Complete **52% MORE** projects (12.0 vs 7.9 projects)\n",
    "\n",
    "**Key Insight:** More effort = Better results, but is it worth the extra 10+ hours per week?\n",
    "\n",
    "\n",
    "**DETAILED BREAKDOWN - What Each Number Is Saying**\n",
    "\n",
    "**STUDY HOURS PER WEEK**\n",
    "\n",
    "| Metric      | Traditional | Accelerated | What This Means                                      |\n",
    "|-------------|-------------|-------------|------------------------------------------------------|\n",
    "| **Average** | 24.5 hours  | 35.2 hours  | Accelerated students put in **10.7 MORE hours/week** |\n",
    "| **Median**  | 24.4 hours  | 35.7 hours  | \"Typical\" student in each track                      |\n",
    "| **Std Dev** | 4.5 hours   |  7.6 hours  | Accelerated has **more variation** in study habits   |\n",
    "\n",
    "\n",
    "**Student Translation:**\n",
    "- **Traditional:** Most students study 20-29 hours/week (pretty consistent)\n",
    "- **Accelerated:** Study time ranges from 28-42 hours/week (more varied approaches)\n",
    "- **Reality Check:** Accelerated = almost **full-time job** level commitment!"
   ]
  },
  {
   "cell_type": "markdown",
   "id": "f3210ff9",
   "metadata": {},
   "source": [
    "\n",
    "\n",
    "**PERFORMANCE SCORES (0-100 scale)**\n",
    "\n",
    "| Metric      | Traditional | Accelerated            | Difference                                |\n",
    "|-------------|-------------|------------------------|-------------------------------------------|\n",
    "| **Average** | 75.5        | 82.8                   |      **+7.3 points**                      |\n",
    "| **Median**  | 76.2        | 82.8                   | Both close to means = normal distributions|\n",
    "| **Std Dev** | 12.3        | Data missing           | Traditional shows moderate variation      |\n",
    "\n",
    "**Student Translation:**\n",
    "- **Traditional Track:** Solid \"B\" average (75.5/100)\n",
    "- **Accelerated Track:** Strong \"B+\" average (82.8/100) \n",
    "- **The Trade-off:** 43% more study time to 10% better performance\n",
    "- **Is it worth it?** That's YOUR decision based on your goals!"
   ]
  },
  {
   "cell_type": "markdown",
   "id": "3002807c",
   "metadata": {},
   "source": [
    "**PROJECTS COMPLETED**\n",
    "\n",
    "| Metric      | Traditional  | Accelerated   | What This Means                       |\n",
    "|-------------|--------------|---------------|---------------------------------------|\n",
    "| **Average** | 7.9 projects | 12.0 projects | **+4.1 more projects** (52% increase) |\n",
    "| **Median**  | 8.0 projects | 12.0 projects | Consistent with averages              |\n",
    "| **Range**   | 3-14 projects| 3-22 projects | Accelerated has wider range           |\n",
    "\n",
    "**Student Translation:**\n",
    "- **Traditional:** About **2 projects per month** (assuming 4-month semester)\n",
    "- **Accelerated:** About **3 projects per month** \n",
    "- **Hands-on Experience:** Accelerated students get **50% more** practical coding experience\n",
    "- **Portfolio Impact:** More projects = stronger GitHub profile for job hunting"
   ]
  },
  {
   "cell_type": "markdown",
   "id": "6ba8d4c2",
   "metadata": {},
   "source": [
    "**CRITICAL INSIGHTS FOR YOUR DECISION-MAKING**\n",
    "\n",
    "**Efficiency Analysis: \"Bang for Your Buck\"**\n",
    "- **Per Hour Investment:** Accelerated students gain 0.21 points per extra study hour\n",
    "- **Project Efficiency:** Both tracks have similar project quality (3-project minimum suggests similar difficulty)\n",
    "- **Diminishing Returns?** The extra effort gives solid but not dramatic improvements\n",
    "\n",
    "**Standard Deviation Insights (Consistency Check)**\n",
    "- **Traditional Study Hours (SD=4.5):** Very consistent - most students follow similar patterns\n",
    "- **Accelerated Study Hours (SD=7.6):** More varied - some students find efficient ways, others struggle\n",
    "- **Traditional Performance (SD=12.3):** Normal academic variation"
   ]
  },
  {
   "cell_type": "markdown",
   "id": "7bde82a1",
   "metadata": {},
   "source": [
    "\n",
    "**What This Means for Different Student Types**\n",
    "\n",
    "**If You're a HIGH ACHIEVER:**\n",
    "- Accelerated might be perfect - you'll likely be in the upper range\n",
    "- More projects = better portfolio = stronger job prospects\n",
    "\n",
    "**If You Want BALANCE:**\n",
    "- Traditional gives solid results with manageable time commitment\n",
    "- Still provides good foundation for AI career\n",
    "\n",
    "**If You're CAREER-FOCUSED:**\n",
    "- Consider: Do employers value the extra projects more than the GPA difference?\n",
    "- 12 projects vs 8 projects could be significant for portfolio\n",
    "\n",
    "**If You're WORKING/Have OTHER COMMITMENTS:**\n",
    "- Traditional's 24.5 hours/week is more sustainable\n",
    "- Quality over quantity approach still yields good results"
   ]
  },
  {
   "cell_type": "markdown",
   "id": "dcc07459",
   "metadata": {},
   "source": [
    "**RED FLAGS TO WATCH FOR**\n",
    "\n",
    "1. **Burnout Risk:** 35+ hours/week is sustainable for how long?\n",
    "2. **Diminishing Returns:** 43% more time for 10% better grades\n",
    "3. **Individual Variation:** High SD in Accelerated suggests some students struggle with the pace\n",
    "\n",
    "**ACTION ITEMS: How to Use This Data**\n",
    "\n",
    "**If You Choose TRADITIONAL:**\n",
    "- Aim for **25-30 hours/week** study time\n",
    "- Target **8+ projects** to match the average\n",
    "- Focus on **quality over quantity**\n",
    "- Expect solid **B-level performance**\n",
    "\n",
    "**If You Choose ACCELERATED:**\n",
    "- Prepare for **35-40 hours/week** commitment\n",
    "- Leverage the **project-heavy** approach for portfolio building\n",
    "- Aim to be in the **efficient group** (don't just study more, study smarter)\n",
    "- Target **B+ performance** as baseline\n",
    "\n",
    "**For BOTH Tracks:**\n",
    "- **Projects matter:** Strong correlation between hands-on work and learning\n",
    "- **Consistency wins:** Notice how medians ≈ means (no extreme outliers)\n",
    "- **Plan accordingly:** Use these benchmarks to set realistic expectations\n",
    "\n",
    "\n",
    "**Which Track Should You Go For?**\n",
    "\n",
    "**Choose ACCELERATED if:**\n",
    "- You want maximum learning in minimum time\n",
    "- Building a strong project portfolio is priority #1\n",
    "- You can sustain 35+ hours/week for the program duration\n",
    "- You're targeting competitive AI roles\n",
    "\n",
    "**Choose TRADITIONAL if:**\n",
    "- You want sustainable, balanced learning\n",
    "- You have other commitments (work, family)\n",
    "- You prefer depth over breadth\n",
    "- You're building long-term career foundations\n",
    "\n",
    "**Remember:** Both tracks produce successful AI engineers - choose based on YOUR situation, not just the numbers."
   ]
  },
  {
   "cell_type": "code",
   "execution_count": 86,
   "id": "891fd13b",
   "metadata": {},
   "outputs": [
    {
     "data": {
      "text/plain": [
       "<matplotlib.legend.Legend at 0x13e3f3bacc0>"
      ]
     },
     "execution_count": 86,
     "metadata": {},
     "output_type": "execute_result"
    },
    {
     "data": {
      "image/png": "[encoded data removed]",
      "text/plain": [
       "<Figure size 1500x1000 with 6 Axes>"
      ]
     },
     "metadata": {},
     "output_type": "display_data"
    }
   ],
   "source": [
    "# Create comprehensive visualizations for AI Engineering data\n",
    "fig, axes = plt.subplots(2, 3, figsize=(15, 10))\n",
    "\n",
    "# 1. Study Hours Distribution\n",
    "for track in ['Traditional', 'Accelerated']:\n",
    "    track_data = data[data['Learning_Track'] == track]['Study_Hours_Per_Week']\n",
    "    axes[0,0].hist(track_data, bins=15, alpha=0.7, \n",
    "                   label=f'{track} (μ={track_data.mean():.1f}h)', \n",
    "                   color='blue' if track == 'Traditional' else 'red')\n",
    "axes[0,0].set_title('Weekly Study Hours Distribution')\n",
    "axes[0,0].set_xlabel('Hours per Week')\n",
    "axes[0,0].set_ylabel('Number of Students')\n",
    "axes[0,0].legend()\n",
    "\n",
    "# # 2. Performance Score Box Plot\n",
    "# data.boxplot(column='Performance_Score', by='Learning_Track', ax=axes[0,1])\n",
    "# axes[0,1].set_title('Performance Scores by Learning Track')\n",
    "# axes[0,1].set_ylabel('Performance Score (0-100)')\n",
    "# axes[0,1].set_xlabel('Learning Track')\n",
    "\n",
    "# # 3. Projects Completed Comparison\n",
    "# traditional_projects = data[data['Learning_Track'] == 'Traditional']['Projects_Completed']\n",
    "# accelerated_projects = data[data['Learning_Track'] == 'Accelerated']['Projects_Completed']\n",
    "\n",
    "# axes[0,2].bar(['Traditional', 'Accelerated'], \n",
    "#               [traditional_projects.mean(), accelerated_projects.mean()],\n",
    "#               color=['blue', 'red'], alpha=0.7,\n",
    "#               yerr=[traditional_projects.std(), accelerated_projects.std()],\n",
    "#               capsize=5)\n",
    "# axes[0,2].set_title('Average Projects Completed')\n",
    "# axes[0,2].set_ylabel('Number of Projects')\n",
    "\n",
    "# # 4. Study Hours vs Performance Scatter\n",
    "# traditional_data = data[data['Learning_Track'] == 'Traditional']\n",
    "# accelerated_data = data[data['Learning_Track'] == 'Accelerated']\n",
    "\n",
    "# axes[1,0].scatter(traditional_data['Study_Hours_Per_Week'], traditional_data['Performance_Score'], \n",
    "#                   alpha=0.6, label='Traditional', color='blue')\n",
    "# axes[1,0].scatter(accelerated_data['Study_Hours_Per_Week'], accelerated_data['Performance_Score'], \n",
    "#                   alpha=0.6, label='Accelerated', color='red')\n",
    "# axes[1,0].set_title('Study Hours vs Performance')\n",
    "# axes[1,0].set_xlabel('Study Hours per Week')\n",
    "# axes[1,0].set_ylabel('Performance Score')\n",
    "# axes[1,0].legend()\n",
    "\n",
    "# # 5. Performance Score Distribution\n",
    "# for track in ['Traditional', 'Accelerated']:\n",
    "#     track_scores = data[data['Learning_Track'] == track]['Performance_Score']\n",
    "#     axes[1,1].hist(track_scores, bins=15, alpha=0.7, \n",
    "#                    label=f'{track} (μ={track_scores.mean():.1f})', \n",
    "#                    color='blue' if track == 'Traditional' else 'red')\n",
    "# axes[1,1].set_title('Performance Score Distribution')\n",
    "# axes[1,1].set_xlabel('Performance Score')\n",
    "# axes[1,1].set_ylabel('Number of Students')\n",
    "# axes[1,1].legend()\n",
    "\n",
    "# # 6. Multi-metric comparison\n",
    "# metrics = ['Study_Hours_Per_Week', 'Performance_Score', 'Projects_Completed']\n",
    "# traditional_means = [data[data['Learning_Track'] == 'Traditional'][metric].mean() for metric in metrics]\n",
    "# accelerated_means = [data[data['Learning_Track'] == 'Accelerated'][metric].mean() for metric in metrics]\n",
    "\n",
    "# # Normalize for comparison (scale to 0-1)\n",
    "# traditional_norm = [(x - min(traditional_means + accelerated_means)) / \n",
    "#                    (max(traditional_means + accelerated_means) - min(traditional_means + accelerated_means)) \n",
    "#                    for x in traditional_means]\n",
    "# accelerated_norm = [(x - min(traditional_means + accelerated_means)) / \n",
    "#                    (max(traditional_means + accelerated_means) - min(traditional_means + accelerated_means)) \n",
    "#                    for x in accelerated_means]\n",
    "\n",
    "# x = np.arange(len(metrics))\n",
    "# width = 0.35\n",
    "\n",
    "# axes[1,2].bar(x - width/2, traditional_norm, width, label='Traditional', alpha=0.7, color='blue')\n",
    "# axes[1,2].bar(x + width/2, accelerated_norm, width, label='Accelerated', alpha=0.7, color='red')\n",
    "# axes[1,2].set_title('Normalized Performance Metrics')\n",
    "# axes[1,2].set_ylabel('Normalized Score (0-1)')\n",
    "# axes[1,2].set_xticks(x)\n",
    "# axes[1,2].set_xticklabels(['Study Hours', 'Performance', 'Projects'])\n",
    "# axes[1,2].legend()\n",
    "\n",
    "# plt.tight_layout()\n",
    "# plt.show()"
   ]
  }
 ],
 "metadata": {
  "kernelspec": {
   "display_name": "a_env (3.13.7)",
   "language": "python",
   "name": "python3"
  },
  "language_info": {
   "codemirror_mode": {
    "name": "ipython",
    "version": 3
   },
   "file_extension": ".py",
   "mimetype": "text/x-python",
   "name": "python",
   "nbconvert_exporter": "python",
   "pygments_lexer": "ipython3",
   "version": "3.13.7"
  }
 },
 "nbformat": 4,
 "nbformat_minor": 5
}
