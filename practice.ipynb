{
 "cells": [
  {
   "cell_type": "code",
   "execution_count": 6,
   "id": "493aff85",
   "metadata": {},
   "outputs": [
    {
     "name": "stdout",
     "output_type": "stream",
     "text": [
      "Welcome to my Tech Space\n",
      "CEO says: Welcome to my Tech Space\n"
     ]
    }
   ],
   "source": [
    "def greet_customer():\n",
    "    return \"Welcome to my Tech Space\"\n",
    "\n",
    "# You can assign Functions to Variables\n",
    "my_greeting = greet_customer\n",
    "print(my_greeting())    \n",
    "\n",
    "# You can pass functions as Arguments\n",
    "def use_greeting(greeting_func):\n",
    "    return f\"CEO says: {greeting_func()}\"\n",
    "\n",
    "print(use_greeting(greet_customer))"
   ]
  },
  {
   "cell_type": "markdown",
   "id": "4fc7775e",
   "metadata": {},
   "source": [
    "**Let's create our first decorator**"
   ]
  },
  {
   "cell_type": "code",
   "execution_count": 7,
   "id": "6d51f130",
   "metadata": {},
   "outputs": [],
   "source": [
    "def add_nigerian_politeness(original_function):\n",
    "    \"\"\"This decorator adds Nigerian politeness to any greeting\"\"\"\n",
    "    \n",
    "    def wrapper():\n",
    "        result = original_function()\n",
    "        return f\"Good Morning ooo! {result} How is family? \"\n",
    "    return wrapper\n",
    "\n",
    "# Original simple greeting\n",
    "def basic_greeting():\n",
    "    return \"Hello\""
   ]
  },
  {
   "cell_type": "code",
   "execution_count": 8,
   "id": "2d9c6e0c",
   "metadata": {},
   "outputs": [
    {
     "name": "stdout",
     "output_type": "stream",
     "text": [
      "Good Morning ooo! Hello How is family? \n"
     ]
    }
   ],
   "source": [
    "# Apply the decorator manually\n",
    "polite_greeting = add_nigerian_politeness(basic_greeting)\n",
    "print(polite_greeting())"
   ]
  },
  {
   "cell_type": "code",
   "execution_count": 9,
   "id": "b729acbb",
   "metadata": {},
   "outputs": [
    {
     "name": "stdout",
     "output_type": "stream",
     "text": [
      "Good Morning ooo! Welcome to my Tech Office How is family? \n"
     ]
    }
   ],
   "source": [
    "# Using the @ symbol (syntactic sugar)\n",
    "@add_nigerian_politeness\n",
    "def shop_greeting():\n",
    "    return \"Welcome to my Tech Office\"\n",
    "\n",
    "print(shop_greeting())"
   ]
  },
  {
   "cell_type": "markdown",
   "id": "d36a1622",
   "metadata": {},
   "source": [
    "**Example 2**\n",
    "\n",
    "- This comes with Arguments\n",
    "- Sometimes you want to pass information to your decorators"
   ]
  },
  {
   "cell_type": "code",
   "execution_count": 10,
   "id": "aa8a19de",
   "metadata": {},
   "outputs": [],
   "source": [
    "def add_nigerian_time_greeting(time_of_day):\n",
    "    \"\"\"Decorator that adds appropriate Nigerian greeting based on time\"\"\"\n",
    "    def decorator(original_function):\n",
    "        def wrapper():\n",
    "            if time_of_day == \"morning\":\n",
    "                greeting = \"Good morning ooo!\"\n",
    "            elif time_of_day == \"afternoon\":\n",
    "                greeting = \"Good afternoon!\"\n",
    "            elif time_of_day == \"evening\":\n",
    "                greeting = \"Good evening ooo!\"\n",
    "            else:\n",
    "                greeting = \"How far!\"\n",
    "                \n",
    "            result = original_function()\n",
    "            return f\"{greeting} {result}\"\n",
    "        return wrapper\n",
    "    return decorator"
   ]
  },
  {
   "cell_type": "code",
   "execution_count": 12,
   "id": "542fa85f",
   "metadata": {},
   "outputs": [],
   "source": [
    "# Using the decorator with different times\n",
    "@add_nigerian_time_greeting(\"morning\")\n",
    "def market_greeting():\n",
    "    return \"Welcome to our shop. How can we help you today?\""
   ]
  },
  {
   "cell_type": "code",
   "execution_count": 11,
   "id": "e6666811",
   "metadata": {},
   "outputs": [],
   "source": [
    "# Using the decorator with different items\n",
    "@add_nigerian_time_greeting(\"evening\")\n",
    "def restaurant_greeting():\n",
    "    return \"Welcome to our restaurant. What would you like to eat?\""
   ]
  },
  {
   "cell_type": "code",
   "execution_count": 13,
   "id": "f503956e",
   "metadata": {},
   "outputs": [
    {
     "name": "stdout",
     "output_type": "stream",
     "text": [
      "Good morning ooo! Welcome to our shop. How can we help you today?\n",
      "Good evening ooo! Welcome to our restaurant. What would you like to eat?\n"
     ]
    }
   ],
   "source": [
    "print(market_greeting())\n",
    "print(restaurant_greeting())"
   ]
  },
  {
   "cell_type": "markdown",
   "id": "8174941a",
   "metadata": {},
   "source": [
    "**More Example 3**"
   ]
  },
  {
   "cell_type": "code",
   "execution_count": 14,
   "id": "abcd27c2",
   "metadata": {},
   "outputs": [],
   "source": [
    "def naira_formatter(currency_symbol = \"#\"):\n",
    "    \"\"\"Decorator to format prices in Nigerian Naira\"\"\"\n",
    "    def decorator(price_function):\n",
    "        def wrapper(*args, **kwargs):\n",
    "            price = price_function(*args, **kwargs)\n",
    "            return f\"{currency_symbol} {price:,}\"\n",
    "        return wrapper\n",
    "    return decorator"
   ]
  },
  {
   "cell_type": "code",
   "execution_count": 15,
   "id": "48d831a7",
   "metadata": {},
   "outputs": [],
   "source": [
    "@naira_formatter(\"#\")\n",
    "def rice_price():\n",
    "    return 2500\n"
   ]
  },
  {
   "cell_type": "code",
   "execution_count": 16,
   "id": "5058560a",
   "metadata": {},
   "outputs": [],
   "source": [
    "@naira_formatter(\"#\")\n",
    "def calculate_transport_fare(distance_km):\n",
    "    base_fare = 200\n",
    "    per_km = 50\n",
    "    return base_fare + (distance_km * per_km)"
   ]
  },
  {
   "cell_type": "code",
   "execution_count": 17,
   "id": "496d17d7",
   "metadata": {},
   "outputs": [
    {
     "name": "stdout",
     "output_type": "stream",
     "text": [
      "# 2,500\n",
      "# 450\n"
     ]
    }
   ],
   "source": [
    "print(rice_price())\n",
    "print(calculate_transport_fare(5))"
   ]
  },
  {
   "cell_type": "markdown",
   "id": "3e9c0b8b",
   "metadata": {},
   "source": [
    "**More Example 4**"
   ]
  },
  {
   "cell_type": "code",
   "execution_count": null,
   "id": "3dc17e97",
   "metadata": {},
   "outputs": [],
   "source": [
    "# Shop Transaction Logger\n",
    "\n",
    "from datetime import datetime\n",
    "\n",
    "def log_transaction(log_file = \"shop_transactions.txt\"):\n",
    "    \"\"\"Decorator to log all shop transactions\"\"\"\n",
    "    def decorator(transaction_function):\n",
    "        def wrapper(*args, **kwargs):\n",
    "            # Before the transaction\n",
    "            "
   ]
  }
 ],
 "metadata": {
  "kernelspec": {
   "display_name": "a_env",
   "language": "python",
   "name": "python3"
  },
  "language_info": {
   "codemirror_mode": {
    "name": "ipython",
    "version": 3
   },
   "file_extension": ".py",
   "mimetype": "text/x-python",
   "name": "python",
   "nbconvert_exporter": "python",
   "pygments_lexer": "ipython3",
   "version": "3.12.7"
  }
 },
 "nbformat": 4,
 "nbformat_minor": 5
}
