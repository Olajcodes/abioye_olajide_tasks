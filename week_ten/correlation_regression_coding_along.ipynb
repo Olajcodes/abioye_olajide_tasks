{
 "cells": [
  {
   "cell_type": "markdown",
   "id": "32563728",
   "metadata": {},
   "source": [
    "### **1. Correlation**"
   ]
  },
  {
   "cell_type": "markdown",
   "id": "8e6db8a5",
   "metadata": {},
   "source": [
    "Correlation is a statistical measure that shows how two variables move together. It tells us:\n",
    "\n",
    "1. Direction- Do they move in the same direction (positive) or opposite (negative)?\n",
    "\n",
    "2. Strength- How strongly they are related (weak, moderate, or strong).\n",
    "\n",
    "The most common measure is **Pearson's correlation coefficient** (`r`).\n",
    "\n",
    "`r` ranges between -1 and +1."
   ]
  },
  {
   "cell_type": "markdown",
   "id": "6ba04466",
   "metadata": {},
   "source": [
    "**Types of Correlation**"
   ]
  },
  {
   "cell_type": "markdown",
   "id": "12974059",
   "metadata": {},
   "source": [
    "**Positive Correlation (r > 0)**<br>\n",
    "- As one variable increases, the other also increases.\n",
    "- Example: More study hours - Higher exam scores."
   ]
  },
  {
   "cell_type": "markdown",
   "id": "52c151c4",
   "metadata": {},
   "source": [
    "**More Examples of positive Correlation**\n",
    "\n",
    "1. Study hours ⬆  Exam score ⬆\n",
    "\n",
    "2. Sleep hours ⬆  Concentration ⬆\n",
    "\n",
    "3. Class attendance ⬆  Understanding ⬆\n",
    "\n",
    "4. Practice questions ⬆  Test performance ⬆\n",
    "\n",
    "5. Participation in group study ⬆  Grades ⬆\n",
    "\n",
    "6. Teacher feedback ⬆  Student improvement ⬆\n",
    "\n",
    "7. Number of revision sessions ⬆  Retention ⬆\n",
    "\n",
    "8. Motivation ⬆  Academic achievement ⬆\n",
    "\n",
    "9. Lecture note reviews ⬆  Recall in exams ⬆\n",
    "\n",
    "10. Library hours ⬆  GPA ⬆"
   ]
  },
  {
   "cell_type": "markdown",
   "id": "b627c543",
   "metadata": {},
   "source": [
    "**Negative Correlation (r < 0)**\n",
    "\n",
    "- As one variable increases, the other decreases.\n",
    "\n",
    "- Example: More part time job hours - Lower exam scores.\n"
   ]
  },
  {
   "cell_type": "markdown",
   "id": "e07ee3dc",
   "metadata": {},
   "source": [
    "**More Examples of Negative Correlation**\n",
    "\n",
    "1. Part-time job hours ⬆  Exam score ⬇\n",
    "\n",
    "2. Extracurricular hours ⬆  Study time ⬇\n",
    "\n",
    "3. Screen time (TV/social media) ⬆  Academic performance ⬇\n",
    "\n",
    "4. Stress level ⬆  Sleep quality ⬇\n",
    "\n",
    "5. Absenteeism ⬆  Grades ⬇\n",
    "\n",
    "6. Late-night gaming ⬆  Morning alertness ⬇\n",
    "\n",
    "7. Procrastination ⬆  Assignment quality ⬇\n",
    "\n",
    "8. Fatigue ⬆  Productivity ⬇\n",
    "\n",
    "9. Alcohol consumption ⬆  Cognitive performance ⬇\n",
    "\n",
    "10. Distractions in study ⬆  Exam score ⬇"
   ]
  },
  {
   "cell_type": "markdown",
   "id": "3091caa4",
   "metadata": {},
   "source": [
    "**Zero/No Correlation (r ≈ 0)**\n",
    "\n",
    "- No clear relationship.\n",
    "\n",
    "- Example: Shoe size - Exam scores."
   ]
  },
  {
   "cell_type": "markdown",
   "id": "2e90305b",
   "metadata": {},
   "source": [
    "**Interpreting the Strength using the correlation Coefficient**\n",
    "\n",
    "`0.0 – 0.2  Very weak (almost no relationship)`\n",
    "\n",
    "`0.2 – 0.4  Weak`\n",
    "\n",
    "`0.4 – 0.6  Moderate`\n",
    "\n",
    "`0.6 – 0.8  Strong`\n",
    "\n",
    "`0.8 – 1.0 →Very strong`\n",
    "\n",
    "Example: If correlation between study hours and scores is 0.85, it’s a very strong positive correlation."
   ]
  },
  {
   "cell_type": "markdown",
   "id": "34058dde",
   "metadata": {},
   "source": [
    "**What Correlation Does NOT Mean**"
   ]
  },
  {
   "cell_type": "markdown",
   "id": "bf8a6f52",
   "metadata": {},
   "source": [
    "`Correlation ≠ Causation`\n",
    "\n",
    "Just because two things move together doesn’t mean one causes the other."
   ]
  },
  {
   "cell_type": "markdown",
   "id": "4939f41f",
   "metadata": {},
   "source": [
    "**Misleading Correlation**\n",
    "\n",
    "Ice cream sales ↑ and drowning deaths ↑ in summer\n",
    "\n",
    " - They are correlated.\n",
    "\n",
    " - But ice cream doesn’t cause drowning.\n",
    "\n",
    "The real reason is temperature (summer season people tend to go for swimming and lick more ice creams).\n",
    "\n",
    "This leads us to two key issue Which are;\n",
    "\n",
    "1. Spurious Correlation\n",
    "2. Confounding Variables"
   ]
  },
  {
   "cell_type": "markdown",
   "id": "10ec54c0",
   "metadata": {},
   "source": [
    "**Spurious Correlation**\n",
    "\n",
    "A correlation that looks real but happens by coincidence or due to a hidden factor.\n",
    "\n",
    "Example: Worldwide cheese consumption correlates with the number of people who died by bedsheet entanglement. (Completely nonsense, but statistically correlated)."
   ]
  },
  {
   "cell_type": "markdown",
   "id": "fb9b293b",
   "metadata": {},
   "source": [
    "**Confounding Variables**\n",
    "\n",
    "A third variable that influences both the independent and dependent variable.\n",
    "\n",
    "Example:\n",
    "\n",
    "Students with higher motivation both study more and score higher.\n",
    "\n",
    "So it may look like study hours led to higher score, but motivation is the confounder."
   ]
  },
  {
   "cell_type": "markdown",
   "id": "9228be88",
   "metadata": {},
   "source": [
    "**Why Start with Correlation Before Regression?**\n",
    "\n",
    "Correlation is the first check, “Are these two variables related at all?”\n",
    "\n",
    "If yes,  regression goes further, “By how much? Is it significant? What happens when we add other factors?”"
   ]
  },
  {
   "cell_type": "markdown",
   "id": "ddd48334",
   "metadata": {},
   "source": [
    "**Correlation in Codes**"
   ]
  },
  {
   "cell_type": "code",
   "execution_count": null,
   "id": "eb79ce32",
   "metadata": {
    "vscode": {
     "languageId": "plaintext"
    }
   },
   "outputs": [],
   "source": []
  }
 ],
 "metadata": {
  "kernelspec": {
   "display_name": "a_env (3.13.7)",
   "language": "python",
   "name": "python3"
  },
  "language_info": {
   "name": "python",
   "version": "3.13.7"
  }
 },
 "nbformat": 4,
 "nbformat_minor": 5
}
