{
 "cells": [
  {
   "cell_type": "markdown",
   "id": "32563728",
   "metadata": {},
   "source": [
    "### **1. Correlation**"
   ]
  },
  {
   "cell_type": "markdown",
   "id": "8e6db8a5",
   "metadata": {},
   "source": [
    "Correlation is a statistical measure that shows how two variables move together. It tells us:\n",
    "\n",
    "1. Direction- Do they move in the same direction (positive) or opposite (negative)?\n",
    "\n",
    "2. Strength- How strongly they are related (weak, moderate, or strong).\n",
    "\n",
    "The most common measure is **Pearson's correlation coefficient** (`r`).\n",
    "\n",
    "`r` ranges between -1 and +1."
   ]
  },
  {
   "cell_type": "markdown",
   "id": "6ba04466",
   "metadata": {},
   "source": [
    "**Types of Correlation**"
   ]
  },
  {
   "cell_type": "markdown",
   "id": "12974059",
   "metadata": {},
   "source": [
    "**Positive Correlation (r > 0)**<br>\n",
    "- As one variable increases, the other also increases.\n",
    "- Example: More study hours - Higher exam scores."
   ]
  }
 ],
 "metadata": {
  "kernelspec": {
   "display_name": "a_env (3.13.7)",
   "language": "python",
   "name": "python3"
  },
  "language_info": {
   "name": "python",
   "version": "3.13.7"
  }
 },
 "nbformat": 4,
 "nbformat_minor": 5
}
