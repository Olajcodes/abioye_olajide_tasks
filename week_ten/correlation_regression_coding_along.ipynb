{
 "cells": [
  {
   "cell_type": "markdown",
   "id": "32563728",
   "metadata": {},
   "source": [
    "### **1. Correlation**"
   ]
  },
  {
   "cell_type": "markdown",
   "id": "8e6db8a5",
   "metadata": {},
   "source": [
    "Correlation is a statistical measure that shows how two variables move together. It tells us:\n",
    "\n",
    "1. Direction- Do they move in the same direction (positive) or opposite (negative)?\n",
    "\n",
    "2. Strength- How strongly they are related (weak, moderate, or strong).\n",
    "\n",
    "The most common measure is **Pearson's correlation coefficient** (`r`).\n",
    "\n",
    "`r` ranges between -1 and +1."
   ]
  },
  {
   "cell_type": "markdown",
   "id": "6ba04466",
   "metadata": {},
   "source": [
    "**Types of Correlation**"
   ]
  },
  {
   "cell_type": "markdown",
   "id": "12974059",
   "metadata": {},
   "source": [
    "**Positive Correlation (r > 0)**<br>\n",
    "- As one variable increases, the other also increases.\n",
    "- Example: More study hours - Higher exam scores."
   ]
  },
  {
   "cell_type": "markdown",
   "id": "52c151c4",
   "metadata": {},
   "source": [
    "**More Examples of positive Correlation**\n",
    "\n",
    "1. Study hours ⬆  Exam score ⬆\n",
    "\n",
    "2. Sleep hours ⬆  Concentration ⬆\n",
    "\n",
    "3. Class attendance ⬆  Understanding ⬆\n",
    "\n",
    "4. Practice questions ⬆  Test performance ⬆\n",
    "\n",
    "5. Participation in group study ⬆  Grades ⬆\n",
    "\n",
    "6. Teacher feedback ⬆  Student improvement ⬆\n",
    "\n",
    "7. Number of revision sessions ⬆  Retention ⬆\n",
    "\n",
    "8. Motivation ⬆  Academic achievement ⬆\n",
    "\n",
    "9. Lecture note reviews ⬆  Recall in exams ⬆\n",
    "\n",
    "10. Library hours ⬆  GPA ⬆"
   ]
  },
  {
   "cell_type": "markdown",
   "id": "b627c543",
   "metadata": {},
   "source": [
    "**Negative Correlation (r < 0)**\n",
    "\n",
    "- As one variable increases, the other decreases.\n",
    "\n",
    "- Example: More part time job hours - Lower exam scores.\n"
   ]
  },
  {
   "cell_type": "markdown",
   "id": "e07ee3dc",
   "metadata": {},
   "source": [
    "**More Examples of Negative Correlation**\n",
    "\n",
    "1. Part-time job hours ⬆  Exam score ⬇\n",
    "\n",
    "2. Extracurricular hours ⬆  Study time ⬇\n",
    "\n",
    "3. Screen time (TV/social media) ⬆  Academic performance ⬇\n",
    "\n",
    "4. Stress level ⬆  Sleep quality ⬇\n",
    "\n",
    "5. Absenteeism ⬆  Grades ⬇\n",
    "\n",
    "6. Late-night gaming ⬆  Morning alertness ⬇\n",
    "\n",
    "7. Procrastination ⬆  Assignment quality ⬇\n",
    "\n",
    "8. Fatigue ⬆  Productivity ⬇\n",
    "\n",
    "9. Alcohol consumption ⬆  Cognitive performance ⬇\n",
    "\n",
    "10. Distractions in study ⬆  Exam score ⬇"
   ]
  },
  {
   "cell_type": "markdown",
   "id": "3091caa4",
   "metadata": {},
   "source": [
    "**Zero/No Correlation (r ≈ 0)**\n",
    "\n",
    "- No clear relationship.\n",
    "\n",
    "- Example: Shoe size - Exam scores."
   ]
  },
  {
   "cell_type": "markdown",
   "id": "2e90305b",
   "metadata": {},
   "source": [
    "**Interpreting the Strength using the correlation Coefficient**\n",
    "\n",
    "`0.0 – 0.2  Very weak (almost no relationship)`\n",
    "\n",
    "`0.2 – 0.4  Weak`\n",
    "\n",
    "`0.4 – 0.6  Moderate`\n",
    "\n",
    "`0.6 – 0.8  Strong`\n",
    "\n",
    "`0.8 – 1.0 →Very strong`\n",
    "\n",
    "Example: If correlation between study hours and scores is 0.85, it’s a very strong positive correlation."
   ]
  },
  {
   "cell_type": "markdown",
   "id": "34058dde",
   "metadata": {},
   "source": [
    "**What Correlation Does NOT Mean**"
   ]
  },
  {
   "cell_type": "markdown",
   "id": "bf8a6f52",
   "metadata": {},
   "source": [
    "`Correlation ≠ Causation`\n",
    "\n",
    "Just because two things move together doesn’t mean one causes the other."
   ]
  },
  {
   "cell_type": "markdown",
   "id": "4939f41f",
   "metadata": {},
   "source": [
    "**Misleading Correlation**\n",
    "\n",
    "Ice cream sales ↑ and drowning deaths ↑ in summer\n",
    "\n",
    " - They are correlated.\n",
    "\n",
    " - But ice cream doesn’t cause drowning.\n",
    "\n",
    "The real reason is temperature (summer season people tend to go for swimming and lick more ice creams).\n",
    "\n",
    "This leads us to two key issue Which are;\n",
    "\n",
    "1. Spurious Correlation\n",
    "2. Confounding Variables"
   ]
  },
  {
   "cell_type": "markdown",
   "id": "10ec54c0",
   "metadata": {},
   "source": [
    "**Spurious Correlation**\n",
    "\n",
    "A correlation that looks real but happens by coincidence or due to a hidden factor.\n",
    "\n",
    "Example: Worldwide cheese consumption correlates with the number of people who died by bedsheet entanglement. (Completely nonsense, but statistically correlated)."
   ]
  },
  {
   "cell_type": "markdown",
   "id": "fb9b293b",
   "metadata": {},
   "source": [
    "**Confounding Variables**\n",
    "\n",
    "A third variable that influences both the independent and dependent variable.\n",
    "\n",
    "Example:\n",
    "\n",
    "Students with higher motivation both study more and score higher.\n",
    "\n",
    "So it may look like study hours led to higher score, but motivation is the confounder."
   ]
  },
  {
   "cell_type": "markdown",
   "id": "9228be88",
   "metadata": {},
   "source": [
    "**Why Start with Correlation Before Regression?**\n",
    "\n",
    "Correlation is the first check, “Are these two variables related at all?”\n",
    "\n",
    "If yes,  regression goes further, “By how much? Is it significant? What happens when we add other factors?”"
   ]
  },
  {
   "cell_type": "markdown",
   "id": "ddd48334",
   "metadata": {},
   "source": [
    "**Correlation in Codes**"
   ]
  },
  {
   "cell_type": "code",
   "execution_count": 1,
   "id": "eb79ce32",
   "metadata": {},
   "outputs": [],
   "source": [
    "import pandas as pd\n",
    "import numpy as np\n",
    "import matplotlib.pyplot as plt\n",
    "import seaborn as sns\n",
    "\n",
    "# Set seed for reproducibility\n",
    "np.random.seed(234)"
   ]
  },
  {
   "cell_type": "code",
   "execution_count": 2,
   "id": "dd2885b6",
   "metadata": {},
   "outputs": [],
   "source": [
    "#  Create synthesis dataset\n",
    "students = 40\n",
    "study_hours = np.random.randint(1, 10, students) # ! to 9 hours study\n",
    "job_hours = np.random.randint(0, 15, students)  # 0 to 14 hours job\n",
    "sleep_hours = np.random.randint(4, 9, students)    # 4 to 8 hours sleep\n",
    "extracurricular = np.random.randint(0, 6, students) # 0 to 5 hrs activities\n",
    "\n",
    "# Exam score: positively influenced by study and study, negatively by job and extra activities\n",
    "exam_score = (40\n",
    "              + 5*study_hours       # strong positive\n",
    "              + 2*sleep_hours        # mild positive\n",
    "              - 3*job_hours          # strong negative\n",
    "              - 1*extracurricular    # mild negative\n",
    "              + np.random.randint(-5,5,students))  # noise\n",
    "\n",
    "data = pd.DataFrame({\n",
    "    'Study Hours': study_hours,\n",
    "    'Job Hours': job_hours,\n",
    "    'Sleep Hours': sleep_hours,\n",
    "    'Extracurricular Hours': extracurricular,\n",
    "    'Exam Score': exam_score\n",
    "})"
   ]
  },
  {
   "cell_type": "code",
   "execution_count": 3,
   "id": "236bfeb6",
   "metadata": {},
   "outputs": [
    {
     "data": {
      "text/html": [
       "<div>\n",
       "<style scoped>\n",
       "    .dataframe tbody tr th:only-of-type {\n",
       "        vertical-align: middle;\n",
       "    }\n",
       "\n",
       "    .dataframe tbody tr th {\n",
       "        vertical-align: top;\n",
       "    }\n",
       "\n",
       "    .dataframe thead th {\n",
       "        text-align: right;\n",
       "    }\n",
       "</style>\n",
       "<table border=\"1\" class=\"dataframe\">\n",
       "  <thead>\n",
       "    <tr style=\"text-align: right;\">\n",
       "      <th></th>\n",
       "      <th>Study Hours</th>\n",
       "      <th>Job Hours</th>\n",
       "      <th>Sleep Hours</th>\n",
       "      <th>Extracurricular Hours</th>\n",
       "      <th>Exam Score</th>\n",
       "    </tr>\n",
       "  </thead>\n",
       "  <tbody>\n",
       "    <tr>\n",
       "      <th>0</th>\n",
       "      <td>9</td>\n",
       "      <td>10</td>\n",
       "      <td>4</td>\n",
       "      <td>2</td>\n",
       "      <td>56</td>\n",
       "    </tr>\n",
       "    <tr>\n",
       "      <th>1</th>\n",
       "      <td>5</td>\n",
       "      <td>9</td>\n",
       "      <td>5</td>\n",
       "      <td>1</td>\n",
       "      <td>46</td>\n",
       "    </tr>\n",
       "    <tr>\n",
       "      <th>2</th>\n",
       "      <td>2</td>\n",
       "      <td>0</td>\n",
       "      <td>6</td>\n",
       "      <td>3</td>\n",
       "      <td>57</td>\n",
       "    </tr>\n",
       "    <tr>\n",
       "      <th>3</th>\n",
       "      <td>4</td>\n",
       "      <td>10</td>\n",
       "      <td>6</td>\n",
       "      <td>5</td>\n",
       "      <td>37</td>\n",
       "    </tr>\n",
       "    <tr>\n",
       "      <th>4</th>\n",
       "      <td>8</td>\n",
       "      <td>8</td>\n",
       "      <td>7</td>\n",
       "      <td>1</td>\n",
       "      <td>69</td>\n",
       "    </tr>\n",
       "  </tbody>\n",
       "</table>\n",
       "</div>"
      ],
      "text/plain": [
       "   Study Hours  Job Hours  Sleep Hours  Extracurricular Hours  Exam Score\n",
       "0            9         10            4                      2          56\n",
       "1            5          9            5                      1          46\n",
       "2            2          0            6                      3          57\n",
       "3            4         10            6                      5          37\n",
       "4            8          8            7                      1          69"
      ]
     },
     "execution_count": 3,
     "metadata": {},
     "output_type": "execute_result"
    }
   ],
   "source": [
    "data.head()"
   ]
  },
  {
   "cell_type": "code",
   "execution_count": 4,
   "id": "b61bbb84",
   "metadata": {},
   "outputs": [
    {
     "data": {
      "text/html": [
       "<div>\n",
       "<style scoped>\n",
       "    .dataframe tbody tr th:only-of-type {\n",
       "        vertical-align: middle;\n",
       "    }\n",
       "\n",
       "    .dataframe tbody tr th {\n",
       "        vertical-align: top;\n",
       "    }\n",
       "\n",
       "    .dataframe thead th {\n",
       "        text-align: right;\n",
       "    }\n",
       "</style>\n",
       "<table border=\"1\" class=\"dataframe\">\n",
       "  <thead>\n",
       "    <tr style=\"text-align: right;\">\n",
       "      <th></th>\n",
       "      <th>Study Hours</th>\n",
       "      <th>Job Hours</th>\n",
       "      <th>Sleep Hours</th>\n",
       "      <th>Extracurricular Hours</th>\n",
       "      <th>Exam Score</th>\n",
       "    </tr>\n",
       "  </thead>\n",
       "  <tbody>\n",
       "    <tr>\n",
       "      <th>Study Hours</th>\n",
       "      <td>1.000000</td>\n",
       "      <td>-0.136551</td>\n",
       "      <td>-0.006383</td>\n",
       "      <td>-0.114442</td>\n",
       "      <td>0.694048</td>\n",
       "    </tr>\n",
       "    <tr>\n",
       "      <th>Job Hours</th>\n",
       "      <td>-0.136551</td>\n",
       "      <td>1.000000</td>\n",
       "      <td>0.188992</td>\n",
       "      <td>0.209991</td>\n",
       "      <td>-0.782525</td>\n",
       "    </tr>\n",
       "    <tr>\n",
       "      <th>Sleep Hours</th>\n",
       "      <td>-0.006383</td>\n",
       "      <td>0.188992</td>\n",
       "      <td>1.000000</td>\n",
       "      <td>0.158029</td>\n",
       "      <td>-0.035653</td>\n",
       "    </tr>\n",
       "    <tr>\n",
       "      <th>Extracurricular Hours</th>\n",
       "      <td>-0.114442</td>\n",
       "      <td>0.209991</td>\n",
       "      <td>0.158029</td>\n",
       "      <td>1.000000</td>\n",
       "      <td>-0.276837</td>\n",
       "    </tr>\n",
       "    <tr>\n",
       "      <th>Exam Score</th>\n",
       "      <td>0.694048</td>\n",
       "      <td>-0.782525</td>\n",
       "      <td>-0.035653</td>\n",
       "      <td>-0.276837</td>\n",
       "      <td>1.000000</td>\n",
       "    </tr>\n",
       "  </tbody>\n",
       "</table>\n",
       "</div>"
      ],
      "text/plain": [
       "                       Study Hours  Job Hours  Sleep Hours  \\\n",
       "Study Hours               1.000000  -0.136551    -0.006383   \n",
       "Job Hours                -0.136551   1.000000     0.188992   \n",
       "Sleep Hours              -0.006383   0.188992     1.000000   \n",
       "Extracurricular Hours    -0.114442   0.209991     0.158029   \n",
       "Exam Score                0.694048  -0.782525    -0.035653   \n",
       "\n",
       "                       Extracurricular Hours  Exam Score  \n",
       "Study Hours                        -0.114442    0.694048  \n",
       "Job Hours                           0.209991   -0.782525  \n",
       "Sleep Hours                         0.158029   -0.035653  \n",
       "Extracurricular Hours               1.000000   -0.276837  \n",
       "Exam Score                         -0.276837    1.000000  "
      ]
     },
     "execution_count": 4,
     "metadata": {},
     "output_type": "execute_result"
    }
   ],
   "source": [
    "#  Let's compute the correlation coefficients for each data feature\n",
    "\n",
    "corr_coefficients = data.corr()\n",
    "corr_coefficients"
   ]
  },
  {
   "cell_type": "code",
   "execution_count": 5,
   "id": "87fc0fde",
   "metadata": {},
   "outputs": [
    {
     "data": {
      "text/plain": [
       "Index(['Study Hours', 'Job Hours', 'Sleep Hours', 'Extracurricular Hours',\n",
       "       'Exam Score'],\n",
       "      dtype='object')"
      ]
     },
     "execution_count": 5,
     "metadata": {},
     "output_type": "execute_result"
    }
   ],
   "source": [
    "data.columns"
   ]
  },
  {
   "cell_type": "code",
   "execution_count": 6,
   "id": "4a5337aa",
   "metadata": {},
   "outputs": [
    {
     "data": {
      "image/png": "[encoded data removed]",
      "text/plain": [
       "<Figure size 1200x500 with 2 Axes>"
      ]
     },
     "metadata": {},
     "output_type": "display_data"
    }
   ],
   "source": [
    "# Plotting the relationship on a scatter plot\n",
    "\n",
    "# Compute correlation matrix first (this defines 'corr')\n",
    "corr = data[[\"Study Hours\", \"Job Hours\", \"Exam Score\"]].corr()\n",
    "\n",
    "# Plot: Positive and Negative Examples\n",
    "plt.figure(figsize=(12, 5))\n",
    "\n",
    "# Positive correlation: Study vs Score\n",
    "plt.subplot(1,2,1)\n",
    "sns.scatterplot(x='Study Hours', y='Exam Score', data=data, color='blue')\n",
    "plt.title(\"Positive Correlation:\\nStudy Hours vs Exam Score\", fontsize=14)\n",
    "plt.xlabel(\"Study Hours\")\n",
    "plt.ylabel(\"Exam Score\")\n",
    "plt.text(2, max(data['Exam Score'])-5, \n",
    "         f\"r = {corr.loc['Study Hours','Exam Score']:.2f}\",\n",
    "         fontsize=12, color=\"darkred\", \n",
    "         bbox=dict(facecolor='white', edgecolor='red'))\n",
    "plt.grid(True, linestyle=\"--\", alpha=0.6)\n",
    "\n",
    "# Negative correlation: Job vs Score\n",
    "plt.subplot(1,2,2)\n",
    "sns.scatterplot(x='Job Hours', y='Exam Score', data=data, color='green')\n",
    "plt.title(\"Negative Correlation:\\nJob Hours vs Exam Score\", fontsize=14)\n",
    "plt.xlabel(\"Part-Time Job Hours\")\n",
    "plt.ylabel(\"Exam Score\")\n",
    "plt.text(5, max(data['Exam Score'])-5, \n",
    "         f\"r = {corr.loc['Job Hours','Exam Score']:.2f}\",   # fixed here\n",
    "         fontsize=12, color=\"darkred\", \n",
    "         bbox=dict(facecolor='white', edgecolor='red'))\n",
    "plt.grid(True, linestyle=\"--\", alpha=0.6)\n",
    "\n",
    "plt.tight_layout()\n",
    "plt.show()"
   ]
  }
 ],
 "metadata": {
  "kernelspec": {
   "display_name": "a_env (3.13.7)",
   "language": "python",
   "name": "python3"
  },
  "language_info": {
   "codemirror_mode": {
    "name": "ipython",
    "version": 3
   },
   "file_extension": ".py",
   "mimetype": "text/x-python",
   "name": "python",
   "nbconvert_exporter": "python",
   "pygments_lexer": "ipython3",
   "version": "3.13.7"
  }
 },
 "nbformat": 4,
 "nbformat_minor": 5
}
