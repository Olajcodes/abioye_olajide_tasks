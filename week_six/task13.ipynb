{
 "cells": [
  {
   "cell_type": "markdown",
   "id": "fd6d4c7e",
   "metadata": {},
   "source": [
    "# Question One \n",
    "- Create a 6x6 NumPy array with random integers between 1 and 50. Display the array"
   ]
  },
  {
   "cell_type": "code",
   "execution_count": 36,
   "id": "877ae502",
   "metadata": {},
   "outputs": [
    {
     "name": "stdout",
     "output_type": "stream",
     "text": [
      "Array:\n",
      " [[22 16 22 15 19 29]\n",
      " [ 8  9 37 35 38  8]\n",
      " [ 3 29 39 44  8 35]\n",
      " [20 13 31 49 43 26]\n",
      " [27 43 28 39  4 45]\n",
      " [50 47 26 28 13 30]]\n"
     ]
    }
   ],
   "source": [
    "import numpy as np\n",
    "import matplotlib.pyplot as plt\n",
    "\n",
    "array = np.random.randint(1, 51, size=(6,6))\n",
    "print(\"Array:\\n\", array)"
   ]
  },
  {
   "cell_type": "markdown",
   "id": "aaae548d",
   "metadata": {},
   "source": [
    "# Question 2\n",
    "- Extract the following from the array you created in Question 1: The first two rows. The last three columns. All even numbers in the array.\n"
   ]
  },
  {
   "cell_type": "code",
   "execution_count": 37,
   "id": "8d9c3826",
   "metadata": {},
   "outputs": [
    {
     "name": "stdout",
     "output_type": "stream",
     "text": [
      "First two rows:\n",
      " [[22 16 22 15 19 29]\n",
      " [ 8  9 37 35 38  8]]\n",
      "\n",
      "Last three columns:\n",
      " [[15 19 29]\n",
      " [35 38  8]\n",
      " [44  8 35]\n",
      " [49 43 26]\n",
      " [39  4 45]\n",
      " [28 13 30]]\n",
      "\n",
      "Even Numbers:\n",
      " [22 16 22  8 38  8 44  8 20 26 28  4 50 26 28 30]\n"
     ]
    }
   ],
   "source": [
    "first_two_rows = array[0:2]\n",
    "print(\"First two rows:\\n\", first_two_rows)\n",
    "\n",
    "last_three_columns = array[:6, 3:]\n",
    "print(\"\\nLast three columns:\\n\", last_three_columns)\n",
    "\n",
    "even_numbers = array[array%2 == 0]\n",
    "print('\\nEven Numbers:\\n', even_numbers)"
   ]
  },
  {
   "cell_type": "markdown",
   "id": "8ea35fbd",
   "metadata": {},
   "source": [
    "# Question 3\n",
    "- Perform the following array transformations: Reshape the array into a 3D (3, 2, 6) array. Flatten the reshaped array back to 1D."
   ]
  },
  {
   "cell_type": "code",
   "execution_count": 41,
   "id": "0a6f2949",
   "metadata": {},
   "outputs": [
    {
     "name": "stdout",
     "output_type": "stream",
     "text": [
      "3D Reshape:\n",
      " [[[22 16 22 15 19 29]\n",
      "  [ 8  9 37 35 38  8]]\n",
      "\n",
      " [[ 3 29 39 44  8 35]\n",
      "  [20 13 31 49 43 26]]\n",
      "\n",
      " [[27 43 28 39  4 45]\n",
      "  [50 47 26 28 13 30]]]\n",
      "\n",
      "Flattened 1D:\n",
      " [22 16 22 15 19 29  8  9 37 35 38  8  3 29 39 44  8 35 20 13 31 49 43 26\n",
      " 27 43 28 39  4 45 50 47 26 28 13 30]\n"
     ]
    }
   ],
   "source": [
    "reshape_array_3D = array.reshape(3,2,6)\n",
    "print(\"3D Reshape:\\n\", reshape_array_3D)\n",
    "\n",
    "flatten_array_1D = array.flatten()\n",
    "print(\"\\nFlattened 1D:\\n\", flatten_array_1D)"
   ]
  },
  {
   "cell_type": "markdown",
   "id": "3a773e48",
   "metadata": {},
   "source": [
    "# Question 4\n",
    "- Generate a 4x4 identity matrix and replace the diagonal with numbers from 10 to 40, with a step of 10."
   ]
  },
  {
   "cell_type": "code",
   "execution_count": 59,
   "id": "ab4a2812",
   "metadata": {},
   "outputs": [
    {
     "name": "stdout",
     "output_type": "stream",
     "text": [
      "Identity matrix:\n",
      " [[1. 0. 0. 0.]\n",
      " [0. 1. 0. 0.]\n",
      " [0. 0. 1. 0.]\n",
      " [0. 0. 0. 1.]]\n",
      "\n",
      "Diagonal matrix:\n",
      " [[10 16 22 15 19 29]\n",
      " [ 8 20 37 35 38  8]\n",
      " [ 3 29 30 44  8 35]\n",
      " [20 13 31 40 43 26]\n",
      " [27 43 28 39 10 45]\n",
      " [50 47 26 28 13 20]]\n"
     ]
    }
   ],
   "source": [
    "identity_matrix = np.eye(4)\n",
    "print(\"Identity matrix:\\n\", identity_matrix)\n",
    "\n",
    "\n",
    "np.fill_diagonal(array, np.arange(10,50,10))\n",
    "print(\"\\nDiagonal matrix:\\n\", array)"
   ]
  },
  {
   "cell_type": "markdown",
   "id": "7f32625b",
   "metadata": {},
   "source": [
    "# Question 5\n",
    "- Perform matrix multiplication between: A 3x4 matrix of random integers (1-10) A 4x3 matrix of random integers (1-10)"
   ]
  },
  {
   "cell_type": "code",
   "execution_count": 62,
   "id": "ca4535e9",
   "metadata": {},
   "outputs": [
    {
     "name": "stdout",
     "output_type": "stream",
     "text": [
      "First Matrix (3x4):\n",
      " [[ 2  2  1  8]\n",
      " [ 2  6  5  9]\n",
      " [ 8  9  5 10]]\n",
      "\n",
      "Second Matrix (4x3):\n",
      " [[ 6 10  1]\n",
      " [10  6  4]\n",
      " [ 8  8  9]\n",
      " [ 5  2  8]]\n",
      "\n",
      "The matrix multiplication:\n",
      " [[ 80  56  83]\n",
      " [157 114 143]\n",
      " [228 194 169]]\n",
      "\n",
      "The matrix multiplication1:\n",
      " [[ 80  56  83]\n",
      " [157 114 143]\n",
      " [228 194 169]]\n"
     ]
    }
   ],
   "source": [
    "matrix_1 = np.random.randint(1, 11, size=(3,4))\n",
    "print(\"First Matrix (3x4):\\n\", matrix_1)\n",
    "\n",
    "matrix_2 = np.random.randint(1, 11, size=(4,3))\n",
    "print(\"\\nSecond Matrix (4x3):\\n\", matrix_2)\n",
    "\n",
    "matrix_multiplication = np.matmul(matrix_1, matrix_2)\n",
    "matrix_multiplication1 = np.dot(matrix_1, matrix_2)\n",
    "print(\"\\nThe matrix multiplication:\\n\", matrix_multiplication)\n",
    "print(\"\\nThe matrix multiplication1:\\n\", matrix_multiplication1)\n"
   ]
  },
  {
   "cell_type": "markdown",
   "id": "750e56b3",
   "metadata": {},
   "source": [
    "# Question 6\n",
    "- Create a function that takes a 2D NumPy array as input and returns a new array where: All even numbers are squared. All odd numbers are replaced by -1."
   ]
  },
  {
   "cell_type": "code",
   "execution_count": null,
   "id": "2d880c1f",
   "metadata": {},
   "outputs": [],
   "source": [
    "def numpy_2D(input_arr):\n",
    "    squared_even = np.square(input_arr[input_arr%2 == 0])\n",
    "    odd_num = \n",
    "    new_arr = input_arr[input_arr%2 == 0]\n",
    "    np.sq\n",
    "    return new_arr"
   ]
  }
 ],
 "metadata": {
  "kernelspec": {
   "display_name": "a_env (3.13.7)",
   "language": "python",
   "name": "python3"
  },
  "language_info": {
   "codemirror_mode": {
    "name": "ipython",
    "version": 3
   },
   "file_extension": ".py",
   "mimetype": "text/x-python",
   "name": "python",
   "nbconvert_exporter": "python",
   "pygments_lexer": "ipython3",
   "version": "3.13.7"
  }
 },
 "nbformat": 4,
 "nbformat_minor": 5
}
