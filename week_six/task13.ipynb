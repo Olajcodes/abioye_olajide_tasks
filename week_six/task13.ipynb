{
 "cells": [
  {
   "cell_type": "markdown",
   "id": "fd6d4c7e",
   "metadata": {},
   "source": [
    "# Question One \n",
    "- Create a 6x6 NumPy array with random integers between 1 and 50. Display the array"
   ]
  },
  {
   "cell_type": "code",
   "execution_count": 2,
   "id": "877ae502",
   "metadata": {},
   "outputs": [
    {
     "name": "stdout",
     "output_type": "stream",
     "text": [
      "Array:\n",
      " [[36 15 41 28  1  8]\n",
      " [17 50 27 17 11 46]\n",
      " [45  7 23  6 12 27]\n",
      " [40 13 43 16  1  2]\n",
      " [33 23  4 27  1 43]\n",
      " [ 4 36  3 45 29 48]]\n"
     ]
    }
   ],
   "source": [
    "import numpy as np\n",
    "import matplotlib.pyplot as plt\n",
    "\n",
    "array = np.random.randint(1, 51, size=(6,6))\n",
    "print(\"Array:\\n\", array)"
   ]
  },
  {
   "cell_type": "markdown",
   "id": "aaae548d",
   "metadata": {},
   "source": [
    "# Question 2\n",
    "- Extract the following from the array you created in Question 1: The first two rows. The last three columns. All even numbers in the array.\n"
   ]
  },
  {
   "cell_type": "code",
   "execution_count": 3,
   "id": "8d9c3826",
   "metadata": {},
   "outputs": [
    {
     "name": "stdout",
     "output_type": "stream",
     "text": [
      "First two rows:\n",
      " [[36 15 41 28  1  8]\n",
      " [17 50 27 17 11 46]]\n",
      "\n",
      "Last three columns:\n",
      " [[28  1  8]\n",
      " [17 11 46]\n",
      " [ 6 12 27]\n",
      " [16  1  2]\n",
      " [27  1 43]\n",
      " [45 29 48]]\n",
      "\n",
      "Even Numbers:\n",
      " [36 28  8 50 46  6 12 40 16  2  4  4 36 48]\n"
     ]
    }
   ],
   "source": [
    "first_two_rows = array[0:2]\n",
    "print(\"First two rows:\\n\", first_two_rows)\n",
    "\n",
    "last_three_columns = array[:6, 3:]\n",
    "print(\"\\nLast three columns:\\n\", last_three_columns)\n",
    "\n",
    "even_numbers = array[array%2 == 0]\n",
    "print('\\nEven Numbers:\\n', even_numbers)"
   ]
  },
  {
   "cell_type": "markdown",
   "id": "8ea35fbd",
   "metadata": {},
   "source": [
    "# Question 3\n",
    "- Perform the following array transformations: Reshape the array into a 3D (3, 2, 6) array. Flatten the reshaped array back to 1D."
   ]
  },
  {
   "cell_type": "code",
   "execution_count": 4,
   "id": "0a6f2949",
   "metadata": {},
   "outputs": [
    {
     "name": "stdout",
     "output_type": "stream",
     "text": [
      "3D Reshape:\n",
      " [[[36 15 41 28  1  8]\n",
      "  [17 50 27 17 11 46]]\n",
      "\n",
      " [[45  7 23  6 12 27]\n",
      "  [40 13 43 16  1  2]]\n",
      "\n",
      " [[33 23  4 27  1 43]\n",
      "  [ 4 36  3 45 29 48]]]\n",
      "\n",
      "Flattened 1D:\n",
      " [36 15 41 28  1  8 17 50 27 17 11 46 45  7 23  6 12 27 40 13 43 16  1  2\n",
      " 33 23  4 27  1 43  4 36  3 45 29 48]\n"
     ]
    }
   ],
   "source": [
    "reshape_array_3D = array.reshape(3,2,6)\n",
    "print(\"3D Reshape:\\n\", reshape_array_3D)\n",
    "\n",
    "flatten_array_1D = array.flatten()\n",
    "print(\"\\nFlattened 1D:\\n\", flatten_array_1D)"
   ]
  },
  {
   "cell_type": "markdown",
   "id": "3a773e48",
   "metadata": {},
   "source": [
    "# Question 4\n",
    "- Generate a 4x4 identity matrix and replace the diagonal with numbers from 10 to 40, with a step of 10."
   ]
  },
  {
   "cell_type": "code",
   "execution_count": 5,
   "id": "ab4a2812",
   "metadata": {},
   "outputs": [
    {
     "name": "stdout",
     "output_type": "stream",
     "text": [
      "Identity matrix:\n",
      " [[1. 0. 0. 0.]\n",
      " [0. 1. 0. 0.]\n",
      " [0. 0. 1. 0.]\n",
      " [0. 0. 0. 1.]]\n",
      "\n",
      "Diagonal matrix:\n",
      " [[10 15 41 28  1  8]\n",
      " [17 20 27 17 11 46]\n",
      " [45  7 30  6 12 27]\n",
      " [40 13 43 40  1  2]\n",
      " [33 23  4 27 10 43]\n",
      " [ 4 36  3 45 29 20]]\n"
     ]
    }
   ],
   "source": [
    "identity_matrix = np.eye(4)\n",
    "print(\"Identity matrix:\\n\", identity_matrix)\n",
    "\n",
    "\n",
    "np.fill_diagonal(array, np.arange(10,50,10))\n",
    "print(\"\\nDiagonal matrix:\\n\", array)"
   ]
  },
  {
   "cell_type": "markdown",
   "id": "7f32625b",
   "metadata": {},
   "source": [
    "# Question 5\n",
    "- Perform matrix multiplication between: A 3x4 matrix of random integers (1-10) A 4x3 matrix of random integers (1-10)"
   ]
  },
  {
   "cell_type": "code",
   "execution_count": 6,
   "id": "ca4535e9",
   "metadata": {},
   "outputs": [
    {
     "name": "stdout",
     "output_type": "stream",
     "text": [
      "First Matrix (3x4):\n",
      " [[ 2 10  4  7]\n",
      " [ 3 10  3  7]\n",
      " [ 5 10  8  5]]\n",
      "\n",
      "Second Matrix (4x3):\n",
      " [[9 3 3]\n",
      " [8 8 8]\n",
      " [1 7 3]\n",
      " [3 4 2]]\n",
      "\n",
      "The matrix multiplication:\n",
      " [[123 142 112]\n",
      " [131 138 112]\n",
      " [148 171 129]]\n",
      "\n",
      "The matrix multiplication1:\n",
      " [[123 142 112]\n",
      " [131 138 112]\n",
      " [148 171 129]]\n"
     ]
    }
   ],
   "source": [
    "matrix_1 = np.random.randint(1, 11, size=(3,4))\n",
    "print(\"First Matrix (3x4):\\n\", matrix_1)\n",
    "\n",
    "matrix_2 = np.random.randint(1, 11, size=(4,3))\n",
    "print(\"\\nSecond Matrix (4x3):\\n\", matrix_2)\n",
    "\n",
    "matrix_multiplication = np.matmul(matrix_1, matrix_2)\n",
    "matrix_multiplication1 = np.dot(matrix_1, matrix_2)\n",
    "print(\"\\nThe matrix multiplication:\\n\", matrix_multiplication)\n",
    "print(\"\\nThe matrix multiplication1:\\n\", matrix_multiplication1)\n"
   ]
  },
  {
   "cell_type": "markdown",
   "id": "750e56b3",
   "metadata": {},
   "source": [
    "# Question 6\n",
    "- Create a function that takes a 2D NumPy array as input and returns a new array where: All even numbers are squared. All odd numbers are replaced by -1."
   ]
  },
  {
   "cell_type": "code",
   "execution_count": null,
   "id": "2d880c1f",
   "metadata": {},
   "outputs": [
    {
     "name": "stdout",
     "output_type": "stream",
     "text": [
      "[3, 9, 4, 2, 8, 6]\n",
      "New Array:\n",
      " [[-1 -1 16]\n",
      " [ 4 64 36]]\n"
     ]
    }
   ],
   "source": [
    "def numpy_2D(input_arr):\n",
    "    array = np.array(input_arr).reshape(2, -1)      #Reshape the inputted array into a 2 by x array\n",
    "\n",
    "    output = np.where(array%2 ==0, array**2, -1)\n",
    "    return f\"New Array:\\n {output}\"\n",
    "    \n",
    "    # This checks for even numbers and replace it with the square of even numbers and -1 to that of odd.\n",
    "list_array = []\n",
    "\n",
    "for i in range(6):\n",
    "    list_input = int(input(\"Enter the numbers: %d \"))\n",
    "    list_array.append(list_input)\n",
    "\n",
    "print(\"Original matrix:\\n\", list_array)\n",
    "print(numpy_2D(list_array))"
   ]
  }
 ],
 "metadata": {
  "kernelspec": {
   "display_name": "a_env (3.13.7)",
   "language": "python",
   "name": "python3"
  },
  "language_info": {
   "codemirror_mode": {
    "name": "ipython",
    "version": 3
   },
   "file_extension": ".py",
   "mimetype": "text/x-python",
   "name": "python",
   "nbconvert_exporter": "python",
   "pygments_lexer": "ipython3",
   "version": "3.13.7"
  }
 },
 "nbformat": 4,
 "nbformat_minor": 5
}
