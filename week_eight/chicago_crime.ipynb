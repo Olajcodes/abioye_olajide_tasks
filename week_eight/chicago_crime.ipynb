{
 "cells": [
  {
   "cell_type": "markdown",
   "id": "068d07e6",
   "metadata": {},
   "source": [
    "## **Chicago Crime Analysis**"
   ]
  },
  {
   "cell_type": "markdown",
   "id": "8eacd0d8",
   "metadata": {},
   "source": [
    "### **Data Injection**"
   ]
  },
  {
   "cell_type": "code",
   "execution_count": 1,
   "id": "6419d302",
   "metadata": {},
   "outputs": [],
   "source": [
    "# Importing necessary libraries\n",
    "import pandas as pd\n",
    "import matplotlib.pyplot as plt\n",
    "import seaborn as sns\n",
    "\n",
    "\n",
    "# Loading dataset\n",
    "data = r\"Crimes_-_2001_to_Present.csv\"\n",
    "crime_data = pd.read_csv(data)"
   ]
  },
  {
   "cell_type": "markdown",
   "id": "04e52d55",
   "metadata": {},
   "source": [
    "### **Preliminarly Data Analysis (PDA)**"
   ]
  },
  {
   "cell_type": "code",
   "execution_count": 2,
   "id": "1259d845",
   "metadata": {},
   "outputs": [
    {
     "name": "stdout",
     "output_type": "stream",
     "text": [
      "\n",
      "===== The first five rows =====\n",
      "         ID Case Number                    Date                  Block  IUCR  \\\n",
      "0  10224738    HY411648  09/05/2015 01:30:00 PM        043XX S WOOD ST  0486   \n",
      "1  10224739    HY411615  09/04/2015 11:30:00 AM    008XX N CENTRAL AVE  0870   \n",
      "2  11646166    JC213529  09/01/2018 12:01:00 AM  082XX S INGLESIDE AVE  0810   \n",
      "3  10224740    HY411595  09/05/2015 12:45:00 PM      035XX W BARRY AVE  2023   \n",
      "4  10224741    HY411610  09/05/2015 01:00:00 PM    0000X N LARAMIE AVE  0560   \n",
      "\n",
      "  Primary Type              Description Location Description  Arrest  \\\n",
      "0      BATTERY  DOMESTIC BATTERY SIMPLE            RESIDENCE   False   \n",
      "1        THEFT           POCKET-PICKING              CTA BUS   False   \n",
      "2        THEFT                OVER $500            RESIDENCE   False   \n",
      "3    NARCOTICS    POSS: HEROIN(BRN/TAN)             SIDEWALK    True   \n",
      "4      ASSAULT                   SIMPLE            APARTMENT   False   \n",
      "\n",
      "   Domestic  ...  Ward  Community Area  FBI Code  X Coordinate Y Coordinate  \\\n",
      "0      True  ...  12.0            61.0       08B     1165074.0    1875917.0   \n",
      "1     False  ...  29.0            25.0        06     1138875.0    1904869.0   \n",
      "2      True  ...   8.0            44.0        06           NaN          NaN   \n",
      "3     False  ...  35.0            21.0        18     1152037.0    1920384.0   \n",
      "4      True  ...  28.0            25.0       08A     1141706.0    1900086.0   \n",
      "\n",
      "   Year              Updated On   Latitude  Longitude  \\\n",
      "0  2015  02/10/2018 03:50:01 PM  41.815117 -87.670000   \n",
      "1  2015  02/10/2018 03:50:01 PM  41.895080 -87.765400   \n",
      "2  2018  04/06/2019 04:04:43 PM        NaN        NaN   \n",
      "3  2015  02/10/2018 03:50:01 PM  41.937406 -87.716650   \n",
      "4  2015  02/10/2018 03:50:01 PM  41.881903 -87.755121   \n",
      "\n",
      "                        Location  \n",
      "0  (41.815117282, -87.669999562)  \n",
      "1  (41.895080471, -87.765400451)  \n",
      "2                            NaN  \n",
      "3  (41.937405765, -87.716649687)  \n",
      "4  (41.881903443, -87.755121152)  \n",
      "\n",
      "[5 rows x 22 columns]\n",
      "\n",
      "===== The last five rows =====\n",
      "               ID Case Number                    Date                Block  \\\n",
      "7784659  12847575    JF420478  09/01/2022 05:00:00 AM      005XX W SURF ST   \n",
      "7784660  12847801    JF420319  07/08/2022 12:00:00 AM  114XX S PRAIRIE AVE   \n",
      "7784661  12847324    JF420102  09/27/2022 11:00:00 AM      023XX E 70TH ST   \n",
      "7784662  12847570    JF420427  09/03/2022 10:25:00 AM   052XX W CARMEN AVE   \n",
      "7784663  12840464    JF411839  09/26/2022 07:20:00 PM    0000X N MASON AVE   \n",
      "\n",
      "         IUCR        Primary Type                    Description  \\\n",
      "7784659  2825       OTHER OFFENSE        HARASSMENT BY TELEPHONE   \n",
      "7784660  1130  DECEPTIVE PRACTICE       FRAUD OR CONFIDENCE GAME   \n",
      "7784661  0810               THEFT                      OVER $500   \n",
      "7784662  2021           NARCOTICS         POSSESS - BARBITURATES   \n",
      "7784663  143A   WEAPONS VIOLATION  UNLAWFUL POSSESSION - HANDGUN   \n",
      "\n",
      "                    Location Description  Arrest  Domestic  ...  Ward  \\\n",
      "7784659                        RESIDENCE   False      True  ...  44.0   \n",
      "7784660                           STREET   False     False  ...   9.0   \n",
      "7784661                        RESIDENCE   False     False  ...   5.0   \n",
      "7784662  RESIDENCE - YARD (FRONT / BACK)    True     False  ...  45.0   \n",
      "7784663                         SIDEWALK    True     False  ...  29.0   \n",
      "\n",
      "         Community Area  FBI Code  X Coordinate Y Coordinate  Year  \\\n",
      "7784659             6.0        26     1172497.0    1919410.0  2022   \n",
      "7784660            49.0        11     1179966.0    1828818.0  2022   \n",
      "7784661            43.0        06     1193181.0    1859005.0  2022   \n",
      "7784662            11.0        18     1140553.0    1933418.0  2022   \n",
      "7784663            25.0        15     1136773.0    1899652.0  2022   \n",
      "\n",
      "                     Updated On   Latitude  Longitude  \\\n",
      "7784659  01/03/2023 03:46:28 PM  41.934305 -87.641485   \n",
      "7784660  01/03/2023 03:46:28 PM  41.685544 -87.616813   \n",
      "7784661  01/03/2023 03:46:28 PM  41.768068 -87.567453   \n",
      "7784662  01/03/2023 03:46:28 PM  41.973391 -87.758535   \n",
      "7784663  01/03/2023 03:46:28 PM  41.880802 -87.773246   \n",
      "\n",
      "                              Location  \n",
      "7784659  (41.934304581, -87.641484982)  \n",
      "7784660  (41.685543881, -87.616812541)  \n",
      "7784661  (41.768068052, -87.567452932)  \n",
      "7784662  (41.973391184, -87.758534512)  \n",
      "7784663  (41.880802263, -87.773245737)  \n",
      "\n",
      "[5 rows x 22 columns]\n"
     ]
    }
   ],
   "source": [
    "# Checking the overview of the data\n",
    "print(\"\\n===== The first five rows =====\")\n",
    "print(crime_data.head())\n",
    "\n",
    "print(\"\\n===== The last five rows =====\")\n",
    "print(crime_data.tail())"
   ]
  },
  {
   "cell_type": "code",
   "execution_count": 3,
   "id": "dde668ea",
   "metadata": {},
   "outputs": [
    {
     "name": "stdout",
     "output_type": "stream",
     "text": [
      "<class 'pandas.core.frame.DataFrame'>\n",
      "RangeIndex: 7784664 entries, 0 to 7784663\n",
      "Data columns (total 22 columns):\n",
      " #   Column                Dtype  \n",
      "---  ------                -----  \n",
      " 0   ID                    int64  \n",
      " 1   Case Number           object \n",
      " 2   Date                  object \n",
      " 3   Block                 object \n",
      " 4   IUCR                  object \n",
      " 5   Primary Type          object \n",
      " 6   Description           object \n",
      " 7   Location Description  object \n",
      " 8   Arrest                bool   \n",
      " 9   Domestic              bool   \n",
      " 10  Beat                  int64  \n",
      " 11  District              float64\n",
      " 12  Ward                  float64\n",
      " 13  Community Area        float64\n",
      " 14  FBI Code              object \n",
      " 15  X Coordinate          float64\n",
      " 16  Y Coordinate          float64\n",
      " 17  Year                  int64  \n",
      " 18  Updated On            object \n",
      " 19  Latitude              float64\n",
      " 20  Longitude             float64\n",
      " 21  Location              object \n",
      "dtypes: bool(2), float64(7), int64(3), object(10)\n",
      "memory usage: 1.2+ GB\n"
     ]
    }
   ],
   "source": [
    "crime_data.info()"
   ]
  },
  {
   "cell_type": "markdown",
   "id": "18bf4627",
   "metadata": {},
   "source": [
    "From the above, it is evident that there are spaces in between the columns name, it will be of best practice to rename them."
   ]
  },
  {
   "cell_type": "code",
   "execution_count": 4,
   "id": "d7de5e5e",
   "metadata": {},
   "outputs": [],
   "source": [
    "# Renaming all the columns\n",
    "crime_data.rename(columns=lambda x: x.strip().lower().replace(\" \", \"_\"), inplace=True)"
   ]
  },
  {
   "cell_type": "code",
   "execution_count": 5,
   "id": "be2bdf80",
   "metadata": {},
   "outputs": [
    {
     "name": "stdout",
     "output_type": "stream",
     "text": [
      "<class 'pandas.core.frame.DataFrame'>\n",
      "RangeIndex: 7784664 entries, 0 to 7784663\n",
      "Data columns (total 22 columns):\n",
      " #   Column                Dtype  \n",
      "---  ------                -----  \n",
      " 0   id                    int64  \n",
      " 1   case_number           object \n",
      " 2   date                  object \n",
      " 3   block                 object \n",
      " 4   iucr                  object \n",
      " 5   primary_type          object \n",
      " 6   description           object \n",
      " 7   location_description  object \n",
      " 8   arrest                bool   \n",
      " 9   domestic              bool   \n",
      " 10  beat                  int64  \n",
      " 11  district              float64\n",
      " 12  ward                  float64\n",
      " 13  community_area        float64\n",
      " 14  fbi_code              object \n",
      " 15  x_coordinate          float64\n",
      " 16  y_coordinate          float64\n",
      " 17  year                  int64  \n",
      " 18  updated_on            object \n",
      " 19  latitude              float64\n",
      " 20  longitude             float64\n",
      " 21  location              object \n",
      "dtypes: bool(2), float64(7), int64(3), object(10)\n",
      "memory usage: 5.2 GB\n"
     ]
    }
   ],
   "source": [
    "crime_data.info(memory_usage=\"deep\")"
   ]
  },
  {
   "cell_type": "markdown",
   "id": "6a0c0e51",
   "metadata": {},
   "source": [
    "From the above `crime_data.info()`, it can be seen that the memory usage is `5.2+ GB` which is not efficient enough. I'll like to reduce the memory usage. "
   ]
  },
  {
   "cell_type": "code",
   "execution_count": 6,
   "id": "7b782702",
   "metadata": {},
   "outputs": [],
   "source": [
    "# Function to downcast the DataTypes to the smallest size.\n",
    "# It will check through each of the columns and downcast the one will `int` and `float`\n",
    "\n",
    "def downcast_columns(df: pd.DataFrame, verbose: bool = True) -> pd.DataFrame:\n",
    "    \"\"\"\n",
    "    Downcast numeric columns in a DataFrame to smaller dtypes \n",
    "    (integers -> smallest int, floats -> smallest float).\n",
    "    Reports memory usage savings if verbose=True.\n",
    "    \n",
    "    Parameters used\n",
    "    ----------\n",
    "    df : pd.DataFrame\n",
    "        Input DataFrame.\n",
    "    verbose : bool, optional\n",
    "        If True, prints memory usage before/after, by default True.\n",
    "    \n",
    "    Returns\n",
    "    -------\n",
    "    pd.DataFrame\n",
    "        DataFrame with numeric columns downcasted.\n",
    "    \"\"\"\n",
    "    start_mem = df.memory_usage(deep=True).sum() / 1024**2  # This will give us in the value of MB instead of the GB\n",
    "    \n",
    "    df_optimized = df.copy()\n",
    "\n",
    "    for col in df_optimized.select_dtypes(include=[\"int\", \"float\"]).columns:\n",
    "        col_type = df_optimized[col].dtype\n",
    "\n",
    "        if \"int\" in str(col_type):\n",
    "            df_optimized[col] = pd.to_numeric(df_optimized[col], downcast=\"integer\")\n",
    "        elif \"float\" in str(col_type):\n",
    "            df_optimized[col] = pd.to_numeric(df_optimized[col], downcast=\"float\")\n",
    "\n",
    "    end_mem = df_optimized.memory_usage(deep=True).sum() / 1024**2  # MB\n",
    "    \n",
    "    if verbose:\n",
    "        print(f\"Memory usage before: {start_mem:.2f} MB\")\n",
    "        print(f\"Memory usage after : {end_mem:.2f} MB\")\n",
    "        print(f\"Reduced by        : {100 * (start_mem - end_mem) / start_mem:.1f}%\")\n",
    "\n",
    "    return df_optimized\n"
   ]
  },
  {
   "cell_type": "code",
   "execution_count": 7,
   "id": "71c814e6",
   "metadata": {},
   "outputs": [
    {
     "name": "stdout",
     "output_type": "stream",
     "text": [
      "Memory usage before: 5302.92 MB\n",
      "Memory usage after : 4976.27 MB\n",
      "Reduced by        : 6.2%\n"
     ]
    }
   ],
   "source": [
    "crime_data = downcast_columns(crime_data)"
   ]
  },
  {
   "cell_type": "code",
   "execution_count": 8,
   "id": "3d144000",
   "metadata": {},
   "outputs": [
    {
     "name": "stdout",
     "output_type": "stream",
     "text": [
      "<class 'pandas.core.frame.DataFrame'>\n",
      "RangeIndex: 7784664 entries, 0 to 7784663\n",
      "Data columns (total 22 columns):\n",
      " #   Column                Dtype  \n",
      "---  ------                -----  \n",
      " 0   id                    int32  \n",
      " 1   case_number           object \n",
      " 2   date                  object \n",
      " 3   block                 object \n",
      " 4   iucr                  object \n",
      " 5   primary_type          object \n",
      " 6   description           object \n",
      " 7   location_description  object \n",
      " 8   arrest                bool   \n",
      " 9   domestic              bool   \n",
      " 10  beat                  int16  \n",
      " 11  district              float32\n",
      " 12  ward                  float32\n",
      " 13  community_area        float32\n",
      " 14  fbi_code              object \n",
      " 15  x_coordinate          float32\n",
      " 16  y_coordinate          float32\n",
      " 17  year                  int16  \n",
      " 18  updated_on            object \n",
      " 19  latitude              float32\n",
      " 20  longitude             float32\n",
      " 21  location              object \n",
      "dtypes: bool(2), float32(7), int16(2), int32(1), object(10)\n",
      "memory usage: 876.0+ MB\n"
     ]
    }
   ],
   "source": [
    "crime_data.info()"
   ]
  }
 ],
 "metadata": {
  "kernelspec": {
   "display_name": "a_env",
   "language": "python",
   "name": "python3"
  },
  "language_info": {
   "codemirror_mode": {
    "name": "ipython",
    "version": 3
   },
   "file_extension": ".py",
   "mimetype": "text/x-python",
   "name": "python",
   "nbconvert_exporter": "python",
   "pygments_lexer": "ipython3",
   "version": "3.12.7"
  }
 },
 "nbformat": 4,
 "nbformat_minor": 5
}
