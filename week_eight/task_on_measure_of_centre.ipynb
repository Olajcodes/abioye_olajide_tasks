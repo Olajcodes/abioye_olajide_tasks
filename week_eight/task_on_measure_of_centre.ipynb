{
 "cells": [
  {
   "cell_type": "markdown",
   "id": "0b6d4b88",
   "metadata": {},
   "source": [
    "## **Mean, Median & Mode**"
   ]
  },
  {
   "cell_type": "markdown",
   "id": "ec4aa7a3",
   "metadata": {},
   "source": [
    "**1: Class Test Scores**\n",
    "- The following are the Mathematics test scores (out of 20) for a class of 15 students:\n",
    " 5, 8, 10, 12, 12, 12, 13, 14, 14, 15, 16, 18, 18, 20, 20\n",
    "1. Find the mean, median, and mode of the scores.\n",
    "\n",
    "2. If the lowest score (5) was wrongly recorded and should have been 10, how would the mean change? Would the median or mode change? Explain.\n",
    "\n",
    "#### Answers\n",
    "<!-- Answer to Class Test Scores -->\n",
    "\n",
    "Mean = 5 + 8 + 10 + 12 + 12 + 12 + 13 + 14 + 14 + 15 + 16 + 18 + 18 + 20 + 20 / 15\n",
    "    Mean = 207 / 15 = 13.8\n",
    "\n",
    "Median (The numbers need to be checked if it's in ascending order)\n",
    "    Median = 5, 8, 10, 12, 12, 12, 13, 14, 14, 15, 16, 18, 18, 20, 20\n",
    "    Median = 14\n",
    "\n",
    "Mode = 12 (The most occurred value)\n",
    "\n",
    "\n",
    "2. If the lowest score (5) was to be 10 (due to mistake made), the **mean** would change to **14.13**\n",
    "\n",
    "As for the median, one would need to re-arrange the numbers in ascending numbers:\n",
    "8, 10, 10, 12, 12, 12, 13, 14, 14, 15, 16, 18, 18, 20, 20. After checking the list, there's no change and the median remains **14**\n",
    "\n",
    "For Mode, it remains the same as the value \"**10**\" occured twice while **12** occurred three times."
   ]
  },
  {
   "cell_type": "markdown",
   "id": "efdec375",
   "metadata": {},
   "source": [
    "**2: Daily Commute Times**\n",
    "A group of 9 students reported the time (in minutes) it takes them to get to school each day:\n",
    " 15, 20, 20, 25, 25, 30, 60, 65, 120\n",
    "1. Find the mean, median, and mode of the data.\n",
    "\n",
    "2. Which measure (mean, median, or mode) do you think best represents the “typical” time it takes students to get to school? Why?\n",
    " (Hint: Think about the effect of the student who takes 120 minutes.)\n",
    "\n",
    "\n",
    " #### **Answers**\n",
    "1. Mean = 15 + 20 + 20 + 25 + 25 + 30 + 60 + 65 + 120 / 9 \n",
    "    Mean = 380 / 9 = **42.22**\n",
    "\n",
    "    Median = 25 \n",
    "\n",
    "    Mode = 20 and 25 (they occurred twice)\n",
    "\n",
    "2. Mode is the best practice for this measure as outliers doesn't affect it."
   ]
  }
 ],
 "metadata": {
  "language_info": {
   "name": "python"
  }
 },
 "nbformat": 4,
 "nbformat_minor": 5
}
