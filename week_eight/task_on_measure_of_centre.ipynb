{
 "cells": [
  {
   "cell_type": "markdown",
   "id": "0b6d4b88",
   "metadata": {},
   "source": [
    "## **Mean, Median & Mode**"
   ]
  },
  {
   "cell_type": "markdown",
   "id": "ec4aa7a3",
   "metadata": {},
   "source": [
    "**1: Class Test Scores**\n",
    "- The following are the Mathematics test scores (out of 20) for a class of 15 students:\n",
    " 5, 8, 10, 12, 12, 12, 13, 14, 14, 15, 16, 18, 18, 20, 20\n",
    "1. Find the mean, median, and mode of the scores.\n",
    "\n",
    "2. If the lowest score (5) was wrongly recorded and should have been 10, how would the mean change? Would the median or mode change? Explain.\n",
    "\n",
    "#### Answers\n",
    "<!-- Answer to Class Test Scores -->\n",
    "\n",
    "Mean = 5 + 8 + 10 + 12 + 12 + 12 + 13 + 14 + 14 + 15 + 16 + 18 + 18 + 20 + 20 / 15\n",
    "    Mean = 207 / 15 = 13.8\n",
    "\n",
    "Median (The numbers need to be checked if it's in ascending order)\n",
    "    Median = 5, 8, 10, 12, 12, 12, 13, 14, 14, 15, 16, 18, 18, 20, 20\n",
    "    Median = 14\n",
    "\n",
    "Mode = 12 (The most occurred value)\n",
    "\n",
    "\n",
    "2. If the lowest score (5) was to be 10 (due to mistake made), the **mean** would change to **14.13**\n",
    "\n",
    "As for the median, one would need to re-arrange the numbers in ascending numbers:\n",
    "8, 10, 10, 12, 12, 12, 13, 14, 14, 15, 16, 18, 18, 20, 20. After checking the list, there's no change and the median remains **14**\n",
    "\n",
    "For Mode, it remains the same as the value \"**10**\" occured twice while **12** occurred three times."
   ]
  },
  {
   "cell_type": "markdown",
   "id": "efdec375",
   "metadata": {},
   "source": [
    "**2: Daily Commute Times**\n",
    "A group of 9 students reported the time (in minutes) it takes them to get to school each day:\n",
    " 15, 20, 20, 25, 25, 30, 60, 65, 120\n",
    "1. Find the mean, median, and mode of the data.\n",
    "\n",
    "2. Which measure (mean, median, or mode) do you think best represents the “typical” time it takes students to get to school? Why?\n",
    " (Hint: Think about the effect of the student who takes 120 minutes.)\n",
    "\n",
    "\n",
    " #### **Answers**\n",
    "1. Mean = 15 + 20 + 20 + 25 + 25 + 30 + 60 + 65 + 120 / 9 \n",
    "    Mean = 380 / 9 = **42.22**\n",
    "\n",
    "    Median = 25 \n",
    "\n",
    "    Mode = 20 and 25 (they occurred twice)\n",
    "\n",
    "2. Median is the best practice for this measure as outliers does have affect over other values which is not ideal enough."
   ]
  },
  {
   "cell_type": "markdown",
   "id": "d5906b6f",
   "metadata": {},
   "source": [
    "**3: Shoe Sizes**\n",
    "The shoe sizes of students in a class are:\n",
    " 38, 39, 38, 40, 41, 42, 39, 39, 40, 38, 37, 39, 40, 41, 42\n",
    "\n",
    "1. Find the mode of the data.\n",
    "\n",
    "2. If a shoe company wants to donate free shoes, which size should they produce most of? Why?\n",
    "\n",
    "3. What if they only want to produce one size that would fit the \"average\" student? Should they use mean, median, or mode? Defend your answer.\n",
    "\n",
    "\n",
    "#### **Answers**\n",
    "1. Mode = **39**\n",
    "\n",
    "2. Size **39** should be produced the most as it is the only size with most occurrence in the class.\n",
    "\n",
    "3. They should use mean as it shows the average value for the shoe size in the class unlike other methods like median that only gives the middle value and mode that gives the most occurrences."
   ]
  }
 ],
 "metadata": {
  "language_info": {
   "name": "python"
  }
 },
 "nbformat": 4,
 "nbformat_minor": 5
}
