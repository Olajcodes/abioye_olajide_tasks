{
 "cells": [
  {
   "cell_type": "markdown",
   "id": "a6e8f3a3",
   "metadata": {},
   "source": [
    "# **CLASS TASK 5**\n",
    "### **Types of Hypothesis Testing**\n",
    "\n",
    "Given the following Concepts:\n",
    "- Chi-square test (for categorical data)\n",
    "- ANOVA (for comparing more than two means)\n",
    "- Two Tailed Tests\n",
    "- Proportion Tests"
   ]
  },
  {
   "cell_type": "markdown",
   "id": "cfb518ac",
   "metadata": {},
   "source": [
    "### **Chi-square test**\n",
    "\n",
    "Chi-Square test helps one to determine **if there is a significant relationship between two categotical variables** and the corresponding target variable. It does not follow the normal distribution because it is not a parametric statistical test. Imagine we have list of frequencies of gender (Male and Female) and we are trying to find the relationship between gender against features like highest level of education.\n",
    "\n",
    "Chi-square test compares the observed frequencies (actual data) to the expected frequencies (what we would expect if there was no relationship).\n"
   ]
  },
  {
   "cell_type": "markdown",
   "id": "fe0b34f7",
   "metadata": {},
   "source": [
    "### **ANOVA**\n",
    "\n",
    "Analysis of Variance (ANOVA) is a statistical method that simultaneously compares `means` across several groups to determine if observed differences are due to chance or reflect genuine distinctions.\n",
    "\n",
    "Generally, there are three conditions one must check on the data before performing ANOVA:\n",
    "\n",
    "- the observations are independent within and across groups,\n",
    "- the data within each group are nearly normal, and\n",
    "- the variability across the groups is about equal.\n",
    "\n",
    "When these three conditions are met, one may perform an ANOVA to determine whether the data provide strong evidence against the null hypothesis that all the `means` are equal."
   ]
  },
  {
   "cell_type": "markdown",
   "id": "6502d901",
   "metadata": {},
   "source": [
    "### **Two Tailed Tests**\n",
    "\n",
    "It evaluates whether a sample significantly differs from a population mean, either exceeding or falling short. When the sample mean falls within critical regions on either distribution tail, it signifies a departure from the population mean, prompting the rejection of the null hypothesis for the alternative.\n",
    "\n",
    "- A typical example of application of two-tailed test can be seen in production, like during candy packaging at a facility. If the target is 50 candies per bag, bags with fewer than 45 or more than 55 candies are rejected."
   ]
  },
  {
   "cell_type": "markdown",
   "id": "fefd06c6",
   "metadata": {},
   "source": [
    "### **Proportion Tests**\n",
    "\n",
    "It is a statistical method used to determine whether the difference between the proportions of two groups, is statistically significant. It is based on the formula `( p ^ 1 - p ^ 2 ) P Q × ( 1 n 1 + 1 n 2 )` and is related to the two-proportion test and chi-square test."
   ]
  }
 ],
 "metadata": {
  "language_info": {
   "name": "python"
  }
 },
 "nbformat": 4,
 "nbformat_minor": 5
}
