{
 "cells": [
  {
   "cell_type": "markdown",
   "id": "f3aaf9de",
   "metadata": {},
   "source": [
    "#### **Possum Dataset Task**"
   ]
  },
  {
   "cell_type": "code",
   "execution_count": null,
   "id": "f74094a4",
   "metadata": {},
   "outputs": [],
   "source": [
    "# Measure of Center\n"
   ]
  }
 ],
 "metadata": {
  "kernelspec": {
   "display_name": "a_env (3.13.7)",
   "language": "python",
   "name": "python3"
  },
  "language_info": {
   "name": "python",
   "version": "3.13.7"
  }
 },
 "nbformat": 4,
 "nbformat_minor": 5
}
