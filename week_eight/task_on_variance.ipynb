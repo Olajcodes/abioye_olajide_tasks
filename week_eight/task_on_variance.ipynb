{
 "cells": [
  {
   "cell_type": "markdown",
   "id": "c83a4f2c",
   "metadata": {},
   "source": [
    "### **Task on Measures of Spread**\n",
    "\n",
    "- Calculate the variance of the data points given in the Range Slides: \n",
    "\n",
    "The given data points are: {4, 8, 6, 5, 3}"
   ]
  },
  {
   "cell_type": "markdown",
   "id": "751e26e1",
   "metadata": {},
   "source": [
    "Recall that the formular for Variance is:\n",
    "\n",
    "$$\n",
    "Variance(\\sigma^2) = \\frac{\\sum_{i=1}^{N} (x_i - \\mu)^2}{n}\n",
    "$$"
   ]
  },
  {
   "cell_type": "markdown",
   "id": "a8f6de61",
   "metadata": {},
   "source": [
    "$\\mu = \\frac{4 + 8 + 6 + 5 + 3}{5} = 5.2$\n",
    "\n",
    "Therefore, the variance calculation will be done below:\n",
    "\n",
    "\n",
    "$\n",
    "Data\\qquad(x_i - \\mu)\\qquad(x_i - \\mu)^2\\end\n",
    "4\\qquad\n",
    "$"
   ]
  },
  {
   "cell_type": "markdown",
   "id": "0e938ada",
   "metadata": {},
   "source": [
    "    $$\n",
    "    E = mc^2 \\\\\n",
    "    F = ma\n",
    "    $$"
   ]
  }
 ],
 "metadata": {
  "language_info": {
   "name": "python"
  }
 },
 "nbformat": 4,
 "nbformat_minor": 5
}
