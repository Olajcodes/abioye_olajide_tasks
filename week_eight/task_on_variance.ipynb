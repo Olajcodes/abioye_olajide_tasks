{
 "cells": [
  {
   "cell_type": "markdown",
   "id": "c83a4f2c",
   "metadata": {},
   "source": [
    "### **Task on Measures of Spread**\n",
    "\n",
    "- Calculate the variance of the data points given in the Range Slides: \n",
    "\n",
    "The given data points are: {4, 8, 6, 5, 3}"
   ]
  },
  {
   "cell_type": "markdown",
   "id": "751e26e1",
   "metadata": {},
   "source": [
    "Recall that the formular for Variance is:\n",
    "\n",
    "$$\n",
    "Variance(\\sigma^2) = \\frac{\\sum_{i=1}^{N} (x_i - \\mu)^2}{n}\n",
    "$$"
   ]
  },
  {
   "cell_type": "markdown",
   "id": "a8f6de61",
   "metadata": {},
   "source": [
    "$\\mu = \\frac{4 + 8 + 6 + 5 + 3}{5} = 5.2$\n",
    "\n",
    "Therefore, the variance calculation will be done below:\n",
    "\n",
    "$(x_i - \\mu)$ = (4 - 5.2) + (8 - 5.2)  + (6 - 5.2) + (5 - 5.2) + (3 - 5.2)\n",
    "\n",
    "\n",
    "$(x_i - \\mu)^2$ = [(-1.2)**2 + (2.8)**2 + (0.8)**2 + (-0.2)**2 + (-2.2)**2]\n",
    "\n",
    "\n",
    "$(x_i - \\mu)^2$ = (1.44 + 7.84 + 0.64 + 0.04 + 4.84) = 14.8\n",
    "\n",
    "Therefore;\n",
    "\n",
    "$Variance(\\sigma^2)$ = 14.8 / 5 = 2.96\n",
    "\n"
   ]
  },
  {
   "cell_type": "markdown",
   "id": "0e938ada",
   "metadata": {},
   "source": [
    "   "
   ]
  }
 ],
 "metadata": {
  "language_info": {
   "name": "python"
  }
 },
 "nbformat": 4,
 "nbformat_minor": 5
}
